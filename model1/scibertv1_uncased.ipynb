{
 "cells": [
  {
   "cell_type": "code",
   "execution_count": 1,
   "metadata": {
    "execution": {
     "iopub.execute_input": "2020-08-22T15:15:12.257974Z",
     "iopub.status.busy": "2020-08-22T15:15:12.247754Z",
     "iopub.status.idle": "2020-08-22T15:15:44.469135Z",
     "shell.execute_reply": "2020-08-22T15:15:44.468562Z"
    },
    "papermill": {
     "duration": 32.260706,
     "end_time": "2020-08-22T15:15:44.469294",
     "exception": false,
     "start_time": "2020-08-22T15:15:12.208588",
     "status": "completed"
    },
    "tags": []
   },
   "outputs": [],
   "source": [
    "%load_ext autoreload\n",
    "%autoreload 2\n",
    "from IPython.core.interactiveshell import InteractiveShell\n",
    "InteractiveShell.ast_node_interactivity = \"all\"\n",
    "import sys\n",
    "sys.path.append('..')\n",
    "import pandas as pd\n",
    "pd.options.display.max_columns=1000\n",
    "pd.options.display.max_rows=1000\n",
    "import numpy as np\n",
    "from matplotlib import pyplot as plt\n",
    "%matplotlib inline\n",
    "\n",
    "\n",
    "import torch\n",
    "from torch.utils.data import DataLoader,Dataset\n",
    "import transformers\n",
    "from torch import nn\n",
    "from torch import optim\n",
    "import torch.nn.functional as F\n",
    "\n",
    "from tqdm import tqdm\n",
    "import random\n",
    "import gc\n",
    "from sklearn.metrics import f1_score\n",
    "\n",
    "from iterstrat.ml_stratifiers import MultilabelStratifiedKFold\n",
    "\n",
    "from dataset import BertDataV1\n",
    "from Engine import GpuEngine\n",
    "from utils import EarlyStopping,SlackWebhook"
   ]
  },
  {
   "cell_type": "code",
   "execution_count": 2,
   "metadata": {
    "execution": {
     "iopub.execute_input": "2020-08-22T15:15:44.553403Z",
     "iopub.status.busy": "2020-08-22T15:15:44.552568Z",
     "iopub.status.idle": "2020-08-22T15:15:44.955973Z",
     "shell.execute_reply": "2020-08-22T15:15:44.955435Z"
    },
    "papermill": {
     "duration": 0.447718,
     "end_time": "2020-08-22T15:15:44.956080",
     "exception": false,
     "start_time": "2020-08-22T15:15:44.508362",
     "status": "completed"
    },
    "tags": []
   },
   "outputs": [
    {
     "data": {
      "text/plain": [
       "<torch._C.Generator at 0x7f79ff052330>"
      ]
     },
     "execution_count": 2,
     "metadata": {},
     "output_type": "execute_result"
    }
   ],
   "source": [
    "seed = 100\n",
    "random.seed(seed)\n",
    "\n",
    "torch.manual_seed(seed)\n",
    "torch.backends.cudnn.deterministic = True\n",
    "if torch.cuda.is_available(): torch.cuda.manual_seed_all(seed)\n",
    "\n",
    "np.random.seed(seed)"
   ]
  },
  {
   "cell_type": "code",
   "execution_count": 3,
   "metadata": {},
   "outputs": [],
   "source": [
    "DATA_DIR = '../'"
   ]
  },
  {
   "cell_type": "code",
   "execution_count": 4,
   "metadata": {
    "execution": {
     "iopub.execute_input": "2020-08-22T15:15:45.050636Z",
     "iopub.status.busy": "2020-08-22T15:15:45.049794Z",
     "iopub.status.idle": "2020-08-22T15:15:45.113338Z",
     "shell.execute_reply": "2020-08-22T15:15:45.113781Z"
    },
    "papermill": {
     "duration": 0.117417,
     "end_time": "2020-08-22T15:15:45.113908",
     "exception": false,
     "start_time": "2020-08-22T15:15:44.996491",
     "status": "completed"
    },
    "tags": []
   },
   "outputs": [
    {
     "data": {
      "text/plain": [
       "device(type='cuda')"
      ]
     },
     "execution_count": 4,
     "metadata": {},
     "output_type": "execute_result"
    }
   ],
   "source": [
    "device = torch.device(\"cuda\") if torch.cuda.is_available() else torch.device(\"cpu\")\n",
    "device"
   ]
  },
  {
   "cell_type": "code",
   "execution_count": 5,
   "metadata": {
    "execution": {
     "iopub.execute_input": "2020-08-22T15:15:45.198854Z",
     "iopub.status.busy": "2020-08-22T15:15:45.197873Z",
     "iopub.status.idle": "2020-08-22T15:15:45.266429Z",
     "shell.execute_reply": "2020-08-22T15:15:45.265874Z"
    },
    "papermill": {
     "duration": 0.111227,
     "end_time": "2020-08-22T15:15:45.266526",
     "exception": false,
     "start_time": "2020-08-22T15:15:45.155299",
     "status": "completed"
    },
    "tags": []
   },
   "outputs": [],
   "source": [
    "webhook_url = \"YOUR SLACK WEBHOOK\"\n",
    "slack_loggger = SlackWebhook(webhook_url,verbose=True)"
   ]
  },
  {
   "cell_type": "code",
   "execution_count": 6,
   "metadata": {
    "execution": {
     "iopub.execute_input": "2020-08-22T15:15:45.508173Z",
     "iopub.status.busy": "2020-08-22T15:15:45.507378Z",
     "iopub.status.idle": "2020-08-22T15:15:45.886091Z",
     "shell.execute_reply": "2020-08-22T15:15:45.885528Z"
    },
    "papermill": {
     "duration": 0.423888,
     "end_time": "2020-08-22T15:15:45.886198",
     "exception": false,
     "start_time": "2020-08-22T15:15:45.462310",
     "status": "completed"
    },
    "tags": []
   },
   "outputs": [],
   "source": [
    "train = pd.read_csv(DATA_DIR + 'train.csv')\n",
    "test = pd.read_csv(DATA_DIR + 'test.csv')\n",
    "\n",
    "train.ABSTRACT = train.ABSTRACT.str.replace('\\n',' ').str.strip().str.lower()\n",
    "train.TITLE = train.TITLE.str.replace('\\n',' ').str.strip().str.lower()\n",
    "\n",
    "test.ABSTRACT = test.ABSTRACT.str.replace('\\n',' ').str.strip().str.lower()\n",
    "test.TITLE = test.TITLE.str.replace('\\n',' ').str.strip().str.lower()'"
   ]
  },
  {
   "cell_type": "code",
   "execution_count": 11,
   "metadata": {
    "execution": {
     "iopub.execute_input": "2020-08-22T15:15:46.805273Z",
     "iopub.status.busy": "2020-08-22T15:15:46.804460Z",
     "iopub.status.idle": "2020-08-22T15:15:51.584767Z",
     "shell.execute_reply": "2020-08-22T15:15:51.583691Z"
    },
    "papermill": {
     "duration": 4.8269,
     "end_time": "2020-08-22T15:15:51.584888",
     "exception": false,
     "start_time": "2020-08-22T15:15:46.757988",
     "status": "completed"
    },
    "tags": []
   },
   "outputs": [
    {
     "data": {
      "application/vnd.jupyter.widget-view+json": {
       "model_id": "d324d2d369ba49f686bd26f103293656",
       "version_major": 2,
       "version_minor": 0
      },
      "text/plain": [
       "HBox(children=(FloatProgress(value=0.0, description='Downloading', max=385.0, style=ProgressStyle(description_…"
      ]
     },
     "metadata": {},
     "output_type": "display_data"
    },
    {
     "name": "stdout",
     "output_type": "stream",
     "text": [
      "\n"
     ]
    },
    {
     "data": {
      "application/vnd.jupyter.widget-view+json": {
       "model_id": "5112a39436a14bc7a54901a4db8dbafa",
       "version_major": 2,
       "version_minor": 0
      },
      "text/plain": [
       "HBox(children=(FloatProgress(value=0.0, description='Downloading', max=227845.0, style=ProgressStyle(descripti…"
      ]
     },
     "metadata": {},
     "output_type": "display_data"
    },
    {
     "name": "stdout",
     "output_type": "stream",
     "text": [
      "\n"
     ]
    }
   ],
   "source": [
    "BERT_TYPE = 'allenai/scibert_scivocab_uncased'\n",
    "BERT_CONFIG = transformers.AutoConfig.from_pretrained(BERT_TYPE)\n",
    "BERT_CONFIG.output_hidden_states = True\n",
    "BERT_TOKENIZER = transformers.AutoTokenizer.from_pretrained(BERT_TYPE)\n",
    "BERT_TOKENIZER.model_max_length = 512\n",
    "\n",
    "TARGET_COLS = ['Computer Science','Physics','Mathematics','Statistics','Quantitative Biology','Quantitative Finance']\n",
    "TRAIN_BATCH_SIZE = 16\n",
    "VAL_BATCH_SIZE = 16\n",
    "NUM_WORKERS = 0"
   ]
  },
  {
   "cell_type": "code",
   "execution_count": 9,
   "metadata": {
    "execution": {
     "iopub.execute_input": "2020-08-22T15:15:51.700804Z",
     "iopub.status.busy": "2020-08-22T15:15:51.699838Z",
     "iopub.status.idle": "2020-08-22T15:15:51.771048Z",
     "shell.execute_reply": "2020-08-22T15:15:51.771549Z"
    },
    "papermill": {
     "duration": 0.143851,
     "end_time": "2020-08-22T15:15:51.771722",
     "exception": false,
     "start_time": "2020-08-22T15:15:51.627871",
     "status": "completed"
    },
    "tags": []
   },
   "outputs": [],
   "source": [
    "class BertForPaperClassificationV1(nn.Module):\n",
    "    \n",
    "    def __init__(self,arch_type,config):\n",
    "        \n",
    "        super().__init__()\n",
    "        self.arch_type = arch_type\n",
    "        self.config = config        \n",
    "        self.bert = transformers.AutoModel.from_pretrained(arch_type,config = config)\n",
    "        self.cs = nn.Linear(768,2)\n",
    "        self.phy = nn.Linear(768,2)        \n",
    "        self.math = nn.Linear(768,2)        \n",
    "        self.stat = nn.Linear(768,2)        \n",
    "        self.bio = nn.Linear(768,2)               \n",
    "        self.fin = nn.Linear(768,2)\n",
    "        self.pool = nn.AdaptiveAvgPool1d(1)\n",
    "    \n",
    "    def forward(self,input_ids,token_type_ids,attention_mask):\n",
    "        \n",
    "        emb = self.bert(input_ids = input_ids, token_type_ids = token_type_ids , attention_mask = attention_mask)\n",
    "        \n",
    "        pooled_output = self.pool(emb[0].permute(0,2,1)).squeeze(-1)\n",
    "        \n",
    "        output = {}\n",
    "        \n",
    "        output['cs'] = self.cs(pooled_output)\n",
    "        output['phy'] = self.phy(pooled_output)        \n",
    "        output['math'] = self.math(pooled_output)        \n",
    "        output['stat'] = self.stat(pooled_output)        \n",
    "        output['bio'] = self.bio(pooled_output)                \n",
    "        output['fin'] = self.fin(pooled_output)                \n",
    "                \n",
    "        return output"
   ]
  },
  {
   "cell_type": "code",
   "execution_count": 10,
   "metadata": {
    "execution": {
     "iopub.execute_input": "2020-08-22T15:15:51.866043Z",
     "iopub.status.busy": "2020-08-22T15:15:51.865171Z",
     "iopub.status.idle": "2020-08-22T15:15:51.932830Z",
     "shell.execute_reply": "2020-08-22T15:15:51.932240Z"
    },
    "papermill": {
     "duration": 0.115827,
     "end_time": "2020-08-22T15:15:51.932939",
     "exception": false,
     "start_time": "2020-08-22T15:15:51.817112",
     "status": "completed"
    },
    "tags": []
   },
   "outputs": [],
   "source": [
    "def AvgLoss(preds,targets):\n",
    "    loss_ = nn.CrossEntropyLoss()\n",
    "    return torch.stack([loss_(x[0],x[1]) for x in list(zip(preds,targets))]).mean()    \n",
    "    "
   ]
  },
  {
   "cell_type": "code",
   "execution_count": 11,
   "metadata": {
    "execution": {
     "iopub.execute_input": "2020-08-22T15:15:52.029330Z",
     "iopub.status.busy": "2020-08-22T15:15:52.028447Z",
     "iopub.status.idle": "2020-08-22T15:15:52.899410Z",
     "shell.execute_reply": "2020-08-22T15:15:52.898135Z"
    },
    "papermill": {
     "duration": 0.919026,
     "end_time": "2020-08-22T15:15:52.899561",
     "exception": false,
     "start_time": "2020-08-22T15:15:51.980535",
     "status": "completed"
    },
    "tags": []
   },
   "outputs": [],
   "source": [
    "folds = MultilabelStratifiedKFold(n_splits=5, random_state=100,shuffle=True)\n",
    "folds = [(x,y) for x,y in folds.split(train['ID'],train[['Computer Science','Physics','Mathematics','Statistics','Quantitative Biology','Quantitative Finance']])]                                  "
   ]
  },
  {
   "cell_type": "code",
   "execution_count": 12,
   "metadata": {
    "execution": {
     "iopub.execute_input": "2020-08-22T15:15:53.056116Z",
     "iopub.status.busy": "2020-08-22T15:15:53.055279Z",
     "iopub.status.idle": "2020-08-22T15:15:53.132346Z",
     "shell.execute_reply": "2020-08-22T15:15:53.131473Z"
    },
    "papermill": {
     "duration": 0.168549,
     "end_time": "2020-08-22T15:15:53.132466",
     "exception": false,
     "start_time": "2020-08-22T15:15:52.963917",
     "status": "completed"
    },
    "tags": []
   },
   "outputs": [
    {
     "data": {
      "text/plain": [
       "[(16768, 4204), (16787, 4185), (16767, 4205), (16810, 4162), (16756, 4216)]"
      ]
     },
     "execution_count": 12,
     "metadata": {},
     "output_type": "execute_result"
    }
   ],
   "source": [
    "[(len(x),len(y)) for x,y in folds]"
   ]
  },
  {
   "cell_type": "code",
   "execution_count": 13,
   "metadata": {
    "execution": {
     "iopub.execute_input": "2020-08-22T15:15:53.223559Z",
     "iopub.status.busy": "2020-08-22T15:15:53.222743Z",
     "iopub.status.idle": "2020-08-22T15:15:53.292069Z",
     "shell.execute_reply": "2020-08-22T15:15:53.291590Z"
    },
    "papermill": {
     "duration": 0.116333,
     "end_time": "2020-08-22T15:15:53.292170",
     "exception": false,
     "start_time": "2020-08-22T15:15:53.175837",
     "status": "completed"
    },
    "tags": []
   },
   "outputs": [
    {
     "data": {
      "text/html": [
       "<div>\n",
       "<style scoped>\n",
       "    .dataframe tbody tr th:only-of-type {\n",
       "        vertical-align: middle;\n",
       "    }\n",
       "\n",
       "    .dataframe tbody tr th {\n",
       "        vertical-align: top;\n",
       "    }\n",
       "\n",
       "    .dataframe thead th {\n",
       "        text-align: right;\n",
       "    }\n",
       "</style>\n",
       "<table border=\"1\" class=\"dataframe\">\n",
       "  <thead>\n",
       "    <tr style=\"text-align: right;\">\n",
       "      <th></th>\n",
       "      <th>ID</th>\n",
       "      <th>TITLE</th>\n",
       "      <th>ABSTRACT</th>\n",
       "      <th>Computer Science</th>\n",
       "      <th>Physics</th>\n",
       "      <th>Mathematics</th>\n",
       "      <th>Statistics</th>\n",
       "      <th>Quantitative Biology</th>\n",
       "      <th>Quantitative Finance</th>\n",
       "    </tr>\n",
       "  </thead>\n",
       "  <tbody>\n",
       "    <tr>\n",
       "      <td>0</td>\n",
       "      <td>1</td>\n",
       "      <td>Reconstructing Subject-Specific Effect Maps</td>\n",
       "      <td>Predictive models allow subject-specific inf...</td>\n",
       "      <td>1</td>\n",
       "      <td>0</td>\n",
       "      <td>0</td>\n",
       "      <td>0</td>\n",
       "      <td>0</td>\n",
       "      <td>0</td>\n",
       "    </tr>\n",
       "    <tr>\n",
       "      <td>1</td>\n",
       "      <td>2</td>\n",
       "      <td>Rotation Invariance Neural Network</td>\n",
       "      <td>Rotation invariance and translation invarian...</td>\n",
       "      <td>1</td>\n",
       "      <td>0</td>\n",
       "      <td>0</td>\n",
       "      <td>0</td>\n",
       "      <td>0</td>\n",
       "      <td>0</td>\n",
       "    </tr>\n",
       "    <tr>\n",
       "      <td>2</td>\n",
       "      <td>3</td>\n",
       "      <td>Spherical polyharmonics and Poisson kernels fo...</td>\n",
       "      <td>We introduce and develop the notion of spher...</td>\n",
       "      <td>0</td>\n",
       "      <td>0</td>\n",
       "      <td>1</td>\n",
       "      <td>0</td>\n",
       "      <td>0</td>\n",
       "      <td>0</td>\n",
       "    </tr>\n",
       "    <tr>\n",
       "      <td>3</td>\n",
       "      <td>4</td>\n",
       "      <td>A finite element approximation for the stochas...</td>\n",
       "      <td>The stochastic Landau--Lifshitz--Gilbert (LL...</td>\n",
       "      <td>0</td>\n",
       "      <td>0</td>\n",
       "      <td>1</td>\n",
       "      <td>0</td>\n",
       "      <td>0</td>\n",
       "      <td>0</td>\n",
       "    </tr>\n",
       "    <tr>\n",
       "      <td>4</td>\n",
       "      <td>5</td>\n",
       "      <td>Comparative study of Discrete Wavelet Transfor...</td>\n",
       "      <td>Fourier-transform infra-red (FTIR) spectra o...</td>\n",
       "      <td>1</td>\n",
       "      <td>0</td>\n",
       "      <td>0</td>\n",
       "      <td>1</td>\n",
       "      <td>0</td>\n",
       "      <td>0</td>\n",
       "    </tr>\n",
       "  </tbody>\n",
       "</table>\n",
       "</div>"
      ],
      "text/plain": [
       "   ID                                              TITLE  \\\n",
       "0   1        Reconstructing Subject-Specific Effect Maps   \n",
       "1   2                 Rotation Invariance Neural Network   \n",
       "2   3  Spherical polyharmonics and Poisson kernels fo...   \n",
       "3   4  A finite element approximation for the stochas...   \n",
       "4   5  Comparative study of Discrete Wavelet Transfor...   \n",
       "\n",
       "                                            ABSTRACT  Computer Science  \\\n",
       "0    Predictive models allow subject-specific inf...                 1   \n",
       "1    Rotation invariance and translation invarian...                 1   \n",
       "2    We introduce and develop the notion of spher...                 0   \n",
       "3    The stochastic Landau--Lifshitz--Gilbert (LL...                 0   \n",
       "4    Fourier-transform infra-red (FTIR) spectra o...                 1   \n",
       "\n",
       "   Physics  Mathematics  Statistics  Quantitative Biology  \\\n",
       "0        0            0           0                     0   \n",
       "1        0            0           0                     0   \n",
       "2        0            1           0                     0   \n",
       "3        0            1           0                     0   \n",
       "4        0            0           1                     0   \n",
       "\n",
       "   Quantitative Finance  \n",
       "0                     0  \n",
       "1                     0  \n",
       "2                     0  \n",
       "3                     0  \n",
       "4                     0  "
      ]
     },
     "execution_count": 13,
     "metadata": {},
     "output_type": "execute_result"
    }
   ],
   "source": [
    "train.head()"
   ]
  },
  {
   "cell_type": "code",
   "execution_count": 17,
   "metadata": {
    "execution": {
     "iopub.execute_input": "2020-08-22T15:15:53.389064Z",
     "iopub.status.busy": "2020-08-22T15:15:53.386619Z",
     "iopub.status.idle": "2020-08-22T21:14:53.827002Z",
     "shell.execute_reply": "2020-08-22T21:14:53.825877Z"
    },
    "papermill": {
     "duration": 21540.491752,
     "end_time": "2020-08-22T21:14:53.827124",
     "exception": false,
     "start_time": "2020-08-22T15:15:53.335372",
     "status": "completed"
    },
    "tags": []
   },
   "outputs": [
    {
     "data": {
      "application/vnd.jupyter.widget-view+json": {
       "model_id": "f7f0b906c7504493bf148a6e5852c8c2",
       "version_major": 2,
       "version_minor": 0
      },
      "text/plain": [
       "HBox(children=(FloatProgress(value=0.0, description='Downloading', max=442221694.0, style=ProgressStyle(descri…"
      ]
     },
     "metadata": {},
     "output_type": "display_data"
    },
    {
     "name": "stdout",
     "output_type": "stream",
     "text": [
      "\n"
     ]
    },
    {
     "name": "stderr",
     "output_type": "stream",
     "text": [
      "100%|██████████| 1048/1048 [16:10<00:00,  1.08it/s]\n",
      "100%|██████████| 263/263 [01:33<00:00,  2.80it/s]\n"
     ]
    },
    {
     "name": "stdout",
     "output_type": "stream",
     "text": [
      "Epoch: 0 train loss: 0.17350908507813365 train_metric: 0.8212357381935453 val_loss: 0.15358216777004366 val_metric: 0.8458260701142747 time 17.75\n"
     ]
    },
    {
     "name": "stderr",
     "output_type": "stream",
     "text": [
      "  0%|          | 0/1048 [00:00<?, ?it/s]"
     ]
    },
    {
     "name": "stdout",
     "output_type": "stream",
     "text": [
      "200\n"
     ]
    },
    {
     "name": "stderr",
     "output_type": "stream",
     "text": [
      "100%|██████████| 1048/1048 [16:12<00:00,  1.08it/s]\n",
      "100%|██████████| 263/263 [01:34<00:00,  2.79it/s]\n"
     ]
    },
    {
     "name": "stdout",
     "output_type": "stream",
     "text": [
      "Epoch: 1 train loss: 0.13244181079079062 train_metric: 0.8660321408073465 val_loss: 0.1490715665266017 val_metric: 0.8537638445654214 time 17.79\n"
     ]
    },
    {
     "name": "stderr",
     "output_type": "stream",
     "text": [
      "  0%|          | 0/1048 [00:00<?, ?it/s]"
     ]
    },
    {
     "name": "stdout",
     "output_type": "stream",
     "text": [
      "200\n"
     ]
    },
    {
     "name": "stderr",
     "output_type": "stream",
     "text": [
      "100%|██████████| 1048/1048 [16:13<00:00,  1.08it/s]\n",
      "100%|██████████| 263/263 [01:34<00:00,  2.77it/s]\n"
     ]
    },
    {
     "name": "stdout",
     "output_type": "stream",
     "text": [
      "Epoch: 2 train loss: 0.1075408216761354 train_metric: 0.8927161139921025 val_loss: 0.16031292103564138 val_metric: 0.8486297590583042 time 17.81\n"
     ]
    },
    {
     "name": "stderr",
     "output_type": "stream",
     "text": [
      "  0%|          | 0/1048 [00:00<?, ?it/s]"
     ]
    },
    {
     "name": "stdout",
     "output_type": "stream",
     "text": [
      "200\n"
     ]
    },
    {
     "name": "stderr",
     "output_type": "stream",
     "text": [
      "100%|██████████| 1048/1048 [16:14<00:00,  1.07it/s]\n",
      "100%|██████████| 263/263 [01:34<00:00,  2.78it/s]\n"
     ]
    },
    {
     "name": "stdout",
     "output_type": "stream",
     "text": [
      "Epoch     4: reducing learning rate of group 0 to 5.0000e-06.\n",
      "Epoch: 3 train loss: 0.08183456859542483 train_metric: 0.9206107596441993 val_loss: 0.17513194620665995 val_metric: 0.84477335800185 time 17.82\n",
      "200\n"
     ]
    },
    {
     "name": "stderr",
     "output_type": "stream",
     "text": [
      "100%|██████████| 1049/1049 [16:16<00:00,  1.07it/s]\n",
      "100%|██████████| 262/262 [01:34<00:00,  2.76it/s]\n"
     ]
    },
    {
     "name": "stdout",
     "output_type": "stream",
     "text": [
      "Epoch: 0 train loss: 0.17192953024894084 train_metric: 0.8240609583353686 val_loss: 0.15029854557989888 val_metric: 0.8504646038892614 time 17.87\n"
     ]
    },
    {
     "name": "stderr",
     "output_type": "stream",
     "text": [
      "  0%|          | 0/1049 [00:00<?, ?it/s]"
     ]
    },
    {
     "name": "stdout",
     "output_type": "stream",
     "text": [
      "200\n"
     ]
    },
    {
     "name": "stderr",
     "output_type": "stream",
     "text": [
      "100%|██████████| 1049/1049 [16:17<00:00,  1.07it/s]\n",
      "100%|██████████| 262/262 [01:34<00:00,  2.77it/s]\n"
     ]
    },
    {
     "name": "stdout",
     "output_type": "stream",
     "text": [
      "Epoch: 1 train loss: 0.13200311879454282 train_metric: 0.8674364675225321 val_loss: 0.1524349519535632 val_metric: 0.8476236197791648 time 17.87\n"
     ]
    },
    {
     "name": "stderr",
     "output_type": "stream",
     "text": [
      "  0%|          | 0/1049 [00:00<?, ?it/s]"
     ]
    },
    {
     "name": "stdout",
     "output_type": "stream",
     "text": [
      "200\n"
     ]
    },
    {
     "name": "stderr",
     "output_type": "stream",
     "text": [
      "100%|██████████| 1049/1049 [16:20<00:00,  1.07it/s]\n",
      "100%|██████████| 262/262 [01:34<00:00,  2.78it/s]\n"
     ]
    },
    {
     "name": "stdout",
     "output_type": "stream",
     "text": [
      "Epoch     3: reducing learning rate of group 0 to 5.0000e-06.\n",
      "Epoch: 2 train loss: 0.10670405047971425 train_metric: 0.8958536295592253 val_loss: 0.166552125731107 val_metric: 0.8452018278750952 time 17.91\n"
     ]
    },
    {
     "name": "stderr",
     "output_type": "stream",
     "text": [
      "  0%|          | 0/1049 [00:00<?, ?it/s]"
     ]
    },
    {
     "name": "stdout",
     "output_type": "stream",
     "text": [
      "200\n"
     ]
    },
    {
     "name": "stderr",
     "output_type": "stream",
     "text": [
      "100%|██████████| 1049/1049 [16:22<00:00,  1.07it/s]\n",
      "100%|██████████| 262/262 [01:35<00:00,  2.75it/s]\n"
     ]
    },
    {
     "name": "stdout",
     "output_type": "stream",
     "text": [
      "Epoch: 3 train loss: 0.07591896035395086 train_metric: 0.9279612756264237 val_loss: 0.176422429789779 val_metric: 0.8462336193080041 time 17.97\n",
      "200\n"
     ]
    },
    {
     "name": "stderr",
     "output_type": "stream",
     "text": [
      "100%|██████████| 1047/1047 [16:20<00:00,  1.07it/s]\n",
      "100%|██████████| 263/263 [01:34<00:00,  2.77it/s]\n"
     ]
    },
    {
     "name": "stdout",
     "output_type": "stream",
     "text": [
      "Epoch: 0 train loss: 0.17420810645351892 train_metric: 0.8212652532218226 val_loss: 0.15009901312386947 val_metric: 0.8455377574370709 time 17.93\n"
     ]
    },
    {
     "name": "stderr",
     "output_type": "stream",
     "text": [
      "  0%|          | 0/1047 [00:00<?, ?it/s]"
     ]
    },
    {
     "name": "stdout",
     "output_type": "stream",
     "text": [
      "200\n"
     ]
    },
    {
     "name": "stderr",
     "output_type": "stream",
     "text": [
      "100%|██████████| 1047/1047 [16:19<00:00,  1.07it/s]\n",
      "100%|██████████| 263/263 [01:35<00:00,  2.76it/s]\n"
     ]
    },
    {
     "name": "stdout",
     "output_type": "stream",
     "text": [
      "Epoch: 1 train loss: 0.13291787497393268 train_metric: 0.8653049495941189 val_loss: 0.15041573071734943 val_metric: 0.8477033132530121 time 17.92\n"
     ]
    },
    {
     "name": "stderr",
     "output_type": "stream",
     "text": [
      "  0%|          | 0/1047 [00:00<?, ?it/s]"
     ]
    },
    {
     "name": "stdout",
     "output_type": "stream",
     "text": [
      "200\n"
     ]
    },
    {
     "name": "stderr",
     "output_type": "stream",
     "text": [
      "100%|██████████| 1047/1047 [16:15<00:00,  1.07it/s]\n",
      "100%|██████████| 263/263 [01:34<00:00,  2.77it/s]\n"
     ]
    },
    {
     "name": "stdout",
     "output_type": "stream",
     "text": [
      "Epoch: 2 train loss: 0.10844716743709308 train_metric: 0.8926174496644296 val_loss: 0.15421771168992296 val_metric: 0.8485632449413287 time 17.86\n"
     ]
    },
    {
     "name": "stderr",
     "output_type": "stream",
     "text": [
      "  0%|          | 0/1047 [00:00<?, ?it/s]"
     ]
    },
    {
     "name": "stdout",
     "output_type": "stream",
     "text": [
      "200\n"
     ]
    },
    {
     "name": "stderr",
     "output_type": "stream",
     "text": [
      "100%|██████████| 1047/1047 [16:16<00:00,  1.07it/s]\n",
      "100%|██████████| 263/263 [01:34<00:00,  2.78it/s]\n"
     ]
    },
    {
     "name": "stdout",
     "output_type": "stream",
     "text": [
      "Epoch: 3 train loss: 0.08473418082654077 train_metric: 0.9173439802271971 val_loss: 0.16865629635299428 val_metric: 0.8413581431037791 time 17.86\n",
      "200\n"
     ]
    },
    {
     "name": "stderr",
     "output_type": "stream",
     "text": [
      "100%|██████████| 1050/1050 [16:19<00:00,  1.07it/s]\n",
      "100%|██████████| 261/261 [01:35<00:00,  2.75it/s]\n"
     ]
    },
    {
     "name": "stdout",
     "output_type": "stream",
     "text": [
      "Epoch: 0 train loss: 0.17356191553175448 train_metric: 0.8220109027794754 val_loss: 0.15057329516293966 val_metric: 0.8466233892064723 time 17.91\n"
     ]
    },
    {
     "name": "stderr",
     "output_type": "stream",
     "text": [
      "  0%|          | 0/1050 [00:00<?, ?it/s]"
     ]
    },
    {
     "name": "stdout",
     "output_type": "stream",
     "text": [
      "200\n"
     ]
    },
    {
     "name": "stderr",
     "output_type": "stream",
     "text": [
      "100%|██████████| 1050/1050 [16:20<00:00,  1.07it/s]\n",
      "100%|██████████| 261/261 [01:34<00:00,  2.76it/s]\n"
     ]
    },
    {
     "name": "stdout",
     "output_type": "stream",
     "text": [
      "Epoch: 1 train loss: 0.13228348706981966 train_metric: 0.8673579348164469 val_loss: 0.1544725644075057 val_metric: 0.8452872699962448 time 17.91\n"
     ]
    },
    {
     "name": "stderr",
     "output_type": "stream",
     "text": [
      "  0%|          | 0/1050 [00:00<?, ?it/s]"
     ]
    },
    {
     "name": "stdout",
     "output_type": "stream",
     "text": [
      "200\n"
     ]
    },
    {
     "name": "stderr",
     "output_type": "stream",
     "text": [
      "100%|██████████| 1050/1050 [16:26<00:00,  1.06it/s]\n",
      "100%|██████████| 261/261 [01:35<00:00,  2.74it/s]\n"
     ]
    },
    {
     "name": "stdout",
     "output_type": "stream",
     "text": [
      "Epoch: 2 train loss: 0.10694155103926148 train_metric: 0.8931645328183487 val_loss: 0.1616087316735462 val_metric: 0.8484156437339424 time 18.04\n"
     ]
    },
    {
     "name": "stderr",
     "output_type": "stream",
     "text": [
      "  0%|          | 0/1050 [00:00<?, ?it/s]"
     ]
    },
    {
     "name": "stdout",
     "output_type": "stream",
     "text": [
      "200\n"
     ]
    },
    {
     "name": "stderr",
     "output_type": "stream",
     "text": [
      "100%|██████████| 1050/1050 [16:26<00:00,  1.06it/s]\n",
      "100%|██████████| 261/261 [01:35<00:00,  2.74it/s]\n"
     ]
    },
    {
     "name": "stdout",
     "output_type": "stream",
     "text": [
      "Epoch: 3 train loss: 0.08154494652968078 train_metric: 0.9229744199881024 val_loss: 0.17440256127928316 val_metric: 0.8418449833571089 time 18.03\n",
      "200\n"
     ]
    },
    {
     "name": "stderr",
     "output_type": "stream",
     "text": [
      "100%|██████████| 1047/1047 [16:18<00:00,  1.07it/s]\n",
      "100%|██████████| 264/264 [01:36<00:00,  2.74it/s]\n"
     ]
    },
    {
     "name": "stdout",
     "output_type": "stream",
     "text": [
      "Epoch: 0 train loss: 0.17502667943109984 train_metric: 0.817126909518214 val_loss: 0.14777489945264197 val_metric: 0.8496744542320949 time 17.93\n"
     ]
    },
    {
     "name": "stderr",
     "output_type": "stream",
     "text": [
      "  0%|          | 0/1047 [00:00<?, ?it/s]"
     ]
    },
    {
     "name": "stdout",
     "output_type": "stream",
     "text": [
      "200\n"
     ]
    },
    {
     "name": "stderr",
     "output_type": "stream",
     "text": [
      "100%|██████████| 1047/1047 [16:18<00:00,  1.07it/s]\n",
      "100%|██████████| 264/264 [01:36<00:00,  2.75it/s]\n"
     ]
    },
    {
     "name": "stdout",
     "output_type": "stream",
     "text": [
      "Epoch: 1 train loss: 0.1331591594629808 train_metric: 0.865315110462194 val_loss: 0.1475137992138202 val_metric: 0.8517059106198943 time 17.93\n"
     ]
    },
    {
     "name": "stderr",
     "output_type": "stream",
     "text": [
      "  0%|          | 0/1047 [00:00<?, ?it/s]"
     ]
    },
    {
     "name": "stdout",
     "output_type": "stream",
     "text": [
      "200\n"
     ]
    },
    {
     "name": "stderr",
     "output_type": "stream",
     "text": [
      "100%|██████████| 1047/1047 [16:20<00:00,  1.07it/s]\n",
      "100%|██████████| 264/264 [01:36<00:00,  2.75it/s]\n"
     ]
    },
    {
     "name": "stdout",
     "output_type": "stream",
     "text": [
      "Epoch: 2 train loss: 0.1089160827814878 train_metric: 0.8915708538646481 val_loss: 0.15766628654903433 val_metric: 0.8506694129763132 time 17.93\n"
     ]
    },
    {
     "name": "stderr",
     "output_type": "stream",
     "text": [
      "  0%|          | 0/1047 [00:00<?, ?it/s]"
     ]
    },
    {
     "name": "stdout",
     "output_type": "stream",
     "text": [
      "200\n"
     ]
    },
    {
     "name": "stderr",
     "output_type": "stream",
     "text": [
      "100%|██████████| 1047/1047 [16:20<00:00,  1.07it/s]\n",
      "100%|██████████| 264/264 [01:35<00:00,  2.75it/s]\n"
     ]
    },
    {
     "name": "stdout",
     "output_type": "stream",
     "text": [
      "Epoch     4: reducing learning rate of group 0 to 5.0000e-06.\n",
      "Epoch: 3 train loss: 0.08203736020371304 train_metric: 0.920665083135392 val_loss: 0.17405243096360673 val_metric: 0.8459260674371955 time 17.93\n",
      "200\n"
     ]
    }
   ],
   "source": [
    "for i in [0,1,2,3,4]:\n",
    "    \n",
    "    train_df = BertDataV1(tokenizer=BERT_TOKENIZER,df = train.iloc[folds[i][0]], target_cols=TARGET_COLS)\n",
    "    val_df = BertDataV1(tokenizer=BERT_TOKENIZER,df = train.iloc[folds[i][1]], target_cols=TARGET_COLS)\n",
    "\n",
    "    train_dl = DataLoader(dataset=train_df,batch_size=TRAIN_BATCH_SIZE,num_workers=NUM_WORKERS,drop_last=True,shuffle=True)    \n",
    "    val_dl = DataLoader(dataset=val_df,batch_size=VAL_BATCH_SIZE,num_workers=NUM_WORKERS,drop_last=False,shuffle=False)    \n",
    "\n",
    "    early_stopping_rounds=5\n",
    "    maximize=True\n",
    "    num_epochs=4\n",
    "    max_lr=0.00001\n",
    "\n",
    "    mod = BertForPaperClassificationV1(arch_type=BERT_TYPE,config=BERT_CONFIG)\n",
    "\n",
    "    _ = mod.to(device)\n",
    "\n",
    "    optimizer = optim.AdamW(params=mod.parameters(),lr=max_lr)\n",
    "\n",
    "    schedular = optim.lr_scheduler.ReduceLROnPlateau(optimizer=optimizer,patience=1,factor=0.5,mode='max',min_lr=0.0000001,verbose=True)\n",
    "\n",
    "    es=EarlyStopping(patience=early_stopping_rounds,higher_is_better=maximize,tolerance=0.0001,\n",
    "                    save_path='scibert_uncased_V1_fold{}.path'.format(i),model=mod)    \n",
    "\n",
    "    fitter = GpuEngine(model = mod,device = device,optimizer= optimizer,schedular=schedular, slack_header='Scibert scivocab uncased maverick711 fold {}'.format(i),\n",
    "                       es = es,log_path='log_fold{}.txt'.format(i),num_epochs=num_epochs,\n",
    "                       slack_loggger=slack_loggger,criterion=AvgLoss)\n",
    "    \n",
    "    fitter.fit(train_dl,val_dl)"
   ]
  },
  {
   "cell_type": "markdown",
   "metadata": {},
   "source": [
    "---------------------------------------------"
   ]
  },
  {
   "cell_type": "markdown",
   "metadata": {},
   "source": [
    "### Inferencing"
   ]
  },
  {
   "cell_type": "code",
   "execution_count": 14,
   "metadata": {},
   "outputs": [],
   "source": [
    "def predict(test_dl,model,model_path=None):\n",
    "\n",
    "    if model_path is not None:\n",
    "        model.load_state_dict(torch.load(model_path))\n",
    "\n",
    "    model.eval()\n",
    "    with torch.no_grad():\n",
    "        pred_list=[]\n",
    "        tar_list=[]\n",
    "    for  data_ in tqdm(test_dl, total=len(test_dl)):        \n",
    "        input_ids = data_['input_ids'].to(device)                        \n",
    "        token_type_ids = data_['token_type_ids'].to(device)                                    \n",
    "        attention_mask = data_['attention_mask'].to(device)      \n",
    "\n",
    "        preds = model(input_ids,token_type_ids,attention_mask)            \n",
    "        preds = list(preds.values())\n",
    "        preds = [x.cpu().detach().numpy() for x in preds]\n",
    "        pred_list.append(preds)\n",
    "            \n",
    "    return pred_list"
   ]
  },
  {
   "cell_type": "code",
   "execution_count": null,
   "metadata": {},
   "outputs": [],
   "source": [
    "models = glob.glob('*.path')\n",
    "models"
   ]
  },
  {
   "cell_type": "code",
   "execution_count": null,
   "metadata": {},
   "outputs": [],
   "source": [
    "test_df = BertDataV1(tokenizer=BERT_TOKENIZER,df = test)\n",
    "test_dl = DataLoader(dataset=test_df,batch_size=TRAIN_BATCH_SIZE,num_workers=NUM_WORKERS,drop_last=False,shuffle=False)    "
   ]
  },
  {
   "cell_type": "code",
   "execution_count": null,
   "metadata": {},
   "outputs": [],
   "source": [
    "%%time\n",
    "preds1 = []\n",
    "preds2 = []\n",
    "preds3 = []\n",
    "preds4 = []\n",
    "preds5 = []\n",
    "preds6 = []\n",
    "\n",
    "for _mod in models:\n",
    "    m = predict(test_dl,mod,_mod)\n",
    "    preds1.append(np.concatenate([x[0] for x in m]))\n",
    "    preds2.append(np.concatenate([x[1] for x in m]))\n",
    "    preds3.append(np.concatenate([x[2] for x in m]))    \n",
    "    preds4.append(np.concatenate([x[3] for x in m]))\n",
    "    preds5.append(np.concatenate([x[4] for x in m]))\n",
    "    preds6.append(np.concatenate([x[5] for x in m]))        \n",
    "\n",
    "test['Computer Science'] = np.sum(preds1,axis=0).argmax(axis=1)\n",
    "test['Physics'] = np.sum(preds2,axis=0).argmax(axis=1)\n",
    "test['Mathematics'] = np.sum(preds3,axis=0).argmax(axis=1)\n",
    "test['Statistics'] = np.sum(preds4,axis=0).argmax(axis=1)\n",
    "test['Quantitative Biology'] = np.sum(preds5,axis=0).argmax(axis=1)\n",
    "test['Quantitative Finance'] = np.sum(preds6,axis=0).argmax(axis=1)"
   ]
  },
  {
   "cell_type": "code",
   "execution_count": null,
   "metadata": {},
   "outputs": [],
   "source": [
    "test[['ID','Computer Science', 'Physics', 'Mathematics',\n",
    "       'Statistics', 'Quantitative Biology', 'Quantitative Finance']].to_csv('submission_scibert_uncased.csv',index=False)"
   ]
  },
  {
   "cell_type": "code",
   "execution_count": null,
   "metadata": {},
   "outputs": [],
   "source": [
    "dict_ = {}\n",
    "dict_['Computer Science'] = np.sum(preds1,axis=0)\n",
    "dict_['Physics'] = np.sum(preds2,axis=0)\n",
    "dict_['Mathematics'] = np.sum(preds3,axis=0)\n",
    "dict_['Statistics'] = np.sum(preds4,axis=0)\n",
    "dict_['Quantitative Biology'] = np.sum(preds5,axis=0)\n",
    "dict_['Quantitative Finance'] = np.sum(preds6,axis=0)\n",
    "\n",
    "import pickle\n",
    "def save_obj(obj, name ):\n",
    "    with open(name, 'wb') as f:\n",
    "        pickle.dump(obj, f, pickle.HIGHEST_PROTOCOL)\n",
    "\n",
    "def load_obj(name ):\n",
    "    with open(name , 'rb') as f:\n",
    "        return pickle.load(f)\n",
    "    \n",
    "save_obj(dict_,'test_raw_preds_scibert_uncased.pkl')    "
   ]
  }
 ],
 "metadata": {
  "kernelspec": {
   "display_name": "Python 3",
   "language": "python",
   "name": "python3"
  },
  "language_info": {
   "codemirror_mode": {
    "name": "ipython",
    "version": 3
   },
   "file_extension": ".py",
   "mimetype": "text/x-python",
   "name": "python",
   "nbconvert_exporter": "python",
   "pygments_lexer": "ipython3",
   "version": "3.7.4"
  },
  "papermill": {
   "duration": 21634.737205,
   "end_time": "2020-08-22T21:15:42.629648",
   "environment_variables": {},
   "exception": null,
   "input_path": "__notebook__.ipynb",
   "output_path": "__notebook__.ipynb",
   "parameters": {},
   "start_time": "2020-08-22T15:15:07.892443",
   "version": "2.1.0"
  },
  "widgets": {
   "application/vnd.jupyter.widget-state+json": {
    "state": {
     "09a210cabd6044c4b0ed1e8019136995": {
      "model_module": "@jupyter-widgets/controls",
      "model_module_version": "1.5.0",
      "model_name": "HTMLModel",
      "state": {
       "_dom_classes": [],
       "_model_module": "@jupyter-widgets/controls",
       "_model_module_version": "1.5.0",
       "_model_name": "HTMLModel",
       "_view_count": null,
       "_view_module": "@jupyter-widgets/controls",
       "_view_module_version": "1.5.0",
       "_view_name": "HTMLView",
       "description": "",
       "description_tooltip": null,
       "layout": "IPY_MODEL_b3fa75b1394b4fb5a0421e9049afc205",
       "placeholder": "​",
       "style": "IPY_MODEL_ed9d35b04141403e9d52d017b9751cd4",
       "value": " 228k/228k [00:01&lt;00:00, 206kB/s]"
      }
     },
     "11bbec297cf44811893217dc2c407036": {
      "model_module": "@jupyter-widgets/base",
      "model_module_version": "1.2.0",
      "model_name": "LayoutModel",
      "state": {
       "_model_module": "@jupyter-widgets/base",
       "_model_module_version": "1.2.0",
       "_model_name": "LayoutModel",
       "_view_count": null,
       "_view_module": "@jupyter-widgets/base",
       "_view_module_version": "1.2.0",
       "_view_name": "LayoutView",
       "align_content": null,
       "align_items": null,
       "align_self": null,
       "border": null,
       "bottom": null,
       "display": null,
       "flex": null,
       "flex_flow": null,
       "grid_area": null,
       "grid_auto_columns": null,
       "grid_auto_flow": null,
       "grid_auto_rows": null,
       "grid_column": null,
       "grid_gap": null,
       "grid_row": null,
       "grid_template_areas": null,
       "grid_template_columns": null,
       "grid_template_rows": null,
       "height": null,
       "justify_content": null,
       "justify_items": null,
       "left": null,
       "margin": null,
       "max_height": null,
       "max_width": null,
       "min_height": null,
       "min_width": null,
       "object_fit": null,
       "object_position": null,
       "order": null,
       "overflow": null,
       "overflow_x": null,
       "overflow_y": null,
       "padding": null,
       "right": null,
       "top": null,
       "visibility": null,
       "width": null
      }
     },
     "2e9a3da23f634bf69086ece5d4867f3e": {
      "model_module": "@jupyter-widgets/base",
      "model_module_version": "1.2.0",
      "model_name": "LayoutModel",
      "state": {
       "_model_module": "@jupyter-widgets/base",
       "_model_module_version": "1.2.0",
       "_model_name": "LayoutModel",
       "_view_count": null,
       "_view_module": "@jupyter-widgets/base",
       "_view_module_version": "1.2.0",
       "_view_name": "LayoutView",
       "align_content": null,
       "align_items": null,
       "align_self": null,
       "border": null,
       "bottom": null,
       "display": null,
       "flex": null,
       "flex_flow": null,
       "grid_area": null,
       "grid_auto_columns": null,
       "grid_auto_flow": null,
       "grid_auto_rows": null,
       "grid_column": null,
       "grid_gap": null,
       "grid_row": null,
       "grid_template_areas": null,
       "grid_template_columns": null,
       "grid_template_rows": null,
       "height": null,
       "justify_content": null,
       "justify_items": null,
       "left": null,
       "margin": null,
       "max_height": null,
       "max_width": null,
       "min_height": null,
       "min_width": null,
       "object_fit": null,
       "object_position": null,
       "order": null,
       "overflow": null,
       "overflow_x": null,
       "overflow_y": null,
       "padding": null,
       "right": null,
       "top": null,
       "visibility": null,
       "width": null
      }
     },
     "34bff85a22ed4687a54be34acc225b62": {
      "model_module": "@jupyter-widgets/controls",
      "model_module_version": "1.5.0",
      "model_name": "DescriptionStyleModel",
      "state": {
       "_model_module": "@jupyter-widgets/controls",
       "_model_module_version": "1.5.0",
       "_model_name": "DescriptionStyleModel",
       "_view_count": null,
       "_view_module": "@jupyter-widgets/base",
       "_view_module_version": "1.2.0",
       "_view_name": "StyleView",
       "description_width": ""
      }
     },
     "3fbc9f4168904854afbd94aecb5f1a88": {
      "model_module": "@jupyter-widgets/controls",
      "model_module_version": "1.5.0",
      "model_name": "ProgressStyleModel",
      "state": {
       "_model_module": "@jupyter-widgets/controls",
       "_model_module_version": "1.5.0",
       "_model_name": "ProgressStyleModel",
       "_view_count": null,
       "_view_module": "@jupyter-widgets/base",
       "_view_module_version": "1.2.0",
       "_view_name": "StyleView",
       "bar_color": null,
       "description_width": "initial"
      }
     },
     "5112a39436a14bc7a54901a4db8dbafa": {
      "model_module": "@jupyter-widgets/controls",
      "model_module_version": "1.5.0",
      "model_name": "HBoxModel",
      "state": {
       "_dom_classes": [],
       "_model_module": "@jupyter-widgets/controls",
       "_model_module_version": "1.5.0",
       "_model_name": "HBoxModel",
       "_view_count": null,
       "_view_module": "@jupyter-widgets/controls",
       "_view_module_version": "1.5.0",
       "_view_name": "HBoxView",
       "box_style": "",
       "children": [
        "IPY_MODEL_f184cdb6cd6d4cc4ae9abc087fc4088a",
        "IPY_MODEL_09a210cabd6044c4b0ed1e8019136995"
       ],
       "layout": "IPY_MODEL_2e9a3da23f634bf69086ece5d4867f3e"
      }
     },
     "5778bbcea01e42299a39cfd4ee9af1ab": {
      "model_module": "@jupyter-widgets/base",
      "model_module_version": "1.2.0",
      "model_name": "LayoutModel",
      "state": {
       "_model_module": "@jupyter-widgets/base",
       "_model_module_version": "1.2.0",
       "_model_name": "LayoutModel",
       "_view_count": null,
       "_view_module": "@jupyter-widgets/base",
       "_view_module_version": "1.2.0",
       "_view_name": "LayoutView",
       "align_content": null,
       "align_items": null,
       "align_self": null,
       "border": null,
       "bottom": null,
       "display": null,
       "flex": null,
       "flex_flow": null,
       "grid_area": null,
       "grid_auto_columns": null,
       "grid_auto_flow": null,
       "grid_auto_rows": null,
       "grid_column": null,
       "grid_gap": null,
       "grid_row": null,
       "grid_template_areas": null,
       "grid_template_columns": null,
       "grid_template_rows": null,
       "height": null,
       "justify_content": null,
       "justify_items": null,
       "left": null,
       "margin": null,
       "max_height": null,
       "max_width": null,
       "min_height": null,
       "min_width": null,
       "object_fit": null,
       "object_position": null,
       "order": null,
       "overflow": null,
       "overflow_x": null,
       "overflow_y": null,
       "padding": null,
       "right": null,
       "top": null,
       "visibility": null,
       "width": null
      }
     },
     "642161f589d341cb8483e8b4cc7e9246": {
      "model_module": "@jupyter-widgets/controls",
      "model_module_version": "1.5.0",
      "model_name": "HTMLModel",
      "state": {
       "_dom_classes": [],
       "_model_module": "@jupyter-widgets/controls",
       "_model_module_version": "1.5.0",
       "_model_name": "HTMLModel",
       "_view_count": null,
       "_view_module": "@jupyter-widgets/controls",
       "_view_module_version": "1.5.0",
       "_view_name": "HTMLView",
       "description": "",
       "description_tooltip": null,
       "layout": "IPY_MODEL_5778bbcea01e42299a39cfd4ee9af1ab",
       "placeholder": "​",
       "style": "IPY_MODEL_7a6e6ca093f5470699a27abbf9a5bc12",
       "value": " 385/385 [00:03&lt;00:00, 104B/s]"
      }
     },
     "711a42b6f0cd497d9f6f94d6eb7ac27f": {
      "model_module": "@jupyter-widgets/controls",
      "model_module_version": "1.5.0",
      "model_name": "ProgressStyleModel",
      "state": {
       "_model_module": "@jupyter-widgets/controls",
       "_model_module_version": "1.5.0",
       "_model_name": "ProgressStyleModel",
       "_view_count": null,
       "_view_module": "@jupyter-widgets/base",
       "_view_module_version": "1.2.0",
       "_view_name": "StyleView",
       "bar_color": null,
       "description_width": "initial"
      }
     },
     "715d802005b14f2686f796566eaf097b": {
      "model_module": "@jupyter-widgets/base",
      "model_module_version": "1.2.0",
      "model_name": "LayoutModel",
      "state": {
       "_model_module": "@jupyter-widgets/base",
       "_model_module_version": "1.2.0",
       "_model_name": "LayoutModel",
       "_view_count": null,
       "_view_module": "@jupyter-widgets/base",
       "_view_module_version": "1.2.0",
       "_view_name": "LayoutView",
       "align_content": null,
       "align_items": null,
       "align_self": null,
       "border": null,
       "bottom": null,
       "display": null,
       "flex": null,
       "flex_flow": null,
       "grid_area": null,
       "grid_auto_columns": null,
       "grid_auto_flow": null,
       "grid_auto_rows": null,
       "grid_column": null,
       "grid_gap": null,
       "grid_row": null,
       "grid_template_areas": null,
       "grid_template_columns": null,
       "grid_template_rows": null,
       "height": null,
       "justify_content": null,
       "justify_items": null,
       "left": null,
       "margin": null,
       "max_height": null,
       "max_width": null,
       "min_height": null,
       "min_width": null,
       "object_fit": null,
       "object_position": null,
       "order": null,
       "overflow": null,
       "overflow_x": null,
       "overflow_y": null,
       "padding": null,
       "right": null,
       "top": null,
       "visibility": null,
       "width": null
      }
     },
     "75c5957e167d4311ac91a1eaa076abdb": {
      "model_module": "@jupyter-widgets/controls",
      "model_module_version": "1.5.0",
      "model_name": "FloatProgressModel",
      "state": {
       "_dom_classes": [],
       "_model_module": "@jupyter-widgets/controls",
       "_model_module_version": "1.5.0",
       "_model_name": "FloatProgressModel",
       "_view_count": null,
       "_view_module": "@jupyter-widgets/controls",
       "_view_module_version": "1.5.0",
       "_view_name": "ProgressView",
       "bar_style": "success",
       "description": "Downloading: 100%",
       "description_tooltip": null,
       "layout": "IPY_MODEL_715d802005b14f2686f796566eaf097b",
       "max": 385,
       "min": 0,
       "orientation": "horizontal",
       "style": "IPY_MODEL_ac2773bd2827454ea4588bb6fe17a616",
       "value": 385
      }
     },
     "7a6e6ca093f5470699a27abbf9a5bc12": {
      "model_module": "@jupyter-widgets/controls",
      "model_module_version": "1.5.0",
      "model_name": "DescriptionStyleModel",
      "state": {
       "_model_module": "@jupyter-widgets/controls",
       "_model_module_version": "1.5.0",
       "_model_name": "DescriptionStyleModel",
       "_view_count": null,
       "_view_module": "@jupyter-widgets/base",
       "_view_module_version": "1.2.0",
       "_view_name": "StyleView",
       "description_width": ""
      }
     },
     "a9f87449074e4366b4129b7265c2a51f": {
      "model_module": "@jupyter-widgets/base",
      "model_module_version": "1.2.0",
      "model_name": "LayoutModel",
      "state": {
       "_model_module": "@jupyter-widgets/base",
       "_model_module_version": "1.2.0",
       "_model_name": "LayoutModel",
       "_view_count": null,
       "_view_module": "@jupyter-widgets/base",
       "_view_module_version": "1.2.0",
       "_view_name": "LayoutView",
       "align_content": null,
       "align_items": null,
       "align_self": null,
       "border": null,
       "bottom": null,
       "display": null,
       "flex": null,
       "flex_flow": null,
       "grid_area": null,
       "grid_auto_columns": null,
       "grid_auto_flow": null,
       "grid_auto_rows": null,
       "grid_column": null,
       "grid_gap": null,
       "grid_row": null,
       "grid_template_areas": null,
       "grid_template_columns": null,
       "grid_template_rows": null,
       "height": null,
       "justify_content": null,
       "justify_items": null,
       "left": null,
       "margin": null,
       "max_height": null,
       "max_width": null,
       "min_height": null,
       "min_width": null,
       "object_fit": null,
       "object_position": null,
       "order": null,
       "overflow": null,
       "overflow_x": null,
       "overflow_y": null,
       "padding": null,
       "right": null,
       "top": null,
       "visibility": null,
       "width": null
      }
     },
     "ac2773bd2827454ea4588bb6fe17a616": {
      "model_module": "@jupyter-widgets/controls",
      "model_module_version": "1.5.0",
      "model_name": "ProgressStyleModel",
      "state": {
       "_model_module": "@jupyter-widgets/controls",
       "_model_module_version": "1.5.0",
       "_model_name": "ProgressStyleModel",
       "_view_count": null,
       "_view_module": "@jupyter-widgets/base",
       "_view_module_version": "1.2.0",
       "_view_name": "StyleView",
       "bar_color": null,
       "description_width": "initial"
      }
     },
     "ac96bd64dc54414fb2b7a7256da55a69": {
      "model_module": "@jupyter-widgets/base",
      "model_module_version": "1.2.0",
      "model_name": "LayoutModel",
      "state": {
       "_model_module": "@jupyter-widgets/base",
       "_model_module_version": "1.2.0",
       "_model_name": "LayoutModel",
       "_view_count": null,
       "_view_module": "@jupyter-widgets/base",
       "_view_module_version": "1.2.0",
       "_view_name": "LayoutView",
       "align_content": null,
       "align_items": null,
       "align_self": null,
       "border": null,
       "bottom": null,
       "display": null,
       "flex": null,
       "flex_flow": null,
       "grid_area": null,
       "grid_auto_columns": null,
       "grid_auto_flow": null,
       "grid_auto_rows": null,
       "grid_column": null,
       "grid_gap": null,
       "grid_row": null,
       "grid_template_areas": null,
       "grid_template_columns": null,
       "grid_template_rows": null,
       "height": null,
       "justify_content": null,
       "justify_items": null,
       "left": null,
       "margin": null,
       "max_height": null,
       "max_width": null,
       "min_height": null,
       "min_width": null,
       "object_fit": null,
       "object_position": null,
       "order": null,
       "overflow": null,
       "overflow_x": null,
       "overflow_y": null,
       "padding": null,
       "right": null,
       "top": null,
       "visibility": null,
       "width": null
      }
     },
     "b3fa75b1394b4fb5a0421e9049afc205": {
      "model_module": "@jupyter-widgets/base",
      "model_module_version": "1.2.0",
      "model_name": "LayoutModel",
      "state": {
       "_model_module": "@jupyter-widgets/base",
       "_model_module_version": "1.2.0",
       "_model_name": "LayoutModel",
       "_view_count": null,
       "_view_module": "@jupyter-widgets/base",
       "_view_module_version": "1.2.0",
       "_view_name": "LayoutView",
       "align_content": null,
       "align_items": null,
       "align_self": null,
       "border": null,
       "bottom": null,
       "display": null,
       "flex": null,
       "flex_flow": null,
       "grid_area": null,
       "grid_auto_columns": null,
       "grid_auto_flow": null,
       "grid_auto_rows": null,
       "grid_column": null,
       "grid_gap": null,
       "grid_row": null,
       "grid_template_areas": null,
       "grid_template_columns": null,
       "grid_template_rows": null,
       "height": null,
       "justify_content": null,
       "justify_items": null,
       "left": null,
       "margin": null,
       "max_height": null,
       "max_width": null,
       "min_height": null,
       "min_width": null,
       "object_fit": null,
       "object_position": null,
       "order": null,
       "overflow": null,
       "overflow_x": null,
       "overflow_y": null,
       "padding": null,
       "right": null,
       "top": null,
       "visibility": null,
       "width": null
      }
     },
     "c1cc2dd7b65d4627a2325ad9eb47ed7c": {
      "model_module": "@jupyter-widgets/controls",
      "model_module_version": "1.5.0",
      "model_name": "FloatProgressModel",
      "state": {
       "_dom_classes": [],
       "_model_module": "@jupyter-widgets/controls",
       "_model_module_version": "1.5.0",
       "_model_name": "FloatProgressModel",
       "_view_count": null,
       "_view_module": "@jupyter-widgets/controls",
       "_view_module_version": "1.5.0",
       "_view_name": "ProgressView",
       "bar_style": "success",
       "description": "Downloading: 100%",
       "description_tooltip": null,
       "layout": "IPY_MODEL_a9f87449074e4366b4129b7265c2a51f",
       "max": 442221694,
       "min": 0,
       "orientation": "horizontal",
       "style": "IPY_MODEL_711a42b6f0cd497d9f6f94d6eb7ac27f",
       "value": 442221694
      }
     },
     "ced8b4e970c84a0798796302fe38e171": {
      "model_module": "@jupyter-widgets/controls",
      "model_module_version": "1.5.0",
      "model_name": "HTMLModel",
      "state": {
       "_dom_classes": [],
       "_model_module": "@jupyter-widgets/controls",
       "_model_module_version": "1.5.0",
       "_model_name": "HTMLModel",
       "_view_count": null,
       "_view_module": "@jupyter-widgets/controls",
       "_view_module_version": "1.5.0",
       "_view_name": "HTMLView",
       "description": "",
       "description_tooltip": null,
       "layout": "IPY_MODEL_e1c83f3297674c33acd2934ecffe60b6",
       "placeholder": "​",
       "style": "IPY_MODEL_34bff85a22ed4687a54be34acc225b62",
       "value": " 442M/442M [00:21&lt;00:00, 20.4MB/s]"
      }
     },
     "d324d2d369ba49f686bd26f103293656": {
      "model_module": "@jupyter-widgets/controls",
      "model_module_version": "1.5.0",
      "model_name": "HBoxModel",
      "state": {
       "_dom_classes": [],
       "_model_module": "@jupyter-widgets/controls",
       "_model_module_version": "1.5.0",
       "_model_name": "HBoxModel",
       "_view_count": null,
       "_view_module": "@jupyter-widgets/controls",
       "_view_module_version": "1.5.0",
       "_view_name": "HBoxView",
       "box_style": "",
       "children": [
        "IPY_MODEL_75c5957e167d4311ac91a1eaa076abdb",
        "IPY_MODEL_642161f589d341cb8483e8b4cc7e9246"
       ],
       "layout": "IPY_MODEL_11bbec297cf44811893217dc2c407036"
      }
     },
     "e1c83f3297674c33acd2934ecffe60b6": {
      "model_module": "@jupyter-widgets/base",
      "model_module_version": "1.2.0",
      "model_name": "LayoutModel",
      "state": {
       "_model_module": "@jupyter-widgets/base",
       "_model_module_version": "1.2.0",
       "_model_name": "LayoutModel",
       "_view_count": null,
       "_view_module": "@jupyter-widgets/base",
       "_view_module_version": "1.2.0",
       "_view_name": "LayoutView",
       "align_content": null,
       "align_items": null,
       "align_self": null,
       "border": null,
       "bottom": null,
       "display": null,
       "flex": null,
       "flex_flow": null,
       "grid_area": null,
       "grid_auto_columns": null,
       "grid_auto_flow": null,
       "grid_auto_rows": null,
       "grid_column": null,
       "grid_gap": null,
       "grid_row": null,
       "grid_template_areas": null,
       "grid_template_columns": null,
       "grid_template_rows": null,
       "height": null,
       "justify_content": null,
       "justify_items": null,
       "left": null,
       "margin": null,
       "max_height": null,
       "max_width": null,
       "min_height": null,
       "min_width": null,
       "object_fit": null,
       "object_position": null,
       "order": null,
       "overflow": null,
       "overflow_x": null,
       "overflow_y": null,
       "padding": null,
       "right": null,
       "top": null,
       "visibility": null,
       "width": null
      }
     },
     "ed9d35b04141403e9d52d017b9751cd4": {
      "model_module": "@jupyter-widgets/controls",
      "model_module_version": "1.5.0",
      "model_name": "DescriptionStyleModel",
      "state": {
       "_model_module": "@jupyter-widgets/controls",
       "_model_module_version": "1.5.0",
       "_model_name": "DescriptionStyleModel",
       "_view_count": null,
       "_view_module": "@jupyter-widgets/base",
       "_view_module_version": "1.2.0",
       "_view_name": "StyleView",
       "description_width": ""
      }
     },
     "f184cdb6cd6d4cc4ae9abc087fc4088a": {
      "model_module": "@jupyter-widgets/controls",
      "model_module_version": "1.5.0",
      "model_name": "FloatProgressModel",
      "state": {
       "_dom_classes": [],
       "_model_module": "@jupyter-widgets/controls",
       "_model_module_version": "1.5.0",
       "_model_name": "FloatProgressModel",
       "_view_count": null,
       "_view_module": "@jupyter-widgets/controls",
       "_view_module_version": "1.5.0",
       "_view_name": "ProgressView",
       "bar_style": "success",
       "description": "Downloading: 100%",
       "description_tooltip": null,
       "layout": "IPY_MODEL_fe2bd79240294a68a851679325c8c9fe",
       "max": 227845,
       "min": 0,
       "orientation": "horizontal",
       "style": "IPY_MODEL_3fbc9f4168904854afbd94aecb5f1a88",
       "value": 227845
      }
     },
     "f7f0b906c7504493bf148a6e5852c8c2": {
      "model_module": "@jupyter-widgets/controls",
      "model_module_version": "1.5.0",
      "model_name": "HBoxModel",
      "state": {
       "_dom_classes": [],
       "_model_module": "@jupyter-widgets/controls",
       "_model_module_version": "1.5.0",
       "_model_name": "HBoxModel",
       "_view_count": null,
       "_view_module": "@jupyter-widgets/controls",
       "_view_module_version": "1.5.0",
       "_view_name": "HBoxView",
       "box_style": "",
       "children": [
        "IPY_MODEL_c1cc2dd7b65d4627a2325ad9eb47ed7c",
        "IPY_MODEL_ced8b4e970c84a0798796302fe38e171"
       ],
       "layout": "IPY_MODEL_ac96bd64dc54414fb2b7a7256da55a69"
      }
     },
     "fe2bd79240294a68a851679325c8c9fe": {
      "model_module": "@jupyter-widgets/base",
      "model_module_version": "1.2.0",
      "model_name": "LayoutModel",
      "state": {
       "_model_module": "@jupyter-widgets/base",
       "_model_module_version": "1.2.0",
       "_model_name": "LayoutModel",
       "_view_count": null,
       "_view_module": "@jupyter-widgets/base",
       "_view_module_version": "1.2.0",
       "_view_name": "LayoutView",
       "align_content": null,
       "align_items": null,
       "align_self": null,
       "border": null,
       "bottom": null,
       "display": null,
       "flex": null,
       "flex_flow": null,
       "grid_area": null,
       "grid_auto_columns": null,
       "grid_auto_flow": null,
       "grid_auto_rows": null,
       "grid_column": null,
       "grid_gap": null,
       "grid_row": null,
       "grid_template_areas": null,
       "grid_template_columns": null,
       "grid_template_rows": null,
       "height": null,
       "justify_content": null,
       "justify_items": null,
       "left": null,
       "margin": null,
       "max_height": null,
       "max_width": null,
       "min_height": null,
       "min_width": null,
       "object_fit": null,
       "object_position": null,
       "order": null,
       "overflow": null,
       "overflow_x": null,
       "overflow_y": null,
       "padding": null,
       "right": null,
       "top": null,
       "visibility": null,
       "width": null
      }
     }
    },
    "version_major": 2,
    "version_minor": 0
   }
  }
 },
 "nbformat": 4,
 "nbformat_minor": 4
}
