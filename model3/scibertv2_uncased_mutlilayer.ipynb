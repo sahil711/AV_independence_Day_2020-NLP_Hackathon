{
 "cells": [
  {
   "cell_type": "code",
   "execution_count": 1,
   "metadata": {
    "execution": {
     "iopub.execute_input": "2020-08-23T10:31:52.274037Z",
     "iopub.status.busy": "2020-08-23T10:31:52.273078Z",
     "iopub.status.idle": "2020-08-23T10:32:27.772067Z",
     "shell.execute_reply": "2020-08-23T10:32:27.770995Z"
    },
    "papermill": {
     "duration": 35.534009,
     "end_time": "2020-08-23T10:32:27.772206",
     "exception": false,
     "start_time": "2020-08-23T10:31:52.238197",
     "status": "completed"
    },
    "tags": []
   },
   "outputs": [],
   "source": [
    "%load_ext autoreload\n",
    "%autoreload 2\n",
    "from IPython.core.interactiveshell import InteractiveShell\n",
    "InteractiveShell.ast_node_interactivity = \"all\"\n",
    "import sys\n",
    "sys.path.append('..')\n",
    "import pandas as pd\n",
    "pd.options.display.max_columns=1000\n",
    "pd.options.display.max_rows=1000\n",
    "import numpy as np\n",
    "from matplotlib import pyplot as plt\n",
    "%matplotlib inline\n",
    "\n",
    "\n",
    "import torch\n",
    "from torch.utils.data import DataLoader,Dataset\n",
    "import transformers\n",
    "from torch import nn\n",
    "from torch import optim\n",
    "import torch.nn.functional as F\n",
    "\n",
    "from tqdm import tqdm\n",
    "import random\n",
    "import gc\n",
    "from sklearn.metrics import f1_score\n",
    "\n",
    "from iterstrat.ml_stratifiers import MultilabelStratifiedKFold\n",
    "\n",
    "from dataset import BertDataV1\n",
    "from Engine import GpuEngine\n",
    "from utils import EarlyStopping,SlackWebhook"
   ]
  },
  {
   "cell_type": "code",
   "execution_count": 2,
   "metadata": {},
   "outputs": [],
   "source": [
    "DATA_DIR = '../'"
   ]
  },
  {
   "cell_type": "code",
   "execution_count": 3,
   "metadata": {
    "execution": {
     "iopub.execute_input": "2020-08-23T10:32:27.874505Z",
     "iopub.status.busy": "2020-08-23T10:32:27.873685Z",
     "iopub.status.idle": "2020-08-23T10:32:28.278369Z",
     "shell.execute_reply": "2020-08-23T10:32:28.277570Z"
    },
    "papermill": {
     "duration": 0.458552,
     "end_time": "2020-08-23T10:32:28.278494",
     "exception": false,
     "start_time": "2020-08-23T10:32:27.819942",
     "status": "completed"
    },
    "tags": []
   },
   "outputs": [
    {
     "data": {
      "text/plain": [
       "<torch._C.Generator at 0x7f254b426310>"
      ]
     },
     "execution_count": 3,
     "metadata": {},
     "output_type": "execute_result"
    }
   ],
   "source": [
    "seed = 100\n",
    "random.seed(seed)\n",
    "\n",
    "torch.manual_seed(seed)\n",
    "torch.backends.cudnn.deterministic = True\n",
    "if torch.cuda.is_available(): torch.cuda.manual_seed_all(seed)\n",
    "\n",
    "np.random.seed(seed)"
   ]
  },
  {
   "cell_type": "code",
   "execution_count": 4,
   "metadata": {
    "execution": {
     "iopub.execute_input": "2020-08-23T10:32:28.379247Z",
     "iopub.status.busy": "2020-08-23T10:32:28.378406Z",
     "iopub.status.idle": "2020-08-23T10:32:28.441556Z",
     "shell.execute_reply": "2020-08-23T10:32:28.441044Z"
    },
    "papermill": {
     "duration": 0.114342,
     "end_time": "2020-08-23T10:32:28.441663",
     "exception": false,
     "start_time": "2020-08-23T10:32:28.327321",
     "status": "completed"
    },
    "tags": []
   },
   "outputs": [
    {
     "data": {
      "text/plain": [
       "device(type='cuda')"
      ]
     },
     "execution_count": 4,
     "metadata": {},
     "output_type": "execute_result"
    }
   ],
   "source": [
    "device = torch.device(\"cuda\") if torch.cuda.is_available() else torch.device(\"cpu\")\n",
    "device"
   ]
  },
  {
   "cell_type": "code",
   "execution_count": 5,
   "metadata": {
    "execution": {
     "iopub.execute_input": "2020-08-23T10:32:28.541934Z",
     "iopub.status.busy": "2020-08-23T10:32:28.541103Z",
     "iopub.status.idle": "2020-08-23T10:32:28.605982Z",
     "shell.execute_reply": "2020-08-23T10:32:28.605324Z"
    },
    "papermill": {
     "duration": 0.116852,
     "end_time": "2020-08-23T10:32:28.606084",
     "exception": false,
     "start_time": "2020-08-23T10:32:28.489232",
     "status": "completed"
    },
    "tags": []
   },
   "outputs": [],
   "source": [
    "webhook_url = \"YOUR SLACK WEBHOOK\"\n",
    "slack_loggger = SlackWebhook(webhook_url,verbose=True)"
   ]
  },
  {
   "cell_type": "code",
   "execution_count": 6,
   "metadata": {
    "execution": {
     "iopub.execute_input": "2020-08-23T10:32:28.874198Z",
     "iopub.status.busy": "2020-08-23T10:32:28.873357Z",
     "iopub.status.idle": "2020-08-23T10:32:29.246655Z",
     "shell.execute_reply": "2020-08-23T10:32:29.245595Z"
    },
    "papermill": {
     "duration": 0.42502,
     "end_time": "2020-08-23T10:32:29.246793",
     "exception": false,
     "start_time": "2020-08-23T10:32:28.821773",
     "status": "completed"
    },
    "tags": []
   },
   "outputs": [],
   "source": [
    "train = pd.read_csv(DATA_DIR + 'train.csv')\n",
    "test = pd.read_csv(DATA_DIR + 'test.csv')\n",
    "train.ABSTRACT = train.ABSTRACT.str.replace('\\n',' ').str.strip().str.lower()\n",
    "train.TITLE = train.TITLE.str.replace('\\n',' ').str.strip().str.lower()\n",
    "\n",
    "test.ABSTRACT = test.ABSTRACT.str.replace('\\n',' ').str.strip().str.lower()\n",
    "test.TITLE = test.TITLE.str.replace('\\n',' ').str.strip().str.lower()\n",
    "train['text'] = train['TITLE']+'. '+train['ABSTRACT']\n",
    "test['text'] = test['TITLE']+'. '+test['ABSTRACT']"
   ]
  },
  {
   "cell_type": "code",
   "execution_count": 12,
   "metadata": {
    "execution": {
     "iopub.execute_input": "2020-08-23T10:32:30.448366Z",
     "iopub.status.busy": "2020-08-23T10:32:30.447570Z",
     "iopub.status.idle": "2020-08-23T10:32:39.861473Z",
     "shell.execute_reply": "2020-08-23T10:32:39.860490Z"
    },
    "papermill": {
     "duration": 9.467776,
     "end_time": "2020-08-23T10:32:39.861612",
     "exception": false,
     "start_time": "2020-08-23T10:32:30.393836",
     "status": "completed"
    },
    "tags": []
   },
   "outputs": [
    {
     "data": {
      "application/vnd.jupyter.widget-view+json": {
       "model_id": "5caac62622b246089515907b191f3ff0",
       "version_major": 2,
       "version_minor": 0
      },
      "text/plain": [
       "HBox(children=(FloatProgress(value=0.0, description='Downloading', max=385.0, style=ProgressStyle(description_…"
      ]
     },
     "metadata": {},
     "output_type": "display_data"
    },
    {
     "name": "stdout",
     "output_type": "stream",
     "text": [
      "\n"
     ]
    },
    {
     "data": {
      "application/vnd.jupyter.widget-view+json": {
       "model_id": "1889b77ba11842e691b97f512457ff58",
       "version_major": 2,
       "version_minor": 0
      },
      "text/plain": [
       "HBox(children=(FloatProgress(value=0.0, description='Downloading', max=227845.0, style=ProgressStyle(descripti…"
      ]
     },
     "metadata": {},
     "output_type": "display_data"
    },
    {
     "name": "stdout",
     "output_type": "stream",
     "text": [
      "\n"
     ]
    }
   ],
   "source": [
    "BERT_TYPE = 'allenai/scibert_scivocab_uncased'\n",
    "BERT_CONFIG = transformers.AutoConfig.from_pretrained(BERT_TYPE)\n",
    "BERT_CONFIG.output_hidden_states = True\n",
    "BERT_TOKENIZER = transformers.AutoTokenizer.from_pretrained(BERT_TYPE)\n",
    "BERT_TOKENIZER.model_max_length = 512\n",
    "\n",
    "TARGET_COLS = ['Computer Science','Physics','Mathematics','Statistics','Quantitative Biology','Quantitative Finance']\n",
    "TRAIN_BATCH_SIZE = 16\n",
    "VAL_BATCH_SIZE = 16\n",
    "NUM_WORKERS = 0"
   ]
  },
  {
   "cell_type": "code",
   "execution_count": 13,
   "metadata": {
    "execution": {
     "iopub.execute_input": "2020-08-23T10:32:39.977465Z",
     "iopub.status.busy": "2020-08-23T10:32:39.976607Z",
     "iopub.status.idle": "2020-08-23T10:32:40.045329Z",
     "shell.execute_reply": "2020-08-23T10:32:40.044853Z"
    },
    "papermill": {
     "duration": 0.13243,
     "end_time": "2020-08-23T10:32:40.045432",
     "exception": false,
     "start_time": "2020-08-23T10:32:39.913002",
     "status": "completed"
    },
    "tags": []
   },
   "outputs": [],
   "source": [
    "class BertForPaperClassificationV2(nn.Module):\n",
    "    \n",
    "    def __init__(self,arch_type,config):\n",
    "        \n",
    "        super().__init__()\n",
    "        self.arch_type = arch_type\n",
    "        self.config = config        \n",
    "        self.bert = transformers.AutoModel.from_pretrained(arch_type,config = config)\n",
    "        self.cs = nn.Linear(768,2)\n",
    "        self.phy = nn.Linear(768,2)        \n",
    "        self.math = nn.Linear(768,2)        \n",
    "        self.stat = nn.Linear(768,2)        \n",
    "        self.bio = nn.Linear(768,2)               \n",
    "        self.fin = nn.Linear(768,2)\n",
    "        self.pool = nn.AdaptiveAvgPool1d(1)\n",
    "    \n",
    "    def forward(self,input_ids,token_type_ids,attention_mask):\n",
    "        \n",
    "        emb = self.bert(input_ids = input_ids, token_type_ids = token_type_ids , attention_mask = attention_mask)\n",
    "        \n",
    "        ### taking the mean of the last three layers\n",
    "        emb_output = (emb[2][-1]+emb[2][-2]+emb[2][-3])/3\n",
    "        \n",
    "        pooled_output = self.pool(emb_output.permute(0,2,1)).squeeze(-1)\n",
    "        \n",
    "        output = {}\n",
    "        \n",
    "        output['cs'] = self.cs(pooled_output)\n",
    "        output['phy'] = self.phy(pooled_output)        \n",
    "        output['math'] = self.math(pooled_output)        \n",
    "        output['stat'] = self.stat(pooled_output)        \n",
    "        output['bio'] = self.bio(pooled_output)                \n",
    "        output['fin'] = self.fin(pooled_output)                \n",
    "                \n",
    "        return output    "
   ]
  },
  {
   "cell_type": "code",
   "execution_count": 14,
   "metadata": {
    "execution": {
     "iopub.execute_input": "2020-08-23T10:32:40.152938Z",
     "iopub.status.busy": "2020-08-23T10:32:40.152054Z",
     "iopub.status.idle": "2020-08-23T10:32:40.212385Z",
     "shell.execute_reply": "2020-08-23T10:32:40.211914Z"
    },
    "papermill": {
     "duration": 0.116359,
     "end_time": "2020-08-23T10:32:40.212487",
     "exception": false,
     "start_time": "2020-08-23T10:32:40.096128",
     "status": "completed"
    },
    "tags": []
   },
   "outputs": [],
   "source": [
    "def AvgLoss(preds,targets):\n",
    "    loss_ = nn.CrossEntropyLoss()\n",
    "    return torch.stack([loss_(x[0],x[1]) for x in list(zip(preds,targets))]).mean()    \n",
    "    "
   ]
  },
  {
   "cell_type": "code",
   "execution_count": 15,
   "metadata": {
    "execution": {
     "iopub.execute_input": "2020-08-23T10:32:40.319459Z",
     "iopub.status.busy": "2020-08-23T10:32:40.318657Z",
     "iopub.status.idle": "2020-08-23T10:32:41.247098Z",
     "shell.execute_reply": "2020-08-23T10:32:41.246023Z"
    },
    "papermill": {
     "duration": 0.983662,
     "end_time": "2020-08-23T10:32:41.247224",
     "exception": false,
     "start_time": "2020-08-23T10:32:40.263562",
     "status": "completed"
    },
    "tags": []
   },
   "outputs": [
    {
     "name": "stderr",
     "output_type": "stream",
     "text": [
      "/opt/conda/lib/python3.7/site-packages/sklearn/utils/validation.py:70: FutureWarning: Pass shuffle=True, random_state=100 as keyword args. From version 0.25 passing these as positional arguments will result in an error\n",
      "  FutureWarning)\n"
     ]
    }
   ],
   "source": [
    "folds = MultilabelStratifiedKFold(n_splits=5, random_state=100,shuffle=True)\n",
    "folds = [(x,y) for x,y in folds.split(train['ID'],train[['Computer Science','Physics','Mathematics','Statistics','Quantitative Biology','Quantitative Finance']])]                                  "
   ]
  },
  {
   "cell_type": "code",
   "execution_count": 16,
   "metadata": {
    "execution": {
     "iopub.execute_input": "2020-08-23T10:32:41.355431Z",
     "iopub.status.busy": "2020-08-23T10:32:41.354597Z",
     "iopub.status.idle": "2020-08-23T10:32:41.417954Z",
     "shell.execute_reply": "2020-08-23T10:32:41.417432Z"
    },
    "papermill": {
     "duration": 0.119162,
     "end_time": "2020-08-23T10:32:41.418061",
     "exception": false,
     "start_time": "2020-08-23T10:32:41.298899",
     "status": "completed"
    },
    "tags": []
   },
   "outputs": [
    {
     "data": {
      "text/plain": [
       "[(16768, 4204), (16787, 4185), (16767, 4205), (16810, 4162), (16756, 4216)]"
      ]
     },
     "execution_count": 16,
     "metadata": {},
     "output_type": "execute_result"
    }
   ],
   "source": [
    "[(len(x),len(y)) for x,y in folds]"
   ]
  },
  {
   "cell_type": "code",
   "execution_count": 17,
   "metadata": {
    "execution": {
     "iopub.execute_input": "2020-08-23T10:32:41.525301Z",
     "iopub.status.busy": "2020-08-23T10:32:41.524416Z",
     "iopub.status.idle": "2020-08-23T10:32:41.594390Z",
     "shell.execute_reply": "2020-08-23T10:32:41.594852Z"
    },
    "papermill": {
     "duration": 0.12532,
     "end_time": "2020-08-23T10:32:41.594976",
     "exception": false,
     "start_time": "2020-08-23T10:32:41.469656",
     "status": "completed"
    },
    "tags": []
   },
   "outputs": [
    {
     "data": {
      "text/html": [
       "<div>\n",
       "<style scoped>\n",
       "    .dataframe tbody tr th:only-of-type {\n",
       "        vertical-align: middle;\n",
       "    }\n",
       "\n",
       "    .dataframe tbody tr th {\n",
       "        vertical-align: top;\n",
       "    }\n",
       "\n",
       "    .dataframe thead th {\n",
       "        text-align: right;\n",
       "    }\n",
       "</style>\n",
       "<table border=\"1\" class=\"dataframe\">\n",
       "  <thead>\n",
       "    <tr style=\"text-align: right;\">\n",
       "      <th></th>\n",
       "      <th>ID</th>\n",
       "      <th>TITLE</th>\n",
       "      <th>ABSTRACT</th>\n",
       "      <th>Computer Science</th>\n",
       "      <th>Physics</th>\n",
       "      <th>Mathematics</th>\n",
       "      <th>Statistics</th>\n",
       "      <th>Quantitative Biology</th>\n",
       "      <th>Quantitative Finance</th>\n",
       "      <th>text</th>\n",
       "    </tr>\n",
       "  </thead>\n",
       "  <tbody>\n",
       "    <tr>\n",
       "      <th>0</th>\n",
       "      <td>1</td>\n",
       "      <td>reconstructing subject-specific effect maps</td>\n",
       "      <td>predictive models allow subject-specific infer...</td>\n",
       "      <td>1</td>\n",
       "      <td>0</td>\n",
       "      <td>0</td>\n",
       "      <td>0</td>\n",
       "      <td>0</td>\n",
       "      <td>0</td>\n",
       "      <td>reconstructing subject-specific effect maps. p...</td>\n",
       "    </tr>\n",
       "    <tr>\n",
       "      <th>1</th>\n",
       "      <td>2</td>\n",
       "      <td>rotation invariance neural network</td>\n",
       "      <td>rotation invariance and translation invariance...</td>\n",
       "      <td>1</td>\n",
       "      <td>0</td>\n",
       "      <td>0</td>\n",
       "      <td>0</td>\n",
       "      <td>0</td>\n",
       "      <td>0</td>\n",
       "      <td>rotation invariance neural network. rotation i...</td>\n",
       "    </tr>\n",
       "    <tr>\n",
       "      <th>2</th>\n",
       "      <td>3</td>\n",
       "      <td>spherical polyharmonics and poisson kernels fo...</td>\n",
       "      <td>we introduce and develop the notion of spheric...</td>\n",
       "      <td>0</td>\n",
       "      <td>0</td>\n",
       "      <td>1</td>\n",
       "      <td>0</td>\n",
       "      <td>0</td>\n",
       "      <td>0</td>\n",
       "      <td>spherical polyharmonics and poisson kernels fo...</td>\n",
       "    </tr>\n",
       "    <tr>\n",
       "      <th>3</th>\n",
       "      <td>4</td>\n",
       "      <td>a finite element approximation for the stochas...</td>\n",
       "      <td>the stochastic landau--lifshitz--gilbert (llg)...</td>\n",
       "      <td>0</td>\n",
       "      <td>0</td>\n",
       "      <td>1</td>\n",
       "      <td>0</td>\n",
       "      <td>0</td>\n",
       "      <td>0</td>\n",
       "      <td>a finite element approximation for the stochas...</td>\n",
       "    </tr>\n",
       "    <tr>\n",
       "      <th>4</th>\n",
       "      <td>5</td>\n",
       "      <td>comparative study of discrete wavelet transfor...</td>\n",
       "      <td>fourier-transform infra-red (ftir) spectra of ...</td>\n",
       "      <td>1</td>\n",
       "      <td>0</td>\n",
       "      <td>0</td>\n",
       "      <td>1</td>\n",
       "      <td>0</td>\n",
       "      <td>0</td>\n",
       "      <td>comparative study of discrete wavelet transfor...</td>\n",
       "    </tr>\n",
       "  </tbody>\n",
       "</table>\n",
       "</div>"
      ],
      "text/plain": [
       "   ID                                              TITLE  \\\n",
       "0   1        reconstructing subject-specific effect maps   \n",
       "1   2                 rotation invariance neural network   \n",
       "2   3  spherical polyharmonics and poisson kernels fo...   \n",
       "3   4  a finite element approximation for the stochas...   \n",
       "4   5  comparative study of discrete wavelet transfor...   \n",
       "\n",
       "                                            ABSTRACT  Computer Science  \\\n",
       "0  predictive models allow subject-specific infer...                 1   \n",
       "1  rotation invariance and translation invariance...                 1   \n",
       "2  we introduce and develop the notion of spheric...                 0   \n",
       "3  the stochastic landau--lifshitz--gilbert (llg)...                 0   \n",
       "4  fourier-transform infra-red (ftir) spectra of ...                 1   \n",
       "\n",
       "   Physics  Mathematics  Statistics  Quantitative Biology  \\\n",
       "0        0            0           0                     0   \n",
       "1        0            0           0                     0   \n",
       "2        0            1           0                     0   \n",
       "3        0            1           0                     0   \n",
       "4        0            0           1                     0   \n",
       "\n",
       "   Quantitative Finance                                               text  \n",
       "0                     0  reconstructing subject-specific effect maps. p...  \n",
       "1                     0  rotation invariance neural network. rotation i...  \n",
       "2                     0  spherical polyharmonics and poisson kernels fo...  \n",
       "3                     0  a finite element approximation for the stochas...  \n",
       "4                     0  comparative study of discrete wavelet transfor...  "
      ]
     },
     "execution_count": 17,
     "metadata": {},
     "output_type": "execute_result"
    }
   ],
   "source": [
    "train.head()"
   ]
  },
  {
   "cell_type": "code",
   "execution_count": 18,
   "metadata": {
    "execution": {
     "iopub.execute_input": "2020-08-23T10:32:41.783958Z",
     "iopub.status.busy": "2020-08-23T10:32:41.781826Z",
     "iopub.status.idle": "2020-08-23T16:32:28.372287Z",
     "shell.execute_reply": "2020-08-23T16:32:28.371395Z"
    },
    "papermill": {
     "duration": 21586.685111,
     "end_time": "2020-08-23T16:32:28.372417",
     "exception": false,
     "start_time": "2020-08-23T10:32:41.687306",
     "status": "completed"
    },
    "tags": []
   },
   "outputs": [
    {
     "data": {
      "application/vnd.jupyter.widget-view+json": {
       "model_id": "0530d7a6f85646c18fe4f510fce69ebe",
       "version_major": 2,
       "version_minor": 0
      },
      "text/plain": [
       "HBox(children=(FloatProgress(value=0.0, description='Downloading', max=442221694.0, style=ProgressStyle(descri…"
      ]
     },
     "metadata": {},
     "output_type": "display_data"
    },
    {
     "name": "stdout",
     "output_type": "stream",
     "text": [
      "\n"
     ]
    },
    {
     "name": "stderr",
     "output_type": "stream",
     "text": [
      "100%|██████████| 1048/1048 [16:08<00:00,  1.08it/s]\n",
      "100%|██████████| 263/263 [01:34<00:00,  2.80it/s]\n"
     ]
    },
    {
     "name": "stdout",
     "output_type": "stream",
     "text": [
      "Epoch: 0 train loss: 0.17598136070091988 train_metric: 0.8175829557977226 val_loss: 0.1551786137409827 val_metric: 0.8427648703364503 time 17.71\n"
     ]
    },
    {
     "name": "stderr",
     "output_type": "stream",
     "text": [
      "  0%|          | 0/1048 [00:00<?, ?it/s]"
     ]
    },
    {
     "name": "stdout",
     "output_type": "stream",
     "text": [
      "200\n"
     ]
    },
    {
     "name": "stderr",
     "output_type": "stream",
     "text": [
      "100%|██████████| 1048/1048 [16:10<00:00,  1.08it/s]\n",
      "100%|██████████| 263/263 [01:33<00:00,  2.80it/s]\n"
     ]
    },
    {
     "name": "stdout",
     "output_type": "stream",
     "text": [
      "Epoch: 1 train loss: 0.1342530194723282 train_metric: 0.8652539940686884 val_loss: 0.14890189777942753 val_metric: 0.8536995515695067 time 17.75\n"
     ]
    },
    {
     "name": "stderr",
     "output_type": "stream",
     "text": [
      "  0%|          | 0/1048 [00:00<?, ?it/s]"
     ]
    },
    {
     "name": "stdout",
     "output_type": "stream",
     "text": [
      "200\n"
     ]
    },
    {
     "name": "stderr",
     "output_type": "stream",
     "text": [
      "100%|██████████| 1048/1048 [16:10<00:00,  1.08it/s]\n",
      "100%|██████████| 263/263 [01:33<00:00,  2.80it/s]\n"
     ]
    },
    {
     "name": "stdout",
     "output_type": "stream",
     "text": [
      "Epoch: 2 train loss: 0.11061272896001585 train_metric: 0.8905726704828865 val_loss: 0.16050376584992648 val_metric: 0.8513339466421345 time 17.74\n"
     ]
    },
    {
     "name": "stderr",
     "output_type": "stream",
     "text": [
      "  0%|          | 0/1048 [00:00<?, ?it/s]"
     ]
    },
    {
     "name": "stdout",
     "output_type": "stream",
     "text": [
      "200\n"
     ]
    },
    {
     "name": "stderr",
     "output_type": "stream",
     "text": [
      "100%|██████████| 1048/1048 [16:13<00:00,  1.08it/s]\n",
      "100%|██████████| 263/263 [01:34<00:00,  2.78it/s]\n"
     ]
    },
    {
     "name": "stdout",
     "output_type": "stream",
     "text": [
      "Epoch     4: reducing learning rate of group 0 to 5.0000e-06.\n",
      "Epoch: 3 train loss: 0.08690942781053142 train_metric: 0.9155967665240133 val_loss: 0.17049104814638308 val_metric: 0.8459825570606793 time 17.8\n",
      "200\n"
     ]
    },
    {
     "name": "stderr",
     "output_type": "stream",
     "text": [
      "100%|██████████| 1049/1049 [16:15<00:00,  1.08it/s]\n",
      "100%|██████████| 262/262 [01:33<00:00,  2.79it/s]\n"
     ]
    },
    {
     "name": "stdout",
     "output_type": "stream",
     "text": [
      "Epoch: 0 train loss: 0.17443385375423928 train_metric: 0.8200529256101146 val_loss: 0.15075738523311227 val_metric: 0.8503831417624521 time 17.83\n"
     ]
    },
    {
     "name": "stderr",
     "output_type": "stream",
     "text": [
      "  0%|          | 0/1049 [00:00<?, ?it/s]"
     ]
    },
    {
     "name": "stdout",
     "output_type": "stream",
     "text": [
      "200\n"
     ]
    },
    {
     "name": "stderr",
     "output_type": "stream",
     "text": [
      "100%|██████████| 1049/1049 [16:15<00:00,  1.07it/s]\n",
      "100%|██████████| 262/262 [01:33<00:00,  2.79it/s]\n"
     ]
    },
    {
     "name": "stdout",
     "output_type": "stream",
     "text": [
      "Epoch: 1 train loss: 0.1334055203205779 train_metric: 0.8660695091365103 val_loss: 0.1518927074247791 val_metric: 0.8477152477152476 time 17.83\n"
     ]
    },
    {
     "name": "stderr",
     "output_type": "stream",
     "text": [
      "  0%|          | 0/1049 [00:00<?, ?it/s]"
     ]
    },
    {
     "name": "stdout",
     "output_type": "stream",
     "text": [
      "200\n"
     ]
    },
    {
     "name": "stderr",
     "output_type": "stream",
     "text": [
      "100%|██████████| 1049/1049 [16:15<00:00,  1.08it/s]\n",
      "100%|██████████| 262/262 [01:34<00:00,  2.77it/s]\n"
     ]
    },
    {
     "name": "stdout",
     "output_type": "stream",
     "text": [
      "Epoch     3: reducing learning rate of group 0 to 5.0000e-06.\n",
      "Epoch: 2 train loss: 0.1096222077348084 train_metric: 0.892128418549346 val_loss: 0.16333766091112026 val_metric: 0.845209780230235 time 17.83\n"
     ]
    },
    {
     "name": "stderr",
     "output_type": "stream",
     "text": [
      "  0%|          | 0/1049 [00:00<?, ?it/s]"
     ]
    },
    {
     "name": "stdout",
     "output_type": "stream",
     "text": [
      "200\n"
     ]
    },
    {
     "name": "stderr",
     "output_type": "stream",
     "text": [
      "100%|██████████| 1049/1049 [16:20<00:00,  1.07it/s]\n",
      "100%|██████████| 262/262 [01:35<00:00,  2.75it/s]\n"
     ]
    },
    {
     "name": "stdout",
     "output_type": "stream",
     "text": [
      "Epoch: 3 train loss: 0.08035261306407425 train_metric: 0.9229566453447051 val_loss: 0.17461587704780424 val_metric: 0.845165525649442 time 17.93\n",
      "200\n"
     ]
    },
    {
     "name": "stderr",
     "output_type": "stream",
     "text": [
      "100%|██████████| 1047/1047 [16:23<00:00,  1.06it/s]\n",
      "100%|██████████| 263/263 [01:36<00:00,  2.72it/s]\n"
     ]
    },
    {
     "name": "stdout",
     "output_type": "stream",
     "text": [
      "Epoch: 0 train loss: 0.17629715865931572 train_metric: 0.8186764705882352 val_loss: 0.1511189392857546 val_metric: 0.8436432637571158 time 18.02\n"
     ]
    },
    {
     "name": "stderr",
     "output_type": "stream",
     "text": [
      "  0%|          | 0/1047 [00:00<?, ?it/s]"
     ]
    },
    {
     "name": "stdout",
     "output_type": "stream",
     "text": [
      "200\n"
     ]
    },
    {
     "name": "stderr",
     "output_type": "stream",
     "text": [
      "100%|██████████| 1047/1047 [16:23<00:00,  1.06it/s]\n",
      "100%|██████████| 263/263 [01:36<00:00,  2.72it/s]\n"
     ]
    },
    {
     "name": "stdout",
     "output_type": "stream",
     "text": [
      "Epoch: 1 train loss: 0.1343277106070473 train_metric: 0.8633083175486129 val_loss: 0.152165323999067 val_metric: 0.845793516957092 time 18.02\n"
     ]
    },
    {
     "name": "stderr",
     "output_type": "stream",
     "text": [
      "  0%|          | 0/1047 [00:00<?, ?it/s]"
     ]
    },
    {
     "name": "stdout",
     "output_type": "stream",
     "text": [
      "200\n"
     ]
    },
    {
     "name": "stderr",
     "output_type": "stream",
     "text": [
      "100%|██████████| 1047/1047 [16:21<00:00,  1.07it/s]\n",
      "100%|██████████| 263/263 [01:36<00:00,  2.73it/s]\n"
     ]
    },
    {
     "name": "stdout",
     "output_type": "stream",
     "text": [
      "Epoch: 2 train loss: 0.11145442034052942 train_metric: 0.8897992235692 val_loss: 0.15737161671789307 val_metric: 0.8473616943582253 time 17.98\n"
     ]
    },
    {
     "name": "stderr",
     "output_type": "stream",
     "text": [
      "  0%|          | 0/1047 [00:00<?, ?it/s]"
     ]
    },
    {
     "name": "stdout",
     "output_type": "stream",
     "text": [
      "200\n"
     ]
    },
    {
     "name": "stderr",
     "output_type": "stream",
     "text": [
      "100%|██████████| 1047/1047 [16:22<00:00,  1.07it/s]\n",
      "100%|██████████| 263/263 [01:35<00:00,  2.74it/s]\n"
     ]
    },
    {
     "name": "stdout",
     "output_type": "stream",
     "text": [
      "Epoch: 3 train loss: 0.08840366070351804 train_metric: 0.9141649249477485 val_loss: 0.17506567450255758 val_metric: 0.8351585014409222 time 17.97\n",
      "200\n"
     ]
    },
    {
     "name": "stderr",
     "output_type": "stream",
     "text": [
      "100%|██████████| 1050/1050 [16:26<00:00,  1.06it/s]\n",
      "100%|██████████| 261/261 [01:36<00:00,  2.71it/s]\n"
     ]
    },
    {
     "name": "stdout",
     "output_type": "stream",
     "text": [
      "Epoch: 0 train loss: 0.17721120255334036 train_metric: 0.8169661410585503 val_loss: 0.1510134445479187 val_metric: 0.8457508731082655 time 18.06\n"
     ]
    },
    {
     "name": "stderr",
     "output_type": "stream",
     "text": [
      "  0%|          | 0/1050 [00:00<?, ?it/s]"
     ]
    },
    {
     "name": "stdout",
     "output_type": "stream",
     "text": [
      "200\n"
     ]
    },
    {
     "name": "stderr",
     "output_type": "stream",
     "text": [
      "100%|██████████| 1050/1050 [16:27<00:00,  1.06it/s]\n",
      "100%|██████████| 261/261 [01:35<00:00,  2.74it/s]\n"
     ]
    },
    {
     "name": "stdout",
     "output_type": "stream",
     "text": [
      "Epoch: 1 train loss: 0.1343531211572034 train_metric: 0.8642874251497007 val_loss: 0.15503615103679916 val_metric: 0.844644701023186 time 18.04\n"
     ]
    },
    {
     "name": "stderr",
     "output_type": "stream",
     "text": [
      "  0%|          | 0/1050 [00:00<?, ?it/s]"
     ]
    },
    {
     "name": "stdout",
     "output_type": "stream",
     "text": [
      "200\n"
     ]
    },
    {
     "name": "stderr",
     "output_type": "stream",
     "text": [
      "100%|██████████| 1050/1050 [16:26<00:00,  1.06it/s]\n",
      "100%|██████████| 261/261 [01:34<00:00,  2.76it/s]\n"
     ]
    },
    {
     "name": "stdout",
     "output_type": "stream",
     "text": [
      "Epoch     3: reducing learning rate of group 0 to 5.0000e-06.\n",
      "Epoch: 2 train loss: 0.11054362011452516 train_metric: 0.8903982269250018 val_loss: 0.16548120417327392 val_metric: 0.8447584494939852 time 18.01\n"
     ]
    },
    {
     "name": "stderr",
     "output_type": "stream",
     "text": [
      "  0%|          | 0/1050 [00:00<?, ?it/s]"
     ]
    },
    {
     "name": "stdout",
     "output_type": "stream",
     "text": [
      "200\n"
     ]
    },
    {
     "name": "stderr",
     "output_type": "stream",
     "text": [
      "100%|██████████| 1050/1050 [16:24<00:00,  1.07it/s]\n",
      "100%|██████████| 261/261 [01:35<00:00,  2.73it/s]\n"
     ]
    },
    {
     "name": "stdout",
     "output_type": "stream",
     "text": [
      "Epoch: 3 train loss: 0.08119781460169526 train_metric: 0.9227770779359684 val_loss: 0.17629569246541532 val_metric: 0.8407606607760277 time 18.01\n",
      "200\n"
     ]
    },
    {
     "name": "stderr",
     "output_type": "stream",
     "text": [
      "100%|██████████| 1047/1047 [16:25<00:00,  1.06it/s]\n",
      "100%|██████████| 264/264 [01:36<00:00,  2.72it/s]\n"
     ]
    },
    {
     "name": "stdout",
     "output_type": "stream",
     "text": [
      "Epoch: 0 train loss: 0.17757137167448073 train_metric: 0.8135601541596091 val_loss: 0.151086445622132 val_metric: 0.8462348100660224 time 18.04\n"
     ]
    },
    {
     "name": "stderr",
     "output_type": "stream",
     "text": [
      "  0%|          | 0/1047 [00:00<?, ?it/s]"
     ]
    },
    {
     "name": "stdout",
     "output_type": "stream",
     "text": [
      "200\n"
     ]
    },
    {
     "name": "stderr",
     "output_type": "stream",
     "text": [
      "100%|██████████| 1047/1047 [16:25<00:00,  1.06it/s]\n",
      "100%|██████████| 264/264 [01:36<00:00,  2.72it/s]\n"
     ]
    },
    {
     "name": "stdout",
     "output_type": "stream",
     "text": [
      "Epoch: 1 train loss: 0.1353594944229725 train_metric: 0.8622622526709145 val_loss: 0.14911752143270376 val_metric: 0.8487889607256585 time 18.06\n"
     ]
    },
    {
     "name": "stderr",
     "output_type": "stream",
     "text": [
      "  0%|          | 0/1047 [00:00<?, ?it/s]"
     ]
    },
    {
     "name": "stdout",
     "output_type": "stream",
     "text": [
      "200\n"
     ]
    },
    {
     "name": "stderr",
     "output_type": "stream",
     "text": [
      "100%|██████████| 1047/1047 [16:28<00:00,  1.06it/s]\n",
      "100%|██████████| 264/264 [01:39<00:00,  2.66it/s]\n"
     ]
    },
    {
     "name": "stdout",
     "output_type": "stream",
     "text": [
      "Epoch: 2 train loss: 0.11340703614191316 train_metric: 0.8867574257425743 val_loss: 0.15704223534809797 val_metric: 0.8524804177545693 time 18.14\n"
     ]
    },
    {
     "name": "stderr",
     "output_type": "stream",
     "text": [
      "  0%|          | 0/1047 [00:00<?, ?it/s]"
     ]
    },
    {
     "name": "stdout",
     "output_type": "stream",
     "text": [
      "200\n"
     ]
    },
    {
     "name": "stderr",
     "output_type": "stream",
     "text": [
      "100%|██████████| 1047/1047 [16:25<00:00,  1.06it/s]\n",
      "100%|██████████| 264/264 [01:35<00:00,  2.75it/s]\n"
     ]
    },
    {
     "name": "stdout",
     "output_type": "stream",
     "text": [
      "Epoch: 3 train loss: 0.08742883727274686 train_metric: 0.9154481579946829 val_loss: 0.17529548559005617 val_metric: 0.8444571755943856 time 18.03\n",
      "200\n"
     ]
    }
   ],
   "source": [
    "for i in [0,1,2,3,4]:\n",
    "    \n",
    "    train_df = BertDataV2(tokenizer=BERT_TOKENIZER,df = train.iloc[folds[i][0]], target_cols=TARGET_COLS)\n",
    "    val_df = BertDataV2(tokenizer=BERT_TOKENIZER,df = train.iloc[folds[i][1]], target_cols=TARGET_COLS)\n",
    "\n",
    "    train_dl = DataLoader(dataset=train_df,batch_size=TRAIN_BATCH_SIZE,num_workers=NUM_WORKERS,drop_last=True,shuffle=True)    \n",
    "    val_dl = DataLoader(dataset=val_df,batch_size=VAL_BATCH_SIZE,num_workers=NUM_WORKERS,drop_last=False,shuffle=False)    \n",
    "\n",
    "    early_stopping_rounds=5\n",
    "    maximize=True\n",
    "    num_epochs=4\n",
    "    max_lr=0.00001\n",
    "\n",
    "    mod = BertForPaperClassificationV2(arch_type=BERT_TYPE,config=BERT_CONFIG)\n",
    "\n",
    "    _ = mod.to(device)\n",
    "\n",
    "    optimizer = optim.AdamW(params=mod.parameters(),lr=max_lr)\n",
    "\n",
    "    schedular = optim.lr_scheduler.ReduceLROnPlateau(optimizer=optimizer,patience=1,factor=0.5,mode='max',min_lr=0.0000001,verbose=True)\n",
    "\n",
    "    es=EarlyStopping(patience=early_stopping_rounds,higher_is_better=maximize,tolerance=0.0001,\n",
    "                    save_path='scibertv2_uncased_mutlilayer_fold{}.path'.format(i),model=mod)    \n",
    "\n",
    "    fitter = GpuEngine(model = mod,device = device,optimizer= optimizer,schedular=schedular, slack_header='ScibertV2 scivocab uncased mutlilayer sahilv711 fold {}'.format(i),\n",
    "                       es = es,log_path='log_fold{}.txt'.format(i),num_epochs=num_epochs,\n",
    "                       slack_loggger=slack_loggger,criterion=AvgLoss)\n",
    "    \n",
    "    fitter.fit(train_dl,val_dl)"
   ]
  },
  {
   "cell_type": "markdown",
   "metadata": {
    "papermill": {
     "duration": 9.899612,
     "end_time": "2020-08-23T16:32:47.962974",
     "exception": false,
     "start_time": "2020-08-23T16:32:38.063362",
     "status": "completed"
    },
    "tags": []
   },
   "source": [
    "------------------------------"
   ]
  },
  {
   "cell_type": "markdown",
   "metadata": {
    "papermill": {
     "duration": 9.463367,
     "end_time": "2020-08-23T16:33:07.391377",
     "exception": false,
     "start_time": "2020-08-23T16:32:57.928010",
     "status": "completed"
    },
    "tags": []
   },
   "source": [
    "### Inferencing"
   ]
  },
  {
   "cell_type": "code",
   "execution_count": 8,
   "metadata": {},
   "outputs": [],
   "source": [
    "def predict(test_dl,model,model_path=None):\n",
    "\n",
    "    if model_path is not None:\n",
    "        model.load_state_dict(torch.load(model_path))\n",
    "\n",
    "    model.eval()\n",
    "    with torch.no_grad():\n",
    "        pred_list=[]\n",
    "        tar_list=[]\n",
    "    for  data_ in tqdm(test_dl, total=len(test_dl)):        \n",
    "        input_ids = data_['input_ids'].to(device)                        \n",
    "        token_type_ids = data_['token_type_ids'].to(device)                                    \n",
    "        attention_mask = data_['attention_mask'].to(device)      \n",
    "\n",
    "        preds = model(input_ids,token_type_ids,attention_mask)            \n",
    "        preds = list(preds.values())\n",
    "        preds = [x.cpu().detach().numpy() for x in preds]\n",
    "        pred_list.append(preds)\n",
    "            \n",
    "    return pred_list"
   ]
  },
  {
   "cell_type": "code",
   "execution_count": null,
   "metadata": {},
   "outputs": [],
   "source": [
    "models = glob.glob('*.path')\n",
    "models"
   ]
  },
  {
   "cell_type": "code",
   "execution_count": null,
   "metadata": {},
   "outputs": [],
   "source": [
    "test_df = BertDataV2(tokenizer=BERT_TOKENIZER,df = test)\n",
    "test_dl = DataLoader(dataset=test_df,batch_size=TRAIN_BATCH_SIZE,num_workers=NUM_WORKERS,drop_last=False,shuffle=False)    "
   ]
  },
  {
   "cell_type": "code",
   "execution_count": null,
   "metadata": {},
   "outputs": [],
   "source": [
    "%%time\n",
    "preds1 = []\n",
    "preds2 = []\n",
    "preds3 = []\n",
    "preds4 = []\n",
    "preds5 = []\n",
    "preds6 = []\n",
    "\n",
    "for _mod in models:\n",
    "    m = predict(test_dl,mod,_mod)\n",
    "    preds1.append(np.concatenate([x[0] for x in m]))\n",
    "    preds2.append(np.concatenate([x[1] for x in m]))\n",
    "    preds3.append(np.concatenate([x[2] for x in m]))    \n",
    "    preds4.append(np.concatenate([x[3] for x in m]))\n",
    "    preds5.append(np.concatenate([x[4] for x in m]))\n",
    "    preds6.append(np.concatenate([x[5] for x in m]))\n",
    "\n",
    "test['Computer Science'] = np.sum(preds1,axis=0).argmax(axis=1)\n",
    "test['Physics'] = np.sum(preds2,axis=0).argmax(axis=1)\n",
    "test['Mathematics'] = np.sum(preds3,axis=0).argmax(axis=1)\n",
    "test['Statistics'] = np.sum(preds4,axis=0).argmax(axis=1)\n",
    "test['Quantitative Biology'] = np.sum(preds5,axis=0).argmax(axis=1)\n",
    "test['Quantitative Finance'] = np.sum(preds6,axis=0).argmax(axis=1)"
   ]
  },
  {
   "cell_type": "code",
   "execution_count": null,
   "metadata": {},
   "outputs": [],
   "source": [
    "test[['ID','Computer Science', 'Physics', 'Mathematics',\n",
    "       'Statistics', 'Quantitative Biology', 'Quantitative Finance']].to_csv('submission_scibertv2_mutlilayer.csv',index=False)"
   ]
  },
  {
   "cell_type": "code",
   "execution_count": null,
   "metadata": {},
   "outputs": [],
   "source": [
    "dict_={}\n",
    "dict_['Computer Science'] = np.sum(preds1,axis=0)\n",
    "dict_['Physics'] = np.sum(preds2,axis=0)\n",
    "dict_['Mathematics'] = np.sum(preds3,axis=0)\n",
    "dict_['Statistics'] = np.sum(preds4,axis=0)\n",
    "dict_['Quantitative Biology'] = np.sum(preds5,axis=0)\n",
    "dict_['Quantitative Finance'] = np.sum(preds6,axis=0)"
   ]
  },
  {
   "cell_type": "code",
   "execution_count": null,
   "metadata": {},
   "outputs": [],
   "source": [
    "import pickle\n",
    "def save_obj(obj, name ):\n",
    "    with open(name, 'wb') as f:\n",
    "        pickle.dump(obj, f, pickle.HIGHEST_PROTOCOL)\n",
    "\n",
    "def load_obj(name ):\n",
    "    with open(name , 'rb') as f:\n",
    "        return pickle.load(f)\n",
    "    \n",
    "save_obj(dict_,'test_raw_preds_scibertv2_mutlilayer.pkl')   "
   ]
  }
 ],
 "metadata": {
  "kernelspec": {
   "display_name": "Python 3",
   "language": "python",
   "name": "python3"
  },
  "language_info": {
   "codemirror_mode": {
    "name": "ipython",
    "version": 3
   },
   "file_extension": ".py",
   "mimetype": "text/x-python",
   "name": "python",
   "nbconvert_exporter": "python",
   "pygments_lexer": "ipython3",
   "version": "3.7.4"
  },
  "papermill": {
   "duration": 21690.277923,
   "end_time": "2020-08-23T16:33:18.241928",
   "environment_variables": {},
   "exception": null,
   "input_path": "__notebook__.ipynb",
   "output_path": "__notebook__.ipynb",
   "parameters": {},
   "start_time": "2020-08-23T10:31:47.964005",
   "version": "2.1.0"
  },
  "widgets": {
   "application/vnd.jupyter.widget-state+json": {
    "state": {
     "0530d7a6f85646c18fe4f510fce69ebe": {
      "model_module": "@jupyter-widgets/controls",
      "model_module_version": "1.5.0",
      "model_name": "HBoxModel",
      "state": {
       "_dom_classes": [],
       "_model_module": "@jupyter-widgets/controls",
       "_model_module_version": "1.5.0",
       "_model_name": "HBoxModel",
       "_view_count": null,
       "_view_module": "@jupyter-widgets/controls",
       "_view_module_version": "1.5.0",
       "_view_name": "HBoxView",
       "box_style": "",
       "children": [
        "IPY_MODEL_d51b152aa414494ca1a5ae6db2449449",
        "IPY_MODEL_360ba4a3ac664a25a0067f187c924b33"
       ],
       "layout": "IPY_MODEL_9978339726944615abec47f087b340b7"
      }
     },
     "1889b77ba11842e691b97f512457ff58": {
      "model_module": "@jupyter-widgets/controls",
      "model_module_version": "1.5.0",
      "model_name": "HBoxModel",
      "state": {
       "_dom_classes": [],
       "_model_module": "@jupyter-widgets/controls",
       "_model_module_version": "1.5.0",
       "_model_name": "HBoxModel",
       "_view_count": null,
       "_view_module": "@jupyter-widgets/controls",
       "_view_module_version": "1.5.0",
       "_view_name": "HBoxView",
       "box_style": "",
       "children": [
        "IPY_MODEL_5cd2fbf68a8c4015addfe5885fdfa245",
        "IPY_MODEL_c2b3f9db1bb742ea9622c7c998acf555"
       ],
       "layout": "IPY_MODEL_ea04d274c0974befbcd3d4a505705720"
      }
     },
     "32db05e710004ea2835e6fbfab0604a9": {
      "model_module": "@jupyter-widgets/controls",
      "model_module_version": "1.5.0",
      "model_name": "DescriptionStyleModel",
      "state": {
       "_model_module": "@jupyter-widgets/controls",
       "_model_module_version": "1.5.0",
       "_model_name": "DescriptionStyleModel",
       "_view_count": null,
       "_view_module": "@jupyter-widgets/base",
       "_view_module_version": "1.2.0",
       "_view_name": "StyleView",
       "description_width": ""
      }
     },
     "360ba4a3ac664a25a0067f187c924b33": {
      "model_module": "@jupyter-widgets/controls",
      "model_module_version": "1.5.0",
      "model_name": "HTMLModel",
      "state": {
       "_dom_classes": [],
       "_model_module": "@jupyter-widgets/controls",
       "_model_module_version": "1.5.0",
       "_model_name": "HTMLModel",
       "_view_count": null,
       "_view_module": "@jupyter-widgets/controls",
       "_view_module_version": "1.5.0",
       "_view_name": "HTMLView",
       "description": "",
       "description_tooltip": null,
       "layout": "IPY_MODEL_518c0ccf3cff480e97f82b427c03ec8e",
       "placeholder": "​",
       "style": "IPY_MODEL_84e40f8088084f11bb96c1264f58380c",
       "value": " 442M/442M [00:19&lt;00:00, 22.4MB/s]"
      }
     },
     "39c017f89dc54a05b4f51a134c0c0a88": {
      "model_module": "@jupyter-widgets/base",
      "model_module_version": "1.2.0",
      "model_name": "LayoutModel",
      "state": {
       "_model_module": "@jupyter-widgets/base",
       "_model_module_version": "1.2.0",
       "_model_name": "LayoutModel",
       "_view_count": null,
       "_view_module": "@jupyter-widgets/base",
       "_view_module_version": "1.2.0",
       "_view_name": "LayoutView",
       "align_content": null,
       "align_items": null,
       "align_self": null,
       "border": null,
       "bottom": null,
       "display": null,
       "flex": null,
       "flex_flow": null,
       "grid_area": null,
       "grid_auto_columns": null,
       "grid_auto_flow": null,
       "grid_auto_rows": null,
       "grid_column": null,
       "grid_gap": null,
       "grid_row": null,
       "grid_template_areas": null,
       "grid_template_columns": null,
       "grid_template_rows": null,
       "height": null,
       "justify_content": null,
       "justify_items": null,
       "left": null,
       "margin": null,
       "max_height": null,
       "max_width": null,
       "min_height": null,
       "min_width": null,
       "object_fit": null,
       "object_position": null,
       "order": null,
       "overflow": null,
       "overflow_x": null,
       "overflow_y": null,
       "padding": null,
       "right": null,
       "top": null,
       "visibility": null,
       "width": null
      }
     },
     "3a20ded273104193bba836a932b9da97": {
      "model_module": "@jupyter-widgets/controls",
      "model_module_version": "1.5.0",
      "model_name": "ProgressStyleModel",
      "state": {
       "_model_module": "@jupyter-widgets/controls",
       "_model_module_version": "1.5.0",
       "_model_name": "ProgressStyleModel",
       "_view_count": null,
       "_view_module": "@jupyter-widgets/base",
       "_view_module_version": "1.2.0",
       "_view_name": "StyleView",
       "bar_color": null,
       "description_width": "initial"
      }
     },
     "44243ac841224a6cad3d705f34be9d13": {
      "model_module": "@jupyter-widgets/base",
      "model_module_version": "1.2.0",
      "model_name": "LayoutModel",
      "state": {
       "_model_module": "@jupyter-widgets/base",
       "_model_module_version": "1.2.0",
       "_model_name": "LayoutModel",
       "_view_count": null,
       "_view_module": "@jupyter-widgets/base",
       "_view_module_version": "1.2.0",
       "_view_name": "LayoutView",
       "align_content": null,
       "align_items": null,
       "align_self": null,
       "border": null,
       "bottom": null,
       "display": null,
       "flex": null,
       "flex_flow": null,
       "grid_area": null,
       "grid_auto_columns": null,
       "grid_auto_flow": null,
       "grid_auto_rows": null,
       "grid_column": null,
       "grid_gap": null,
       "grid_row": null,
       "grid_template_areas": null,
       "grid_template_columns": null,
       "grid_template_rows": null,
       "height": null,
       "justify_content": null,
       "justify_items": null,
       "left": null,
       "margin": null,
       "max_height": null,
       "max_width": null,
       "min_height": null,
       "min_width": null,
       "object_fit": null,
       "object_position": null,
       "order": null,
       "overflow": null,
       "overflow_x": null,
       "overflow_y": null,
       "padding": null,
       "right": null,
       "top": null,
       "visibility": null,
       "width": null
      }
     },
     "456f28a643554811aa91fc20d76c0a26": {
      "model_module": "@jupyter-widgets/controls",
      "model_module_version": "1.5.0",
      "model_name": "ProgressStyleModel",
      "state": {
       "_model_module": "@jupyter-widgets/controls",
       "_model_module_version": "1.5.0",
       "_model_name": "ProgressStyleModel",
       "_view_count": null,
       "_view_module": "@jupyter-widgets/base",
       "_view_module_version": "1.2.0",
       "_view_name": "StyleView",
       "bar_color": null,
       "description_width": "initial"
      }
     },
     "4e8bd73a9b5f4569bf6fcc25ba1f2060": {
      "model_module": "@jupyter-widgets/controls",
      "model_module_version": "1.5.0",
      "model_name": "HTMLModel",
      "state": {
       "_dom_classes": [],
       "_model_module": "@jupyter-widgets/controls",
       "_model_module_version": "1.5.0",
       "_model_name": "HTMLModel",
       "_view_count": null,
       "_view_module": "@jupyter-widgets/controls",
       "_view_module_version": "1.5.0",
       "_view_name": "HTMLView",
       "description": "",
       "description_tooltip": null,
       "layout": "IPY_MODEL_d6589eb88ae6415896fbee6a3ba41c73",
       "placeholder": "​",
       "style": "IPY_MODEL_32db05e710004ea2835e6fbfab0604a9",
       "value": " 385/385 [00:07&lt;00:00, 51.9B/s]"
      }
     },
     "518c0ccf3cff480e97f82b427c03ec8e": {
      "model_module": "@jupyter-widgets/base",
      "model_module_version": "1.2.0",
      "model_name": "LayoutModel",
      "state": {
       "_model_module": "@jupyter-widgets/base",
       "_model_module_version": "1.2.0",
       "_model_name": "LayoutModel",
       "_view_count": null,
       "_view_module": "@jupyter-widgets/base",
       "_view_module_version": "1.2.0",
       "_view_name": "LayoutView",
       "align_content": null,
       "align_items": null,
       "align_self": null,
       "border": null,
       "bottom": null,
       "display": null,
       "flex": null,
       "flex_flow": null,
       "grid_area": null,
       "grid_auto_columns": null,
       "grid_auto_flow": null,
       "grid_auto_rows": null,
       "grid_column": null,
       "grid_gap": null,
       "grid_row": null,
       "grid_template_areas": null,
       "grid_template_columns": null,
       "grid_template_rows": null,
       "height": null,
       "justify_content": null,
       "justify_items": null,
       "left": null,
       "margin": null,
       "max_height": null,
       "max_width": null,
       "min_height": null,
       "min_width": null,
       "object_fit": null,
       "object_position": null,
       "order": null,
       "overflow": null,
       "overflow_x": null,
       "overflow_y": null,
       "padding": null,
       "right": null,
       "top": null,
       "visibility": null,
       "width": null
      }
     },
     "562d6e2136dd40c5b7e2176b3b641d83": {
      "model_module": "@jupyter-widgets/base",
      "model_module_version": "1.2.0",
      "model_name": "LayoutModel",
      "state": {
       "_model_module": "@jupyter-widgets/base",
       "_model_module_version": "1.2.0",
       "_model_name": "LayoutModel",
       "_view_count": null,
       "_view_module": "@jupyter-widgets/base",
       "_view_module_version": "1.2.0",
       "_view_name": "LayoutView",
       "align_content": null,
       "align_items": null,
       "align_self": null,
       "border": null,
       "bottom": null,
       "display": null,
       "flex": null,
       "flex_flow": null,
       "grid_area": null,
       "grid_auto_columns": null,
       "grid_auto_flow": null,
       "grid_auto_rows": null,
       "grid_column": null,
       "grid_gap": null,
       "grid_row": null,
       "grid_template_areas": null,
       "grid_template_columns": null,
       "grid_template_rows": null,
       "height": null,
       "justify_content": null,
       "justify_items": null,
       "left": null,
       "margin": null,
       "max_height": null,
       "max_width": null,
       "min_height": null,
       "min_width": null,
       "object_fit": null,
       "object_position": null,
       "order": null,
       "overflow": null,
       "overflow_x": null,
       "overflow_y": null,
       "padding": null,
       "right": null,
       "top": null,
       "visibility": null,
       "width": null
      }
     },
     "5caac62622b246089515907b191f3ff0": {
      "model_module": "@jupyter-widgets/controls",
      "model_module_version": "1.5.0",
      "model_name": "HBoxModel",
      "state": {
       "_dom_classes": [],
       "_model_module": "@jupyter-widgets/controls",
       "_model_module_version": "1.5.0",
       "_model_name": "HBoxModel",
       "_view_count": null,
       "_view_module": "@jupyter-widgets/controls",
       "_view_module_version": "1.5.0",
       "_view_name": "HBoxView",
       "box_style": "",
       "children": [
        "IPY_MODEL_64b328a7cf4b48cead618cd87564aa18",
        "IPY_MODEL_4e8bd73a9b5f4569bf6fcc25ba1f2060"
       ],
       "layout": "IPY_MODEL_44243ac841224a6cad3d705f34be9d13"
      }
     },
     "5cd2fbf68a8c4015addfe5885fdfa245": {
      "model_module": "@jupyter-widgets/controls",
      "model_module_version": "1.5.0",
      "model_name": "FloatProgressModel",
      "state": {
       "_dom_classes": [],
       "_model_module": "@jupyter-widgets/controls",
       "_model_module_version": "1.5.0",
       "_model_name": "FloatProgressModel",
       "_view_count": null,
       "_view_module": "@jupyter-widgets/controls",
       "_view_module_version": "1.5.0",
       "_view_name": "ProgressView",
       "bar_style": "success",
       "description": "Downloading: 100%",
       "description_tooltip": null,
       "layout": "IPY_MODEL_39c017f89dc54a05b4f51a134c0c0a88",
       "max": 227845,
       "min": 0,
       "orientation": "horizontal",
       "style": "IPY_MODEL_9ac7107b524f46f28e9d8dfc323c0f3c",
       "value": 227845
      }
     },
     "64b328a7cf4b48cead618cd87564aa18": {
      "model_module": "@jupyter-widgets/controls",
      "model_module_version": "1.5.0",
      "model_name": "FloatProgressModel",
      "state": {
       "_dom_classes": [],
       "_model_module": "@jupyter-widgets/controls",
       "_model_module_version": "1.5.0",
       "_model_name": "FloatProgressModel",
       "_view_count": null,
       "_view_module": "@jupyter-widgets/controls",
       "_view_module_version": "1.5.0",
       "_view_name": "ProgressView",
       "bar_style": "success",
       "description": "Downloading: 100%",
       "description_tooltip": null,
       "layout": "IPY_MODEL_562d6e2136dd40c5b7e2176b3b641d83",
       "max": 385,
       "min": 0,
       "orientation": "horizontal",
       "style": "IPY_MODEL_3a20ded273104193bba836a932b9da97",
       "value": 385
      }
     },
     "84e40f8088084f11bb96c1264f58380c": {
      "model_module": "@jupyter-widgets/controls",
      "model_module_version": "1.5.0",
      "model_name": "DescriptionStyleModel",
      "state": {
       "_model_module": "@jupyter-widgets/controls",
       "_model_module_version": "1.5.0",
       "_model_name": "DescriptionStyleModel",
       "_view_count": null,
       "_view_module": "@jupyter-widgets/base",
       "_view_module_version": "1.2.0",
       "_view_name": "StyleView",
       "description_width": ""
      }
     },
     "9978339726944615abec47f087b340b7": {
      "model_module": "@jupyter-widgets/base",
      "model_module_version": "1.2.0",
      "model_name": "LayoutModel",
      "state": {
       "_model_module": "@jupyter-widgets/base",
       "_model_module_version": "1.2.0",
       "_model_name": "LayoutModel",
       "_view_count": null,
       "_view_module": "@jupyter-widgets/base",
       "_view_module_version": "1.2.0",
       "_view_name": "LayoutView",
       "align_content": null,
       "align_items": null,
       "align_self": null,
       "border": null,
       "bottom": null,
       "display": null,
       "flex": null,
       "flex_flow": null,
       "grid_area": null,
       "grid_auto_columns": null,
       "grid_auto_flow": null,
       "grid_auto_rows": null,
       "grid_column": null,
       "grid_gap": null,
       "grid_row": null,
       "grid_template_areas": null,
       "grid_template_columns": null,
       "grid_template_rows": null,
       "height": null,
       "justify_content": null,
       "justify_items": null,
       "left": null,
       "margin": null,
       "max_height": null,
       "max_width": null,
       "min_height": null,
       "min_width": null,
       "object_fit": null,
       "object_position": null,
       "order": null,
       "overflow": null,
       "overflow_x": null,
       "overflow_y": null,
       "padding": null,
       "right": null,
       "top": null,
       "visibility": null,
       "width": null
      }
     },
     "9ac7107b524f46f28e9d8dfc323c0f3c": {
      "model_module": "@jupyter-widgets/controls",
      "model_module_version": "1.5.0",
      "model_name": "ProgressStyleModel",
      "state": {
       "_model_module": "@jupyter-widgets/controls",
       "_model_module_version": "1.5.0",
       "_model_name": "ProgressStyleModel",
       "_view_count": null,
       "_view_module": "@jupyter-widgets/base",
       "_view_module_version": "1.2.0",
       "_view_name": "StyleView",
       "bar_color": null,
       "description_width": "initial"
      }
     },
     "c2b3f9db1bb742ea9622c7c998acf555": {
      "model_module": "@jupyter-widgets/controls",
      "model_module_version": "1.5.0",
      "model_name": "HTMLModel",
      "state": {
       "_dom_classes": [],
       "_model_module": "@jupyter-widgets/controls",
       "_model_module_version": "1.5.0",
       "_model_name": "HTMLModel",
       "_view_count": null,
       "_view_module": "@jupyter-widgets/controls",
       "_view_module_version": "1.5.0",
       "_view_name": "HTMLView",
       "description": "",
       "description_tooltip": null,
       "layout": "IPY_MODEL_df9942fc6d6b458f8ed3381ea4c5d24f",
       "placeholder": "​",
       "style": "IPY_MODEL_e783321f15c34de0ae7d8d749fb42fd9",
       "value": " 228k/228k [00:01&lt;00:00, 152kB/s]"
      }
     },
     "ca7d454c08634e05a7394656999b6370": {
      "model_module": "@jupyter-widgets/base",
      "model_module_version": "1.2.0",
      "model_name": "LayoutModel",
      "state": {
       "_model_module": "@jupyter-widgets/base",
       "_model_module_version": "1.2.0",
       "_model_name": "LayoutModel",
       "_view_count": null,
       "_view_module": "@jupyter-widgets/base",
       "_view_module_version": "1.2.0",
       "_view_name": "LayoutView",
       "align_content": null,
       "align_items": null,
       "align_self": null,
       "border": null,
       "bottom": null,
       "display": null,
       "flex": null,
       "flex_flow": null,
       "grid_area": null,
       "grid_auto_columns": null,
       "grid_auto_flow": null,
       "grid_auto_rows": null,
       "grid_column": null,
       "grid_gap": null,
       "grid_row": null,
       "grid_template_areas": null,
       "grid_template_columns": null,
       "grid_template_rows": null,
       "height": null,
       "justify_content": null,
       "justify_items": null,
       "left": null,
       "margin": null,
       "max_height": null,
       "max_width": null,
       "min_height": null,
       "min_width": null,
       "object_fit": null,
       "object_position": null,
       "order": null,
       "overflow": null,
       "overflow_x": null,
       "overflow_y": null,
       "padding": null,
       "right": null,
       "top": null,
       "visibility": null,
       "width": null
      }
     },
     "d51b152aa414494ca1a5ae6db2449449": {
      "model_module": "@jupyter-widgets/controls",
      "model_module_version": "1.5.0",
      "model_name": "FloatProgressModel",
      "state": {
       "_dom_classes": [],
       "_model_module": "@jupyter-widgets/controls",
       "_model_module_version": "1.5.0",
       "_model_name": "FloatProgressModel",
       "_view_count": null,
       "_view_module": "@jupyter-widgets/controls",
       "_view_module_version": "1.5.0",
       "_view_name": "ProgressView",
       "bar_style": "success",
       "description": "Downloading: 100%",
       "description_tooltip": null,
       "layout": "IPY_MODEL_ca7d454c08634e05a7394656999b6370",
       "max": 442221694,
       "min": 0,
       "orientation": "horizontal",
       "style": "IPY_MODEL_456f28a643554811aa91fc20d76c0a26",
       "value": 442221694
      }
     },
     "d6589eb88ae6415896fbee6a3ba41c73": {
      "model_module": "@jupyter-widgets/base",
      "model_module_version": "1.2.0",
      "model_name": "LayoutModel",
      "state": {
       "_model_module": "@jupyter-widgets/base",
       "_model_module_version": "1.2.0",
       "_model_name": "LayoutModel",
       "_view_count": null,
       "_view_module": "@jupyter-widgets/base",
       "_view_module_version": "1.2.0",
       "_view_name": "LayoutView",
       "align_content": null,
       "align_items": null,
       "align_self": null,
       "border": null,
       "bottom": null,
       "display": null,
       "flex": null,
       "flex_flow": null,
       "grid_area": null,
       "grid_auto_columns": null,
       "grid_auto_flow": null,
       "grid_auto_rows": null,
       "grid_column": null,
       "grid_gap": null,
       "grid_row": null,
       "grid_template_areas": null,
       "grid_template_columns": null,
       "grid_template_rows": null,
       "height": null,
       "justify_content": null,
       "justify_items": null,
       "left": null,
       "margin": null,
       "max_height": null,
       "max_width": null,
       "min_height": null,
       "min_width": null,
       "object_fit": null,
       "object_position": null,
       "order": null,
       "overflow": null,
       "overflow_x": null,
       "overflow_y": null,
       "padding": null,
       "right": null,
       "top": null,
       "visibility": null,
       "width": null
      }
     },
     "df9942fc6d6b458f8ed3381ea4c5d24f": {
      "model_module": "@jupyter-widgets/base",
      "model_module_version": "1.2.0",
      "model_name": "LayoutModel",
      "state": {
       "_model_module": "@jupyter-widgets/base",
       "_model_module_version": "1.2.0",
       "_model_name": "LayoutModel",
       "_view_count": null,
       "_view_module": "@jupyter-widgets/base",
       "_view_module_version": "1.2.0",
       "_view_name": "LayoutView",
       "align_content": null,
       "align_items": null,
       "align_self": null,
       "border": null,
       "bottom": null,
       "display": null,
       "flex": null,
       "flex_flow": null,
       "grid_area": null,
       "grid_auto_columns": null,
       "grid_auto_flow": null,
       "grid_auto_rows": null,
       "grid_column": null,
       "grid_gap": null,
       "grid_row": null,
       "grid_template_areas": null,
       "grid_template_columns": null,
       "grid_template_rows": null,
       "height": null,
       "justify_content": null,
       "justify_items": null,
       "left": null,
       "margin": null,
       "max_height": null,
       "max_width": null,
       "min_height": null,
       "min_width": null,
       "object_fit": null,
       "object_position": null,
       "order": null,
       "overflow": null,
       "overflow_x": null,
       "overflow_y": null,
       "padding": null,
       "right": null,
       "top": null,
       "visibility": null,
       "width": null
      }
     },
     "e783321f15c34de0ae7d8d749fb42fd9": {
      "model_module": "@jupyter-widgets/controls",
      "model_module_version": "1.5.0",
      "model_name": "DescriptionStyleModel",
      "state": {
       "_model_module": "@jupyter-widgets/controls",
       "_model_module_version": "1.5.0",
       "_model_name": "DescriptionStyleModel",
       "_view_count": null,
       "_view_module": "@jupyter-widgets/base",
       "_view_module_version": "1.2.0",
       "_view_name": "StyleView",
       "description_width": ""
      }
     },
     "ea04d274c0974befbcd3d4a505705720": {
      "model_module": "@jupyter-widgets/base",
      "model_module_version": "1.2.0",
      "model_name": "LayoutModel",
      "state": {
       "_model_module": "@jupyter-widgets/base",
       "_model_module_version": "1.2.0",
       "_model_name": "LayoutModel",
       "_view_count": null,
       "_view_module": "@jupyter-widgets/base",
       "_view_module_version": "1.2.0",
       "_view_name": "LayoutView",
       "align_content": null,
       "align_items": null,
       "align_self": null,
       "border": null,
       "bottom": null,
       "display": null,
       "flex": null,
       "flex_flow": null,
       "grid_area": null,
       "grid_auto_columns": null,
       "grid_auto_flow": null,
       "grid_auto_rows": null,
       "grid_column": null,
       "grid_gap": null,
       "grid_row": null,
       "grid_template_areas": null,
       "grid_template_columns": null,
       "grid_template_rows": null,
       "height": null,
       "justify_content": null,
       "justify_items": null,
       "left": null,
       "margin": null,
       "max_height": null,
       "max_width": null,
       "min_height": null,
       "min_width": null,
       "object_fit": null,
       "object_position": null,
       "order": null,
       "overflow": null,
       "overflow_x": null,
       "overflow_y": null,
       "padding": null,
       "right": null,
       "top": null,
       "visibility": null,
       "width": null
      }
     }
    },
    "version_major": 2,
    "version_minor": 0
   }
  }
 },
 "nbformat": 4,
 "nbformat_minor": 4
}
