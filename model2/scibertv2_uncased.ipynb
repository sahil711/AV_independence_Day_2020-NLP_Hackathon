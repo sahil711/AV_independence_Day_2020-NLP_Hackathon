{
 "cells": [
  {
   "cell_type": "code",
   "execution_count": 2,
   "metadata": {
    "execution": {
     "iopub.execute_input": "2020-08-22T22:18:05.229985Z",
     "iopub.status.busy": "2020-08-22T22:18:05.224826Z",
     "iopub.status.idle": "2020-08-22T22:18:37.381368Z",
     "shell.execute_reply": "2020-08-22T22:18:37.380653Z"
    },
    "papermill": {
     "duration": 32.200183,
     "end_time": "2020-08-22T22:18:37.381523",
     "exception": false,
     "start_time": "2020-08-22T22:18:05.181340",
     "status": "completed"
    },
    "tags": []
   },
   "outputs": [
    {
     "name": "stdout",
     "output_type": "stream",
     "text": [
      "The autoreload extension is already loaded. To reload it, use:\n",
      "  %reload_ext autoreload\n"
     ]
    }
   ],
   "source": [
    "%load_ext autoreload\n",
    "%autoreload 2\n",
    "from IPython.core.interactiveshell import InteractiveShell\n",
    "InteractiveShell.ast_node_interactivity = \"all\"\n",
    "import sys\n",
    "sys.path.append('..')\n",
    "import pandas as pd\n",
    "pd.options.display.max_columns=1000\n",
    "pd.options.display.max_rows=1000\n",
    "import numpy as np\n",
    "from matplotlib import pyplot as plt\n",
    "%matplotlib inline\n",
    "\n",
    "\n",
    "import torch\n",
    "from torch.utils.data import DataLoader,Dataset\n",
    "import transformers\n",
    "from torch import nn\n",
    "from torch import optim\n",
    "import torch.nn.functional as F\n",
    "\n",
    "from tqdm import tqdm\n",
    "import random\n",
    "import gc\n",
    "from sklearn.metrics import f1_score\n",
    "\n",
    "from iterstrat.ml_stratifiers import MultilabelStratifiedKFold\n",
    "\n",
    "from dataset import BertDataV1\n",
    "from Engine import GpuEngine\n",
    "from utils import EarlyStopping,SlackWebhook"
   ]
  },
  {
   "cell_type": "code",
   "execution_count": 3,
   "metadata": {},
   "outputs": [],
   "source": [
    "DATA_DIR = '../'"
   ]
  },
  {
   "cell_type": "code",
   "execution_count": 4,
   "metadata": {
    "execution": {
     "iopub.execute_input": "2020-08-22T22:18:37.471361Z",
     "iopub.status.busy": "2020-08-22T22:18:37.470462Z",
     "iopub.status.idle": "2020-08-22T22:18:37.884616Z",
     "shell.execute_reply": "2020-08-22T22:18:37.883557Z"
    },
    "papermill": {
     "duration": 0.46067,
     "end_time": "2020-08-22T22:18:37.884749",
     "exception": false,
     "start_time": "2020-08-22T22:18:37.424079",
     "status": "completed"
    },
    "tags": []
   },
   "outputs": [
    {
     "data": {
      "text/plain": [
       "<torch._C.Generator at 0x7f4710d7a310>"
      ]
     },
     "execution_count": 4,
     "metadata": {},
     "output_type": "execute_result"
    }
   ],
   "source": [
    "seed = 100\n",
    "random.seed(seed)\n",
    "\n",
    "torch.manual_seed(seed)\n",
    "torch.backends.cudnn.deterministic = True\n",
    "if torch.cuda.is_available(): torch.cuda.manual_seed_all(seed)\n",
    "\n",
    "np.random.seed(seed)"
   ]
  },
  {
   "cell_type": "code",
   "execution_count": 5,
   "metadata": {
    "execution": {
     "iopub.execute_input": "2020-08-22T22:18:37.976791Z",
     "iopub.status.busy": "2020-08-22T22:18:37.975778Z",
     "iopub.status.idle": "2020-08-22T22:18:38.046384Z",
     "shell.execute_reply": "2020-08-22T22:18:38.047083Z"
    },
    "papermill": {
     "duration": 0.121387,
     "end_time": "2020-08-22T22:18:38.047242",
     "exception": false,
     "start_time": "2020-08-22T22:18:37.925855",
     "status": "completed"
    },
    "tags": []
   },
   "outputs": [
    {
     "data": {
      "text/plain": [
       "device(type='cuda')"
      ]
     },
     "execution_count": 5,
     "metadata": {},
     "output_type": "execute_result"
    }
   ],
   "source": [
    "device = torch.device(\"cuda\") if torch.cuda.is_available() else torch.device(\"cpu\")\n",
    "device"
   ]
  },
  {
   "cell_type": "code",
   "execution_count": 6,
   "metadata": {
    "execution": {
     "iopub.execute_input": "2020-08-22T22:18:38.143312Z",
     "iopub.status.busy": "2020-08-22T22:18:38.142296Z",
     "iopub.status.idle": "2020-08-22T22:18:38.212691Z",
     "shell.execute_reply": "2020-08-22T22:18:38.212038Z"
    },
    "papermill": {
     "duration": 0.120066,
     "end_time": "2020-08-22T22:18:38.212813",
     "exception": false,
     "start_time": "2020-08-22T22:18:38.092747",
     "status": "completed"
    },
    "tags": []
   },
   "outputs": [],
   "source": [
    "webhook_url = \"YOUR SLACK WEBHOOK\"\n",
    "slack_loggger = SlackWebhook(webhook_url,verbose=True)"
   ]
  },
  {
   "cell_type": "code",
   "execution_count": 7,
   "metadata": {
    "execution": {
     "iopub.execute_input": "2020-08-22T22:18:38.481900Z",
     "iopub.status.busy": "2020-08-22T22:18:38.480925Z",
     "iopub.status.idle": "2020-08-22T22:18:38.900965Z",
     "shell.execute_reply": "2020-08-22T22:18:38.899767Z"
    },
    "papermill": {
     "duration": 0.469447,
     "end_time": "2020-08-22T22:18:38.901104",
     "exception": false,
     "start_time": "2020-08-22T22:18:38.431657",
     "status": "completed"
    },
    "tags": []
   },
   "outputs": [],
   "source": [
    "train = pd.read_csv(DATA_DIR + 'train.csv')\n",
    "test = pd.read_csv(DATA_DIR + 'test.csv')\n",
    "train.ABSTRACT = train.ABSTRACT.str.replace('\\n',' ').str.strip().str.lower()\n",
    "train.TITLE = train.TITLE.str.replace('\\n',' ').str.strip().str.lower()\n",
    "\n",
    "test.ABSTRACT = test.ABSTRACT.str.replace('\\n',' ').str.strip().str.lower()\n",
    "test.TITLE = test.TITLE.str.replace('\\n',' ').str.strip().str.lower()\n",
    "train['text'] = train['TITLE']+'. '+train['ABSTRACT']\n",
    "test['text'] = test['TITLE']+'. '+test['ABSTRACT']"
   ]
  },
  {
   "cell_type": "code",
   "execution_count": 12,
   "metadata": {
    "execution": {
     "iopub.execute_input": "2020-08-22T22:18:40.132498Z",
     "iopub.status.busy": "2020-08-22T22:18:40.131512Z",
     "iopub.status.idle": "2020-08-22T22:18:43.795345Z",
     "shell.execute_reply": "2020-08-22T22:18:43.794797Z"
    },
    "papermill": {
     "duration": 3.71661,
     "end_time": "2020-08-22T22:18:43.795470",
     "exception": false,
     "start_time": "2020-08-22T22:18:40.078860",
     "status": "completed"
    },
    "tags": []
   },
   "outputs": [
    {
     "data": {
      "application/vnd.jupyter.widget-view+json": {
       "model_id": "c177a6bf4ccd46c09f096fa3c8ce7beb",
       "version_major": 2,
       "version_minor": 0
      },
      "text/plain": [
       "HBox(children=(FloatProgress(value=0.0, description='Downloading', max=385.0, style=ProgressStyle(description_…"
      ]
     },
     "metadata": {},
     "output_type": "display_data"
    },
    {
     "name": "stdout",
     "output_type": "stream",
     "text": [
      "\n"
     ]
    },
    {
     "data": {
      "application/vnd.jupyter.widget-view+json": {
       "model_id": "2bb6c2704d2f48fab00109da1c2dd8f7",
       "version_major": 2,
       "version_minor": 0
      },
      "text/plain": [
       "HBox(children=(FloatProgress(value=0.0, description='Downloading', max=227845.0, style=ProgressStyle(descripti…"
      ]
     },
     "metadata": {},
     "output_type": "display_data"
    },
    {
     "name": "stdout",
     "output_type": "stream",
     "text": [
      "\n"
     ]
    }
   ],
   "source": [
    "BERT_TYPE = 'allenai/scibert_scivocab_uncased'\n",
    "BERT_CONFIG = transformers.AutoConfig.from_pretrained(BERT_TYPE)\n",
    "BERT_CONFIG.output_hidden_states = True\n",
    "BERT_TOKENIZER = transformers.AutoTokenizer.from_pretrained(BERT_TYPE)\n",
    "BERT_TOKENIZER.model_max_length = 512\n",
    "\n",
    "TARGET_COLS = ['Computer Science','Physics','Mathematics','Statistics','Quantitative Biology','Quantitative Finance']\n",
    "TRAIN_BATCH_SIZE = 16\n",
    "VAL_BATCH_SIZE = 16\n",
    "NUM_WORKERS = 0"
   ]
  },
  {
   "cell_type": "code",
   "execution_count": 13,
   "metadata": {
    "execution": {
     "iopub.execute_input": "2020-08-22T22:18:43.905276Z",
     "iopub.status.busy": "2020-08-22T22:18:43.904212Z",
     "iopub.status.idle": "2020-08-22T22:18:43.979563Z",
     "shell.execute_reply": "2020-08-22T22:18:43.978942Z"
    },
    "papermill": {
     "duration": 0.135326,
     "end_time": "2020-08-22T22:18:43.979677",
     "exception": false,
     "start_time": "2020-08-22T22:18:43.844351",
     "status": "completed"
    },
    "tags": []
   },
   "outputs": [],
   "source": [
    "class BertForPaperClassificationV1(nn.Module):\n",
    "    \n",
    "    def __init__(self,arch_type,config):\n",
    "        \n",
    "        super().__init__()\n",
    "        self.arch_type = arch_type\n",
    "        self.config = config        \n",
    "        self.bert = transformers.AutoModel.from_pretrained(arch_type,config = config)\n",
    "        self.cs = nn.Linear(768,2)\n",
    "        self.phy = nn.Linear(768,2)        \n",
    "        self.math = nn.Linear(768,2)        \n",
    "        self.stat = nn.Linear(768,2)        \n",
    "        self.bio = nn.Linear(768,2)               \n",
    "        self.fin = nn.Linear(768,2)\n",
    "        self.pool = nn.AdaptiveAvgPool1d(1)\n",
    "    \n",
    "    def forward(self,input_ids,token_type_ids,attention_mask):\n",
    "        \n",
    "        emb = self.bert(input_ids = input_ids, token_type_ids = token_type_ids , attention_mask = attention_mask)\n",
    "        \n",
    "        pooled_output = self.pool(emb[0].permute(0,2,1)).squeeze(-1)\n",
    "        \n",
    "        output = {}\n",
    "        \n",
    "        output['cs'] = self.cs(pooled_output)\n",
    "        output['phy'] = self.phy(pooled_output)        \n",
    "        output['math'] = self.math(pooled_output)        \n",
    "        output['stat'] = self.stat(pooled_output)        \n",
    "        output['bio'] = self.bio(pooled_output)                \n",
    "        output['fin'] = self.fin(pooled_output)                \n",
    "                \n",
    "        return output"
   ]
  },
  {
   "cell_type": "code",
   "execution_count": 14,
   "metadata": {
    "execution": {
     "iopub.execute_input": "2020-08-22T22:18:44.079445Z",
     "iopub.status.busy": "2020-08-22T22:18:44.078419Z",
     "iopub.status.idle": "2020-08-22T22:18:44.148033Z",
     "shell.execute_reply": "2020-08-22T22:18:44.148591Z"
    },
    "papermill": {
     "duration": 0.123482,
     "end_time": "2020-08-22T22:18:44.148771",
     "exception": false,
     "start_time": "2020-08-22T22:18:44.025289",
     "status": "completed"
    },
    "tags": []
   },
   "outputs": [],
   "source": [
    "def AvgLoss(preds,targets):\n",
    "    loss_ = nn.CrossEntropyLoss()\n",
    "    return torch.stack([loss_(x[0],x[1]) for x in list(zip(preds,targets))]).mean()    \n",
    "    "
   ]
  },
  {
   "cell_type": "code",
   "execution_count": 15,
   "metadata": {
    "execution": {
     "iopub.execute_input": "2020-08-22T22:18:44.244967Z",
     "iopub.status.busy": "2020-08-22T22:18:44.244014Z",
     "iopub.status.idle": "2020-08-22T22:18:45.134812Z",
     "shell.execute_reply": "2020-08-22T22:18:45.133709Z"
    },
    "papermill": {
     "duration": 0.940892,
     "end_time": "2020-08-22T22:18:45.134940",
     "exception": false,
     "start_time": "2020-08-22T22:18:44.194048",
     "status": "completed"
    },
    "tags": []
   },
   "outputs": [
    {
     "name": "stderr",
     "output_type": "stream",
     "text": [
      "/opt/conda/lib/python3.7/site-packages/sklearn/utils/validation.py:70: FutureWarning: Pass shuffle=True, random_state=100 as keyword args. From version 0.25 passing these as positional arguments will result in an error\n",
      "  FutureWarning)\n"
     ]
    }
   ],
   "source": [
    "folds = MultilabelStratifiedKFold(n_splits=5, random_state=100,shuffle=True)\n",
    "folds = [(x,y) for x,y in folds.split(train['ID'],train[['Computer Science','Physics','Mathematics','Statistics','Quantitative Biology','Quantitative Finance']])]                                  "
   ]
  },
  {
   "cell_type": "code",
   "execution_count": 16,
   "metadata": {
    "execution": {
     "iopub.execute_input": "2020-08-22T22:18:45.238444Z",
     "iopub.status.busy": "2020-08-22T22:18:45.231666Z",
     "iopub.status.idle": "2020-08-22T22:18:45.298794Z",
     "shell.execute_reply": "2020-08-22T22:18:45.299365Z"
    },
    "papermill": {
     "duration": 0.119295,
     "end_time": "2020-08-22T22:18:45.299505",
     "exception": false,
     "start_time": "2020-08-22T22:18:45.180210",
     "status": "completed"
    },
    "tags": []
   },
   "outputs": [
    {
     "data": {
      "text/plain": [
       "[(16768, 4204), (16787, 4185), (16767, 4205), (16810, 4162), (16756, 4216)]"
      ]
     },
     "execution_count": 16,
     "metadata": {},
     "output_type": "execute_result"
    }
   ],
   "source": [
    "[(len(x),len(y)) for x,y in folds]"
   ]
  },
  {
   "cell_type": "code",
   "execution_count": 17,
   "metadata": {
    "execution": {
     "iopub.execute_input": "2020-08-22T22:18:45.397786Z",
     "iopub.status.busy": "2020-08-22T22:18:45.396824Z",
     "iopub.status.idle": "2020-08-22T22:18:45.473527Z",
     "shell.execute_reply": "2020-08-22T22:18:45.474054Z"
    },
    "papermill": {
     "duration": 0.12825,
     "end_time": "2020-08-22T22:18:45.474192",
     "exception": false,
     "start_time": "2020-08-22T22:18:45.345942",
     "status": "completed"
    },
    "tags": []
   },
   "outputs": [
    {
     "data": {
      "text/html": [
       "<div>\n",
       "<style scoped>\n",
       "    .dataframe tbody tr th:only-of-type {\n",
       "        vertical-align: middle;\n",
       "    }\n",
       "\n",
       "    .dataframe tbody tr th {\n",
       "        vertical-align: top;\n",
       "    }\n",
       "\n",
       "    .dataframe thead th {\n",
       "        text-align: right;\n",
       "    }\n",
       "</style>\n",
       "<table border=\"1\" class=\"dataframe\">\n",
       "  <thead>\n",
       "    <tr style=\"text-align: right;\">\n",
       "      <th></th>\n",
       "      <th>ID</th>\n",
       "      <th>TITLE</th>\n",
       "      <th>ABSTRACT</th>\n",
       "      <th>Computer Science</th>\n",
       "      <th>Physics</th>\n",
       "      <th>Mathematics</th>\n",
       "      <th>Statistics</th>\n",
       "      <th>Quantitative Biology</th>\n",
       "      <th>Quantitative Finance</th>\n",
       "      <th>text</th>\n",
       "    </tr>\n",
       "  </thead>\n",
       "  <tbody>\n",
       "    <tr>\n",
       "      <th>0</th>\n",
       "      <td>1</td>\n",
       "      <td>reconstructing subject-specific effect maps</td>\n",
       "      <td>predictive models allow subject-specific infer...</td>\n",
       "      <td>1</td>\n",
       "      <td>0</td>\n",
       "      <td>0</td>\n",
       "      <td>0</td>\n",
       "      <td>0</td>\n",
       "      <td>0</td>\n",
       "      <td>reconstructing subject-specific effect maps. p...</td>\n",
       "    </tr>\n",
       "    <tr>\n",
       "      <th>1</th>\n",
       "      <td>2</td>\n",
       "      <td>rotation invariance neural network</td>\n",
       "      <td>rotation invariance and translation invariance...</td>\n",
       "      <td>1</td>\n",
       "      <td>0</td>\n",
       "      <td>0</td>\n",
       "      <td>0</td>\n",
       "      <td>0</td>\n",
       "      <td>0</td>\n",
       "      <td>rotation invariance neural network. rotation i...</td>\n",
       "    </tr>\n",
       "    <tr>\n",
       "      <th>2</th>\n",
       "      <td>3</td>\n",
       "      <td>spherical polyharmonics and poisson kernels fo...</td>\n",
       "      <td>we introduce and develop the notion of spheric...</td>\n",
       "      <td>0</td>\n",
       "      <td>0</td>\n",
       "      <td>1</td>\n",
       "      <td>0</td>\n",
       "      <td>0</td>\n",
       "      <td>0</td>\n",
       "      <td>spherical polyharmonics and poisson kernels fo...</td>\n",
       "    </tr>\n",
       "    <tr>\n",
       "      <th>3</th>\n",
       "      <td>4</td>\n",
       "      <td>a finite element approximation for the stochas...</td>\n",
       "      <td>the stochastic landau--lifshitz--gilbert (llg)...</td>\n",
       "      <td>0</td>\n",
       "      <td>0</td>\n",
       "      <td>1</td>\n",
       "      <td>0</td>\n",
       "      <td>0</td>\n",
       "      <td>0</td>\n",
       "      <td>a finite element approximation for the stochas...</td>\n",
       "    </tr>\n",
       "    <tr>\n",
       "      <th>4</th>\n",
       "      <td>5</td>\n",
       "      <td>comparative study of discrete wavelet transfor...</td>\n",
       "      <td>fourier-transform infra-red (ftir) spectra of ...</td>\n",
       "      <td>1</td>\n",
       "      <td>0</td>\n",
       "      <td>0</td>\n",
       "      <td>1</td>\n",
       "      <td>0</td>\n",
       "      <td>0</td>\n",
       "      <td>comparative study of discrete wavelet transfor...</td>\n",
       "    </tr>\n",
       "  </tbody>\n",
       "</table>\n",
       "</div>"
      ],
      "text/plain": [
       "   ID                                              TITLE  \\\n",
       "0   1        reconstructing subject-specific effect maps   \n",
       "1   2                 rotation invariance neural network   \n",
       "2   3  spherical polyharmonics and poisson kernels fo...   \n",
       "3   4  a finite element approximation for the stochas...   \n",
       "4   5  comparative study of discrete wavelet transfor...   \n",
       "\n",
       "                                            ABSTRACT  Computer Science  \\\n",
       "0  predictive models allow subject-specific infer...                 1   \n",
       "1  rotation invariance and translation invariance...                 1   \n",
       "2  we introduce and develop the notion of spheric...                 0   \n",
       "3  the stochastic landau--lifshitz--gilbert (llg)...                 0   \n",
       "4  fourier-transform infra-red (ftir) spectra of ...                 1   \n",
       "\n",
       "   Physics  Mathematics  Statistics  Quantitative Biology  \\\n",
       "0        0            0           0                     0   \n",
       "1        0            0           0                     0   \n",
       "2        0            1           0                     0   \n",
       "3        0            1           0                     0   \n",
       "4        0            0           1                     0   \n",
       "\n",
       "   Quantitative Finance                                               text  \n",
       "0                     0  reconstructing subject-specific effect maps. p...  \n",
       "1                     0  rotation invariance neural network. rotation i...  \n",
       "2                     0  spherical polyharmonics and poisson kernels fo...  \n",
       "3                     0  a finite element approximation for the stochas...  \n",
       "4                     0  comparative study of discrete wavelet transfor...  "
      ]
     },
     "execution_count": 17,
     "metadata": {},
     "output_type": "execute_result"
    }
   ],
   "source": [
    "train.head()"
   ]
  },
  {
   "cell_type": "code",
   "execution_count": 18,
   "metadata": {
    "execution": {
     "iopub.execute_input": "2020-08-22T22:18:45.580249Z",
     "iopub.status.busy": "2020-08-22T22:18:45.579338Z",
     "iopub.status.idle": "2020-08-23T04:22:14.613658Z",
     "shell.execute_reply": "2020-08-23T04:22:14.613062Z"
    },
    "papermill": {
     "duration": 21809.092157,
     "end_time": "2020-08-23T04:22:14.613781",
     "exception": false,
     "start_time": "2020-08-22T22:18:45.521624",
     "status": "completed"
    },
    "tags": []
   },
   "outputs": [
    {
     "data": {
      "application/vnd.jupyter.widget-view+json": {
       "model_id": "a61cd750279d457da0a80f0dc69fd197",
       "version_major": 2,
       "version_minor": 0
      },
      "text/plain": [
       "HBox(children=(FloatProgress(value=0.0, description='Downloading', max=442221694.0, style=ProgressStyle(descri…"
      ]
     },
     "metadata": {},
     "output_type": "display_data"
    },
    {
     "name": "stdout",
     "output_type": "stream",
     "text": [
      "\n"
     ]
    },
    {
     "name": "stderr",
     "output_type": "stream",
     "text": [
      "100%|██████████| 1048/1048 [16:24<00:00,  1.06it/s]\n",
      "100%|██████████| 263/263 [01:35<00:00,  2.75it/s]\n"
     ]
    },
    {
     "name": "stdout",
     "output_type": "stream",
     "text": [
      "Epoch: 0 train loss: 0.17364191411077293 train_metric: 0.8206519083223378 val_loss: 0.15447639535712016 val_metric: 0.8453508602358399 time 18.01\n"
     ]
    },
    {
     "name": "stderr",
     "output_type": "stream",
     "text": [
      "  0%|          | 0/1048 [00:00<?, ?it/s]"
     ]
    },
    {
     "name": "stdout",
     "output_type": "stream",
     "text": [
      "200\n"
     ]
    },
    {
     "name": "stderr",
     "output_type": "stream",
     "text": [
      "100%|██████████| 1048/1048 [16:30<00:00,  1.06it/s]\n",
      "100%|██████████| 263/263 [01:36<00:00,  2.71it/s]\n"
     ]
    },
    {
     "name": "stdout",
     "output_type": "stream",
     "text": [
      "Epoch: 1 train loss: 0.13292056568791621 train_metric: 0.8661966782172303 val_loss: 0.14978721136711076 val_metric: 0.8528061463506043 time 18.14\n"
     ]
    },
    {
     "name": "stderr",
     "output_type": "stream",
     "text": [
      "  0%|          | 0/1048 [00:00<?, ?it/s]"
     ]
    },
    {
     "name": "stdout",
     "output_type": "stream",
     "text": [
      "200\n"
     ]
    },
    {
     "name": "stderr",
     "output_type": "stream",
     "text": [
      "100%|██████████| 1048/1048 [16:36<00:00,  1.05it/s]\n",
      "100%|██████████| 263/263 [01:37<00:00,  2.70it/s]\n"
     ]
    },
    {
     "name": "stdout",
     "output_type": "stream",
     "text": [
      "Epoch: 2 train loss: 0.10828899747233496 train_metric: 0.893944431251484 val_loss: 0.1616134744644392 val_metric: 0.8514375520014792 time 18.24\n"
     ]
    },
    {
     "name": "stderr",
     "output_type": "stream",
     "text": [
      "  0%|          | 0/1048 [00:00<?, ?it/s]"
     ]
    },
    {
     "name": "stdout",
     "output_type": "stream",
     "text": [
      "200\n"
     ]
    },
    {
     "name": "stderr",
     "output_type": "stream",
     "text": [
      "100%|██████████| 1048/1048 [16:38<00:00,  1.05it/s]\n",
      "100%|██████████| 263/263 [01:37<00:00,  2.70it/s]\n"
     ]
    },
    {
     "name": "stdout",
     "output_type": "stream",
     "text": [
      "Epoch     4: reducing learning rate of group 0 to 5.0000e-06.\n",
      "Epoch: 3 train loss: 0.08301891538337626 train_metric: 0.919222174677887 val_loss: 0.17295840416603378 val_metric: 0.8463181353886156 time 18.26\n",
      "200\n"
     ]
    },
    {
     "name": "stderr",
     "output_type": "stream",
     "text": [
      "100%|██████████| 1049/1049 [16:42<00:00,  1.05it/s]\n",
      "100%|██████████| 262/262 [01:37<00:00,  2.69it/s]\n"
     ]
    },
    {
     "name": "stdout",
     "output_type": "stream",
     "text": [
      "Epoch: 0 train loss: 0.1725667156634215 train_metric: 0.8222618553174855 val_loss: 0.15067211454344764 val_metric: 0.8504646038892614 time 18.33\n"
     ]
    },
    {
     "name": "stderr",
     "output_type": "stream",
     "text": [
      "  0%|          | 0/1049 [00:00<?, ?it/s]"
     ]
    },
    {
     "name": "stdout",
     "output_type": "stream",
     "text": [
      "200\n"
     ]
    },
    {
     "name": "stderr",
     "output_type": "stream",
     "text": [
      "100%|██████████| 1049/1049 [16:41<00:00,  1.05it/s]\n",
      "100%|██████████| 262/262 [01:37<00:00,  2.70it/s]\n"
     ]
    },
    {
     "name": "stdout",
     "output_type": "stream",
     "text": [
      "Epoch: 1 train loss: 0.13267503474955336 train_metric: 0.8668227648492378 val_loss: 0.15196589135354566 val_metric: 0.8459907478797224 time 18.31\n"
     ]
    },
    {
     "name": "stderr",
     "output_type": "stream",
     "text": [
      "  0%|          | 0/1049 [00:00<?, ?it/s]"
     ]
    },
    {
     "name": "stdout",
     "output_type": "stream",
     "text": [
      "200\n"
     ]
    },
    {
     "name": "stderr",
     "output_type": "stream",
     "text": [
      "100%|██████████| 1049/1049 [16:38<00:00,  1.05it/s]\n",
      "100%|██████████| 262/262 [01:35<00:00,  2.74it/s]\n"
     ]
    },
    {
     "name": "stdout",
     "output_type": "stream",
     "text": [
      "Epoch     3: reducing learning rate of group 0 to 5.0000e-06.\n",
      "Epoch: 2 train loss: 0.10826743585195168 train_metric: 0.8937495542188725 val_loss: 0.16449267906242515 val_metric: 0.8470007593014427 time 18.24\n"
     ]
    },
    {
     "name": "stderr",
     "output_type": "stream",
     "text": [
      "  0%|          | 0/1049 [00:00<?, ?it/s]"
     ]
    },
    {
     "name": "stdout",
     "output_type": "stream",
     "text": [
      "200\n"
     ]
    },
    {
     "name": "stderr",
     "output_type": "stream",
     "text": [
      "100%|██████████| 1049/1049 [16:33<00:00,  1.06it/s]\n",
      "100%|██████████| 262/262 [01:34<00:00,  2.76it/s]\n"
     ]
    },
    {
     "name": "stdout",
     "output_type": "stream",
     "text": [
      "Epoch: 3 train loss: 0.077515400667365 train_metric: 0.9258153204398939 val_loss: 0.17598938066045017 val_metric: 0.8473842679713964 time 18.14\n",
      "200\n"
     ]
    },
    {
     "name": "stderr",
     "output_type": "stream",
     "text": [
      "100%|██████████| 1047/1047 [16:30<00:00,  1.06it/s]\n",
      "100%|██████████| 263/263 [01:35<00:00,  2.74it/s]\n"
     ]
    },
    {
     "name": "stdout",
     "output_type": "stream",
     "text": [
      "Epoch: 0 train loss: 0.17483174086414072 train_metric: 0.8203972666487055 val_loss: 0.15157963182072862 val_metric: 0.8442880243508037 time 18.11\n"
     ]
    },
    {
     "name": "stderr",
     "output_type": "stream",
     "text": [
      "  0%|          | 0/1047 [00:00<?, ?it/s]"
     ]
    },
    {
     "name": "stdout",
     "output_type": "stream",
     "text": [
      "200\n"
     ]
    },
    {
     "name": "stderr",
     "output_type": "stream",
     "text": [
      "100%|██████████| 1047/1047 [16:27<00:00,  1.06it/s]\n",
      "100%|██████████| 263/263 [01:35<00:00,  2.75it/s]\n"
     ]
    },
    {
     "name": "stdout",
     "output_type": "stream",
     "text": [
      "Epoch: 1 train loss: 0.1336356851822895 train_metric: 0.8642164491799353 val_loss: 0.15161141619954466 val_metric: 0.8486268628737463 time 18.07\n"
     ]
    },
    {
     "name": "stderr",
     "output_type": "stream",
     "text": [
      "  0%|          | 0/1047 [00:00<?, ?it/s]"
     ]
    },
    {
     "name": "stdout",
     "output_type": "stream",
     "text": [
      "200\n"
     ]
    },
    {
     "name": "stderr",
     "output_type": "stream",
     "text": [
      "100%|██████████| 1047/1047 [16:27<00:00,  1.06it/s]\n",
      "100%|██████████| 263/263 [01:35<00:00,  2.76it/s]\n"
     ]
    },
    {
     "name": "stdout",
     "output_type": "stream",
     "text": [
      "Epoch: 2 train loss: 0.10958804124067853 train_metric: 0.8918565069389892 val_loss: 0.15656918620382845 val_metric: 0.8483342536351923 time 18.04\n"
     ]
    },
    {
     "name": "stderr",
     "output_type": "stream",
     "text": [
      "  0%|          | 0/1047 [00:00<?, ?it/s]"
     ]
    },
    {
     "name": "stdout",
     "output_type": "stream",
     "text": [
      "200\n"
     ]
    },
    {
     "name": "stderr",
     "output_type": "stream",
     "text": [
      "100%|██████████| 1047/1047 [16:23<00:00,  1.06it/s]\n",
      "100%|██████████| 263/263 [01:34<00:00,  2.77it/s]\n"
     ]
    },
    {
     "name": "stdout",
     "output_type": "stream",
     "text": [
      "Epoch     4: reducing learning rate of group 0 to 5.0000e-06.\n",
      "Epoch: 3 train loss: 0.08617095627004517 train_metric: 0.9161143182952035 val_loss: 0.17615241101465667 val_metric: 0.8370840546258896 time 17.98\n",
      "200\n"
     ]
    },
    {
     "name": "stderr",
     "output_type": "stream",
     "text": [
      "100%|██████████| 1050/1050 [16:25<00:00,  1.07it/s]\n",
      "100%|██████████| 261/261 [01:34<00:00,  2.76it/s]\n"
     ]
    },
    {
     "name": "stdout",
     "output_type": "stream",
     "text": [
      "Epoch: 0 train loss: 0.17465337162216504 train_metric: 0.8200777487103005 val_loss: 0.15118475778745322 val_metric: 0.8438106325184324 time 18.01\n"
     ]
    },
    {
     "name": "stderr",
     "output_type": "stream",
     "text": [
      "  0%|          | 0/1050 [00:00<?, ?it/s]"
     ]
    },
    {
     "name": "stdout",
     "output_type": "stream",
     "text": [
      "200\n"
     ]
    },
    {
     "name": "stderr",
     "output_type": "stream",
     "text": [
      "100%|██████████| 1050/1050 [16:26<00:00,  1.06it/s]\n",
      "100%|██████████| 261/261 [01:34<00:00,  2.77it/s]\n"
     ]
    },
    {
     "name": "stdout",
     "output_type": "stream",
     "text": [
      "Epoch: 1 train loss: 0.13333296378630968 train_metric: 0.865047427421673 val_loss: 0.15454587162772604 val_metric: 0.8436589263890195 time 18.01\n"
     ]
    },
    {
     "name": "stderr",
     "output_type": "stream",
     "text": [
      "  0%|          | 0/1050 [00:00<?, ?it/s]"
     ]
    },
    {
     "name": "stdout",
     "output_type": "stream",
     "text": [
      "200\n"
     ]
    },
    {
     "name": "stderr",
     "output_type": "stream",
     "text": [
      "100%|██████████| 1050/1050 [16:31<00:00,  1.06it/s]\n",
      "100%|██████████| 261/261 [01:34<00:00,  2.75it/s]\n"
     ]
    },
    {
     "name": "stdout",
     "output_type": "stream",
     "text": [
      "Epoch: 2 train loss: 0.10853119161068683 train_metric: 0.8915846421506708 val_loss: 0.16450687152848673 val_metric: 0.8462273161413562 time 18.12\n"
     ]
    },
    {
     "name": "stderr",
     "output_type": "stream",
     "text": [
      "  0%|          | 0/1050 [00:00<?, ?it/s]"
     ]
    },
    {
     "name": "stdout",
     "output_type": "stream",
     "text": [
      "200\n"
     ]
    },
    {
     "name": "stderr",
     "output_type": "stream",
     "text": [
      "100%|██████████| 1050/1050 [16:34<00:00,  1.06it/s]\n",
      "100%|██████████| 261/261 [01:34<00:00,  2.76it/s]\n"
     ]
    },
    {
     "name": "stdout",
     "output_type": "stream",
     "text": [
      "Epoch: 3 train loss: 0.08387430727836631 train_metric: 0.9203531399471718 val_loss: 0.17557749024725258 val_metric: 0.8420550038197097 time 18.14\n",
      "200\n"
     ]
    },
    {
     "name": "stderr",
     "output_type": "stream",
     "text": [
      "100%|██████████| 1047/1047 [16:37<00:00,  1.05it/s]\n",
      "100%|██████████| 264/264 [01:38<00:00,  2.69it/s]\n"
     ]
    },
    {
     "name": "stdout",
     "output_type": "stream",
     "text": [
      "Epoch: 0 train loss: 0.1750129254387181 train_metric: 0.8176097549031611 val_loss: 0.14930868155872573 val_metric: 0.8477429227237949 time 18.27\n"
     ]
    },
    {
     "name": "stderr",
     "output_type": "stream",
     "text": [
      "  0%|          | 0/1047 [00:00<?, ?it/s]"
     ]
    },
    {
     "name": "stdout",
     "output_type": "stream",
     "text": [
      "200\n"
     ]
    },
    {
     "name": "stderr",
     "output_type": "stream",
     "text": [
      "100%|██████████| 1047/1047 [16:34<00:00,  1.05it/s]\n",
      "100%|██████████| 264/264 [01:35<00:00,  2.77it/s]\n"
     ]
    },
    {
     "name": "stdout",
     "output_type": "stream",
     "text": [
      "Epoch: 1 train loss: 0.13373031443360314 train_metric: 0.8642128942708085 val_loss: 0.14858002723875036 val_metric: 0.851851851851852 time 18.17\n"
     ]
    },
    {
     "name": "stderr",
     "output_type": "stream",
     "text": [
      "  0%|          | 0/1047 [00:00<?, ?it/s]"
     ]
    },
    {
     "name": "stdout",
     "output_type": "stream",
     "text": [
      "200\n"
     ]
    },
    {
     "name": "stderr",
     "output_type": "stream",
     "text": [
      "100%|██████████| 1047/1047 [16:27<00:00,  1.06it/s]\n",
      "100%|██████████| 264/264 [01:38<00:00,  2.69it/s]\n"
     ]
    },
    {
     "name": "stdout",
     "output_type": "stream",
     "text": [
      "Epoch: 2 train loss: 0.11018770402288483 train_metric: 0.890945425132036 val_loss: 0.15841361499290765 val_metric: 0.8494694337496479 time 18.09\n"
     ]
    },
    {
     "name": "stderr",
     "output_type": "stream",
     "text": [
      "  0%|          | 0/1047 [00:00<?, ?it/s]"
     ]
    },
    {
     "name": "stdout",
     "output_type": "stream",
     "text": [
      "200\n"
     ]
    },
    {
     "name": "stderr",
     "output_type": "stream",
     "text": [
      "100%|██████████| 1047/1047 [16:30<00:00,  1.06it/s]\n",
      "100%|██████████| 264/264 [01:37<00:00,  2.71it/s]\n"
     ]
    },
    {
     "name": "stdout",
     "output_type": "stream",
     "text": [
      "Epoch     4: reducing learning rate of group 0 to 5.0000e-06.\n",
      "Epoch: 3 train loss: 0.08374755422886258 train_metric: 0.9187341231214833 val_loss: 0.18024627024579998 val_metric: 0.8432649932937345 time 18.12\n",
      "200\n"
     ]
    }
   ],
   "source": [
    "for i in [0,1,2,3,4]:\n",
    "    \n",
    "    train_df = BertDataV2(tokenizer=BERT_TOKENIZER,df = train.iloc[folds[i][0]], target_cols=TARGET_COLS)\n",
    "    val_df = BertDataV2(tokenizer=BERT_TOKENIZER,df = train.iloc[folds[i][1]], target_cols=TARGET_COLS)\n",
    "\n",
    "    train_dl = DataLoader(dataset=train_df,batch_size=TRAIN_BATCH_SIZE,num_workers=NUM_WORKERS,drop_last=True,shuffle=True)    \n",
    "    val_dl = DataLoader(dataset=val_df,batch_size=VAL_BATCH_SIZE,num_workers=NUM_WORKERS,drop_last=False,shuffle=False)    \n",
    "\n",
    "    early_stopping_rounds=5\n",
    "    maximize=True\n",
    "    num_epochs=4\n",
    "    max_lr=0.00001\n",
    "\n",
    "    mod = BertForPaperClassificationV1(arch_type=BERT_TYPE,config=BERT_CONFIG)\n",
    "\n",
    "    _ = mod.to(device)\n",
    "\n",
    "    optimizer = optim.AdamW(params=mod.parameters(),lr=max_lr)\n",
    "\n",
    "    schedular = optim.lr_scheduler.ReduceLROnPlateau(optimizer=optimizer,patience=1,factor=0.5,mode='max',min_lr=0.0000001,verbose=True)\n",
    "\n",
    "    es=EarlyStopping(patience=early_stopping_rounds,higher_is_better=maximize,tolerance=0.0001,\n",
    "                    save_path='scibert_uncased_V1_fold{}.path'.format(i),model=mod)    \n",
    "\n",
    "    fitter = GpuEngine(model = mod,device = device,optimizer= optimizer,schedular=schedular, slack_header='ScibertV2 scivocab uncased maverick711 fold {}'.format(i),\n",
    "                       es = es,log_path='log_fold{}.txt'.format(i),num_epochs=num_epochs,\n",
    "                       slack_loggger=slack_loggger,criterion=AvgLoss)\n",
    "    \n",
    "    fitter.fit(train_dl,val_dl)"
   ]
  },
  {
   "cell_type": "markdown",
   "metadata": {
    "papermill": {
     "duration": 9.933477,
     "end_time": "2020-08-23T04:22:34.748955",
     "exception": false,
     "start_time": "2020-08-23T04:22:24.815478",
     "status": "completed"
    },
    "tags": []
   },
   "source": [
    "-------------------------------------"
   ]
  },
  {
   "cell_type": "markdown",
   "metadata": {
    "papermill": {
     "duration": 10.156639,
     "end_time": "2020-08-23T04:22:54.991221",
     "exception": false,
     "start_time": "2020-08-23T04:22:44.834582",
     "status": "completed"
    },
    "tags": []
   },
   "source": [
    "### Inferencing"
   ]
  },
  {
   "cell_type": "code",
   "execution_count": 9,
   "metadata": {},
   "outputs": [],
   "source": [
    "def predict(test_dl,model,model_path=None):\n",
    "\n",
    "    if model_path is not None:\n",
    "        model.load_state_dict(torch.load(model_path))\n",
    "\n",
    "    model.eval()\n",
    "    with torch.no_grad():\n",
    "        pred_list=[]\n",
    "        tar_list=[]\n",
    "    for  data_ in tqdm(test_dl, total=len(test_dl)):        \n",
    "        input_ids = data_['input_ids'].to(device)                        \n",
    "        token_type_ids = data_['token_type_ids'].to(device)                                    \n",
    "        attention_mask = data_['attention_mask'].to(device)      \n",
    "\n",
    "        preds = model(input_ids,token_type_ids,attention_mask)            \n",
    "        preds = list(preds.values())\n",
    "        preds = [x.cpu().detach().numpy() for x in preds]\n",
    "        pred_list.append(preds)\n",
    "            \n",
    "    return pred_list"
   ]
  },
  {
   "cell_type": "code",
   "execution_count": null,
   "metadata": {},
   "outputs": [],
   "source": [
    "models = glob.glob('*.path')\n",
    "models"
   ]
  },
  {
   "cell_type": "code",
   "execution_count": null,
   "metadata": {},
   "outputs": [],
   "source": [
    "test_df = BertDataV2(tokenizer=BERT_TOKENIZER,df = test)\n",
    "test_dl = DataLoader(dataset=test_df,batch_size=TRAIN_BATCH_SIZE,num_workers=NUM_WORKERS,drop_last=False,shuffle=False)    "
   ]
  },
  {
   "cell_type": "code",
   "execution_count": null,
   "metadata": {},
   "outputs": [],
   "source": [
    "%%time\n",
    "preds1 = []\n",
    "preds2 = []\n",
    "preds3 = []\n",
    "preds4 = []\n",
    "preds5 = []\n",
    "preds6 = []\n",
    "\n",
    "for _mod in models:\n",
    "    m = predict(test_dl,mod,_mod)\n",
    "    preds1.append(np.concatenate([x[0] for x in m]))\n",
    "    preds2.append(np.concatenate([x[1] for x in m]))\n",
    "    preds3.append(np.concatenate([x[2] for x in m]))    \n",
    "    preds4.append(np.concatenate([x[3] for x in m]))\n",
    "    preds5.append(np.concatenate([x[4] for x in m]))\n",
    "    preds6.append(np.concatenate([x[5] for x in m]))        \n",
    "\n",
    "test['Computer Science'] = np.sum(preds1,axis=0).argmax(axis=1)\n",
    "test['Physics'] = np.sum(preds2,axis=0).argmax(axis=1)\n",
    "test['Mathematics'] = np.sum(preds3,axis=0).argmax(axis=1)\n",
    "test['Statistics'] = np.sum(preds4,axis=0).argmax(axis=1)\n",
    "test['Quantitative Biology'] = np.sum(preds5,axis=0).argmax(axis=1)\n",
    "test['Quantitative Finance'] = np.sum(preds6,axis=0).argmax(axis=1)"
   ]
  },
  {
   "cell_type": "code",
   "execution_count": null,
   "metadata": {},
   "outputs": [],
   "source": [
    "test[['ID','Computer Science', 'Physics', 'Mathematics',\n",
    "       'Statistics', 'Quantitative Biology', 'Quantitative Finance']].to_csv('submission_scibertv2_uncased.csv',index=False)"
   ]
  },
  {
   "cell_type": "code",
   "execution_count": null,
   "metadata": {},
   "outputs": [],
   "source": [
    "dict_ = {}\n",
    "dict_['Computer Science'] = np.sum(preds1,axis=0)\n",
    "dict_['Physics'] = np.sum(preds2,axis=0)\n",
    "dict_['Mathematics'] = np.sum(preds3,axis=0)\n",
    "dict_['Statistics'] = np.sum(preds4,axis=0)\n",
    "dict_['Quantitative Biology'] = np.sum(preds5,axis=0)\n",
    "dict_['Quantitative Finance'] = np.sum(preds6,axis=0)"
   ]
  },
  {
   "cell_type": "code",
   "execution_count": null,
   "metadata": {},
   "outputs": [],
   "source": [
    "import pickle\n",
    "def save_obj(obj, name ):\n",
    "    with open(name, 'wb') as f:\n",
    "        pickle.dump(obj, f, pickle.HIGHEST_PROTOCOL)\n",
    "\n",
    "def load_obj(name ):\n",
    "    with open(name , 'rb') as f:\n",
    "        return pickle.load(f)\n",
    "    \n",
    "save_obj(dict_,'test_raw_preds_scibertv2_uncased.pkl')    "
   ]
  }
 ],
 "metadata": {
  "kernelspec": {
   "display_name": "Python 3",
   "language": "python",
   "name": "python3"
  },
  "language_info": {
   "codemirror_mode": {
    "name": "ipython",
    "version": 3
   },
   "file_extension": ".py",
   "mimetype": "text/x-python",
   "name": "python",
   "nbconvert_exporter": "python",
   "pygments_lexer": "ipython3",
   "version": "3.7.4"
  },
  "papermill": {
   "duration": 21906.789669,
   "end_time": "2020-08-23T04:23:07.260656",
   "environment_variables": {},
   "exception": null,
   "input_path": "__notebook__.ipynb",
   "output_path": "__notebook__.ipynb",
   "parameters": {},
   "start_time": "2020-08-22T22:18:00.470987",
   "version": "2.1.0"
  },
  "widgets": {
   "application/vnd.jupyter.widget-state+json": {
    "state": {
     "0d97375c8cf4490b9f42b869a6bf9a7b": {
      "model_module": "@jupyter-widgets/base",
      "model_module_version": "1.2.0",
      "model_name": "LayoutModel",
      "state": {
       "_model_module": "@jupyter-widgets/base",
       "_model_module_version": "1.2.0",
       "_model_name": "LayoutModel",
       "_view_count": null,
       "_view_module": "@jupyter-widgets/base",
       "_view_module_version": "1.2.0",
       "_view_name": "LayoutView",
       "align_content": null,
       "align_items": null,
       "align_self": null,
       "border": null,
       "bottom": null,
       "display": null,
       "flex": null,
       "flex_flow": null,
       "grid_area": null,
       "grid_auto_columns": null,
       "grid_auto_flow": null,
       "grid_auto_rows": null,
       "grid_column": null,
       "grid_gap": null,
       "grid_row": null,
       "grid_template_areas": null,
       "grid_template_columns": null,
       "grid_template_rows": null,
       "height": null,
       "justify_content": null,
       "justify_items": null,
       "left": null,
       "margin": null,
       "max_height": null,
       "max_width": null,
       "min_height": null,
       "min_width": null,
       "object_fit": null,
       "object_position": null,
       "order": null,
       "overflow": null,
       "overflow_x": null,
       "overflow_y": null,
       "padding": null,
       "right": null,
       "top": null,
       "visibility": null,
       "width": null
      }
     },
     "14684870748e4fbe88450d1bf883c1c5": {
      "model_module": "@jupyter-widgets/controls",
      "model_module_version": "1.5.0",
      "model_name": "ProgressStyleModel",
      "state": {
       "_model_module": "@jupyter-widgets/controls",
       "_model_module_version": "1.5.0",
       "_model_name": "ProgressStyleModel",
       "_view_count": null,
       "_view_module": "@jupyter-widgets/base",
       "_view_module_version": "1.2.0",
       "_view_name": "StyleView",
       "bar_color": null,
       "description_width": "initial"
      }
     },
     "2008a61c6d96438f9a1920ec6c53916d": {
      "model_module": "@jupyter-widgets/controls",
      "model_module_version": "1.5.0",
      "model_name": "FloatProgressModel",
      "state": {
       "_dom_classes": [],
       "_model_module": "@jupyter-widgets/controls",
       "_model_module_version": "1.5.0",
       "_model_name": "FloatProgressModel",
       "_view_count": null,
       "_view_module": "@jupyter-widgets/controls",
       "_view_module_version": "1.5.0",
       "_view_name": "ProgressView",
       "bar_style": "success",
       "description": "Downloading: 100%",
       "description_tooltip": null,
       "layout": "IPY_MODEL_7a9bd2c8f8d34d5aa171ea9b9da2f913",
       "max": 385,
       "min": 0,
       "orientation": "horizontal",
       "style": "IPY_MODEL_692ef6bcbbd848ef9f88fcb5fac79a8b",
       "value": 385
      }
     },
     "257b49ceabdb49dfb65bc423138d2b73": {
      "model_module": "@jupyter-widgets/controls",
      "model_module_version": "1.5.0",
      "model_name": "HTMLModel",
      "state": {
       "_dom_classes": [],
       "_model_module": "@jupyter-widgets/controls",
       "_model_module_version": "1.5.0",
       "_model_name": "HTMLModel",
       "_view_count": null,
       "_view_module": "@jupyter-widgets/controls",
       "_view_module_version": "1.5.0",
       "_view_name": "HTMLView",
       "description": "",
       "description_tooltip": null,
       "layout": "IPY_MODEL_a163f421e9fa409499c185ab68f40d0d",
       "placeholder": "​",
       "style": "IPY_MODEL_fceef0c167334579bd80353726a668e1",
       "value": " 442M/442M [00:13&lt;00:00, 32.0MB/s]"
      }
     },
     "2bb6c2704d2f48fab00109da1c2dd8f7": {
      "model_module": "@jupyter-widgets/controls",
      "model_module_version": "1.5.0",
      "model_name": "HBoxModel",
      "state": {
       "_dom_classes": [],
       "_model_module": "@jupyter-widgets/controls",
       "_model_module_version": "1.5.0",
       "_model_name": "HBoxModel",
       "_view_count": null,
       "_view_module": "@jupyter-widgets/controls",
       "_view_module_version": "1.5.0",
       "_view_name": "HBoxView",
       "box_style": "",
       "children": [
        "IPY_MODEL_cdd504ac76664485a5b0b570c608292a",
        "IPY_MODEL_84437272debf49fd9c092cf0c6242dff"
       ],
       "layout": "IPY_MODEL_670bde42c92a44f8b555340f570bb8b3"
      }
     },
     "406e8245b14b4d87b292361ebe82a9e4": {
      "model_module": "@jupyter-widgets/controls",
      "model_module_version": "1.5.0",
      "model_name": "HTMLModel",
      "state": {
       "_dom_classes": [],
       "_model_module": "@jupyter-widgets/controls",
       "_model_module_version": "1.5.0",
       "_model_name": "HTMLModel",
       "_view_count": null,
       "_view_module": "@jupyter-widgets/controls",
       "_view_module_version": "1.5.0",
       "_view_name": "HTMLView",
       "description": "",
       "description_tooltip": null,
       "layout": "IPY_MODEL_0d97375c8cf4490b9f42b869a6bf9a7b",
       "placeholder": "​",
       "style": "IPY_MODEL_ce910eb0086e4116b694cfe18888a2b9",
       "value": " 385/385 [00:02&lt;00:00, 136B/s]"
      }
     },
     "57af6e3c5df44b43987d8bf4c1728d51": {
      "model_module": "@jupyter-widgets/controls",
      "model_module_version": "1.5.0",
      "model_name": "DescriptionStyleModel",
      "state": {
       "_model_module": "@jupyter-widgets/controls",
       "_model_module_version": "1.5.0",
       "_model_name": "DescriptionStyleModel",
       "_view_count": null,
       "_view_module": "@jupyter-widgets/base",
       "_view_module_version": "1.2.0",
       "_view_name": "StyleView",
       "description_width": ""
      }
     },
     "670bde42c92a44f8b555340f570bb8b3": {
      "model_module": "@jupyter-widgets/base",
      "model_module_version": "1.2.0",
      "model_name": "LayoutModel",
      "state": {
       "_model_module": "@jupyter-widgets/base",
       "_model_module_version": "1.2.0",
       "_model_name": "LayoutModel",
       "_view_count": null,
       "_view_module": "@jupyter-widgets/base",
       "_view_module_version": "1.2.0",
       "_view_name": "LayoutView",
       "align_content": null,
       "align_items": null,
       "align_self": null,
       "border": null,
       "bottom": null,
       "display": null,
       "flex": null,
       "flex_flow": null,
       "grid_area": null,
       "grid_auto_columns": null,
       "grid_auto_flow": null,
       "grid_auto_rows": null,
       "grid_column": null,
       "grid_gap": null,
       "grid_row": null,
       "grid_template_areas": null,
       "grid_template_columns": null,
       "grid_template_rows": null,
       "height": null,
       "justify_content": null,
       "justify_items": null,
       "left": null,
       "margin": null,
       "max_height": null,
       "max_width": null,
       "min_height": null,
       "min_width": null,
       "object_fit": null,
       "object_position": null,
       "order": null,
       "overflow": null,
       "overflow_x": null,
       "overflow_y": null,
       "padding": null,
       "right": null,
       "top": null,
       "visibility": null,
       "width": null
      }
     },
     "692ef6bcbbd848ef9f88fcb5fac79a8b": {
      "model_module": "@jupyter-widgets/controls",
      "model_module_version": "1.5.0",
      "model_name": "ProgressStyleModel",
      "state": {
       "_model_module": "@jupyter-widgets/controls",
       "_model_module_version": "1.5.0",
       "_model_name": "ProgressStyleModel",
       "_view_count": null,
       "_view_module": "@jupyter-widgets/base",
       "_view_module_version": "1.2.0",
       "_view_name": "StyleView",
       "bar_color": null,
       "description_width": "initial"
      }
     },
     "7a9bd2c8f8d34d5aa171ea9b9da2f913": {
      "model_module": "@jupyter-widgets/base",
      "model_module_version": "1.2.0",
      "model_name": "LayoutModel",
      "state": {
       "_model_module": "@jupyter-widgets/base",
       "_model_module_version": "1.2.0",
       "_model_name": "LayoutModel",
       "_view_count": null,
       "_view_module": "@jupyter-widgets/base",
       "_view_module_version": "1.2.0",
       "_view_name": "LayoutView",
       "align_content": null,
       "align_items": null,
       "align_self": null,
       "border": null,
       "bottom": null,
       "display": null,
       "flex": null,
       "flex_flow": null,
       "grid_area": null,
       "grid_auto_columns": null,
       "grid_auto_flow": null,
       "grid_auto_rows": null,
       "grid_column": null,
       "grid_gap": null,
       "grid_row": null,
       "grid_template_areas": null,
       "grid_template_columns": null,
       "grid_template_rows": null,
       "height": null,
       "justify_content": null,
       "justify_items": null,
       "left": null,
       "margin": null,
       "max_height": null,
       "max_width": null,
       "min_height": null,
       "min_width": null,
       "object_fit": null,
       "object_position": null,
       "order": null,
       "overflow": null,
       "overflow_x": null,
       "overflow_y": null,
       "padding": null,
       "right": null,
       "top": null,
       "visibility": null,
       "width": null
      }
     },
     "84437272debf49fd9c092cf0c6242dff": {
      "model_module": "@jupyter-widgets/controls",
      "model_module_version": "1.5.0",
      "model_name": "HTMLModel",
      "state": {
       "_dom_classes": [],
       "_model_module": "@jupyter-widgets/controls",
       "_model_module_version": "1.5.0",
       "_model_name": "HTMLModel",
       "_view_count": null,
       "_view_module": "@jupyter-widgets/controls",
       "_view_module_version": "1.5.0",
       "_view_name": "HTMLView",
       "description": "",
       "description_tooltip": null,
       "layout": "IPY_MODEL_ad5d29a42822421ab7129c97f67d7018",
       "placeholder": "​",
       "style": "IPY_MODEL_57af6e3c5df44b43987d8bf4c1728d51",
       "value": " 228k/228k [00:00&lt;00:00, 446kB/s]"
      }
     },
     "93f15ef912d246d3983353683a60f5bd": {
      "model_module": "@jupyter-widgets/base",
      "model_module_version": "1.2.0",
      "model_name": "LayoutModel",
      "state": {
       "_model_module": "@jupyter-widgets/base",
       "_model_module_version": "1.2.0",
       "_model_name": "LayoutModel",
       "_view_count": null,
       "_view_module": "@jupyter-widgets/base",
       "_view_module_version": "1.2.0",
       "_view_name": "LayoutView",
       "align_content": null,
       "align_items": null,
       "align_self": null,
       "border": null,
       "bottom": null,
       "display": null,
       "flex": null,
       "flex_flow": null,
       "grid_area": null,
       "grid_auto_columns": null,
       "grid_auto_flow": null,
       "grid_auto_rows": null,
       "grid_column": null,
       "grid_gap": null,
       "grid_row": null,
       "grid_template_areas": null,
       "grid_template_columns": null,
       "grid_template_rows": null,
       "height": null,
       "justify_content": null,
       "justify_items": null,
       "left": null,
       "margin": null,
       "max_height": null,
       "max_width": null,
       "min_height": null,
       "min_width": null,
       "object_fit": null,
       "object_position": null,
       "order": null,
       "overflow": null,
       "overflow_x": null,
       "overflow_y": null,
       "padding": null,
       "right": null,
       "top": null,
       "visibility": null,
       "width": null
      }
     },
     "9d2aee8a1cb747f7a8da6ecaad4bc05a": {
      "model_module": "@jupyter-widgets/base",
      "model_module_version": "1.2.0",
      "model_name": "LayoutModel",
      "state": {
       "_model_module": "@jupyter-widgets/base",
       "_model_module_version": "1.2.0",
       "_model_name": "LayoutModel",
       "_view_count": null,
       "_view_module": "@jupyter-widgets/base",
       "_view_module_version": "1.2.0",
       "_view_name": "LayoutView",
       "align_content": null,
       "align_items": null,
       "align_self": null,
       "border": null,
       "bottom": null,
       "display": null,
       "flex": null,
       "flex_flow": null,
       "grid_area": null,
       "grid_auto_columns": null,
       "grid_auto_flow": null,
       "grid_auto_rows": null,
       "grid_column": null,
       "grid_gap": null,
       "grid_row": null,
       "grid_template_areas": null,
       "grid_template_columns": null,
       "grid_template_rows": null,
       "height": null,
       "justify_content": null,
       "justify_items": null,
       "left": null,
       "margin": null,
       "max_height": null,
       "max_width": null,
       "min_height": null,
       "min_width": null,
       "object_fit": null,
       "object_position": null,
       "order": null,
       "overflow": null,
       "overflow_x": null,
       "overflow_y": null,
       "padding": null,
       "right": null,
       "top": null,
       "visibility": null,
       "width": null
      }
     },
     "a163f421e9fa409499c185ab68f40d0d": {
      "model_module": "@jupyter-widgets/base",
      "model_module_version": "1.2.0",
      "model_name": "LayoutModel",
      "state": {
       "_model_module": "@jupyter-widgets/base",
       "_model_module_version": "1.2.0",
       "_model_name": "LayoutModel",
       "_view_count": null,
       "_view_module": "@jupyter-widgets/base",
       "_view_module_version": "1.2.0",
       "_view_name": "LayoutView",
       "align_content": null,
       "align_items": null,
       "align_self": null,
       "border": null,
       "bottom": null,
       "display": null,
       "flex": null,
       "flex_flow": null,
       "grid_area": null,
       "grid_auto_columns": null,
       "grid_auto_flow": null,
       "grid_auto_rows": null,
       "grid_column": null,
       "grid_gap": null,
       "grid_row": null,
       "grid_template_areas": null,
       "grid_template_columns": null,
       "grid_template_rows": null,
       "height": null,
       "justify_content": null,
       "justify_items": null,
       "left": null,
       "margin": null,
       "max_height": null,
       "max_width": null,
       "min_height": null,
       "min_width": null,
       "object_fit": null,
       "object_position": null,
       "order": null,
       "overflow": null,
       "overflow_x": null,
       "overflow_y": null,
       "padding": null,
       "right": null,
       "top": null,
       "visibility": null,
       "width": null
      }
     },
     "a61cd750279d457da0a80f0dc69fd197": {
      "model_module": "@jupyter-widgets/controls",
      "model_module_version": "1.5.0",
      "model_name": "HBoxModel",
      "state": {
       "_dom_classes": [],
       "_model_module": "@jupyter-widgets/controls",
       "_model_module_version": "1.5.0",
       "_model_name": "HBoxModel",
       "_view_count": null,
       "_view_module": "@jupyter-widgets/controls",
       "_view_module_version": "1.5.0",
       "_view_name": "HBoxView",
       "box_style": "",
       "children": [
        "IPY_MODEL_fdea76e392f84bb39fd31bd2ccf720e8",
        "IPY_MODEL_257b49ceabdb49dfb65bc423138d2b73"
       ],
       "layout": "IPY_MODEL_9d2aee8a1cb747f7a8da6ecaad4bc05a"
      }
     },
     "ab67b4e335574c3f9999337bef52f9f7": {
      "model_module": "@jupyter-widgets/base",
      "model_module_version": "1.2.0",
      "model_name": "LayoutModel",
      "state": {
       "_model_module": "@jupyter-widgets/base",
       "_model_module_version": "1.2.0",
       "_model_name": "LayoutModel",
       "_view_count": null,
       "_view_module": "@jupyter-widgets/base",
       "_view_module_version": "1.2.0",
       "_view_name": "LayoutView",
       "align_content": null,
       "align_items": null,
       "align_self": null,
       "border": null,
       "bottom": null,
       "display": null,
       "flex": null,
       "flex_flow": null,
       "grid_area": null,
       "grid_auto_columns": null,
       "grid_auto_flow": null,
       "grid_auto_rows": null,
       "grid_column": null,
       "grid_gap": null,
       "grid_row": null,
       "grid_template_areas": null,
       "grid_template_columns": null,
       "grid_template_rows": null,
       "height": null,
       "justify_content": null,
       "justify_items": null,
       "left": null,
       "margin": null,
       "max_height": null,
       "max_width": null,
       "min_height": null,
       "min_width": null,
       "object_fit": null,
       "object_position": null,
       "order": null,
       "overflow": null,
       "overflow_x": null,
       "overflow_y": null,
       "padding": null,
       "right": null,
       "top": null,
       "visibility": null,
       "width": null
      }
     },
     "ad5d29a42822421ab7129c97f67d7018": {
      "model_module": "@jupyter-widgets/base",
      "model_module_version": "1.2.0",
      "model_name": "LayoutModel",
      "state": {
       "_model_module": "@jupyter-widgets/base",
       "_model_module_version": "1.2.0",
       "_model_name": "LayoutModel",
       "_view_count": null,
       "_view_module": "@jupyter-widgets/base",
       "_view_module_version": "1.2.0",
       "_view_name": "LayoutView",
       "align_content": null,
       "align_items": null,
       "align_self": null,
       "border": null,
       "bottom": null,
       "display": null,
       "flex": null,
       "flex_flow": null,
       "grid_area": null,
       "grid_auto_columns": null,
       "grid_auto_flow": null,
       "grid_auto_rows": null,
       "grid_column": null,
       "grid_gap": null,
       "grid_row": null,
       "grid_template_areas": null,
       "grid_template_columns": null,
       "grid_template_rows": null,
       "height": null,
       "justify_content": null,
       "justify_items": null,
       "left": null,
       "margin": null,
       "max_height": null,
       "max_width": null,
       "min_height": null,
       "min_width": null,
       "object_fit": null,
       "object_position": null,
       "order": null,
       "overflow": null,
       "overflow_x": null,
       "overflow_y": null,
       "padding": null,
       "right": null,
       "top": null,
       "visibility": null,
       "width": null
      }
     },
     "adbbe4b042894675a5186daeeb0c5073": {
      "model_module": "@jupyter-widgets/base",
      "model_module_version": "1.2.0",
      "model_name": "LayoutModel",
      "state": {
       "_model_module": "@jupyter-widgets/base",
       "_model_module_version": "1.2.0",
       "_model_name": "LayoutModel",
       "_view_count": null,
       "_view_module": "@jupyter-widgets/base",
       "_view_module_version": "1.2.0",
       "_view_name": "LayoutView",
       "align_content": null,
       "align_items": null,
       "align_self": null,
       "border": null,
       "bottom": null,
       "display": null,
       "flex": null,
       "flex_flow": null,
       "grid_area": null,
       "grid_auto_columns": null,
       "grid_auto_flow": null,
       "grid_auto_rows": null,
       "grid_column": null,
       "grid_gap": null,
       "grid_row": null,
       "grid_template_areas": null,
       "grid_template_columns": null,
       "grid_template_rows": null,
       "height": null,
       "justify_content": null,
       "justify_items": null,
       "left": null,
       "margin": null,
       "max_height": null,
       "max_width": null,
       "min_height": null,
       "min_width": null,
       "object_fit": null,
       "object_position": null,
       "order": null,
       "overflow": null,
       "overflow_x": null,
       "overflow_y": null,
       "padding": null,
       "right": null,
       "top": null,
       "visibility": null,
       "width": null
      }
     },
     "b98309aa449d417795540a00715a9297": {
      "model_module": "@jupyter-widgets/controls",
      "model_module_version": "1.5.0",
      "model_name": "ProgressStyleModel",
      "state": {
       "_model_module": "@jupyter-widgets/controls",
       "_model_module_version": "1.5.0",
       "_model_name": "ProgressStyleModel",
       "_view_count": null,
       "_view_module": "@jupyter-widgets/base",
       "_view_module_version": "1.2.0",
       "_view_name": "StyleView",
       "bar_color": null,
       "description_width": "initial"
      }
     },
     "c177a6bf4ccd46c09f096fa3c8ce7beb": {
      "model_module": "@jupyter-widgets/controls",
      "model_module_version": "1.5.0",
      "model_name": "HBoxModel",
      "state": {
       "_dom_classes": [],
       "_model_module": "@jupyter-widgets/controls",
       "_model_module_version": "1.5.0",
       "_model_name": "HBoxModel",
       "_view_count": null,
       "_view_module": "@jupyter-widgets/controls",
       "_view_module_version": "1.5.0",
       "_view_name": "HBoxView",
       "box_style": "",
       "children": [
        "IPY_MODEL_2008a61c6d96438f9a1920ec6c53916d",
        "IPY_MODEL_406e8245b14b4d87b292361ebe82a9e4"
       ],
       "layout": "IPY_MODEL_adbbe4b042894675a5186daeeb0c5073"
      }
     },
     "cdd504ac76664485a5b0b570c608292a": {
      "model_module": "@jupyter-widgets/controls",
      "model_module_version": "1.5.0",
      "model_name": "FloatProgressModel",
      "state": {
       "_dom_classes": [],
       "_model_module": "@jupyter-widgets/controls",
       "_model_module_version": "1.5.0",
       "_model_name": "FloatProgressModel",
       "_view_count": null,
       "_view_module": "@jupyter-widgets/controls",
       "_view_module_version": "1.5.0",
       "_view_name": "ProgressView",
       "bar_style": "success",
       "description": "Downloading: 100%",
       "description_tooltip": null,
       "layout": "IPY_MODEL_ab67b4e335574c3f9999337bef52f9f7",
       "max": 227845,
       "min": 0,
       "orientation": "horizontal",
       "style": "IPY_MODEL_14684870748e4fbe88450d1bf883c1c5",
       "value": 227845
      }
     },
     "ce910eb0086e4116b694cfe18888a2b9": {
      "model_module": "@jupyter-widgets/controls",
      "model_module_version": "1.5.0",
      "model_name": "DescriptionStyleModel",
      "state": {
       "_model_module": "@jupyter-widgets/controls",
       "_model_module_version": "1.5.0",
       "_model_name": "DescriptionStyleModel",
       "_view_count": null,
       "_view_module": "@jupyter-widgets/base",
       "_view_module_version": "1.2.0",
       "_view_name": "StyleView",
       "description_width": ""
      }
     },
     "fceef0c167334579bd80353726a668e1": {
      "model_module": "@jupyter-widgets/controls",
      "model_module_version": "1.5.0",
      "model_name": "DescriptionStyleModel",
      "state": {
       "_model_module": "@jupyter-widgets/controls",
       "_model_module_version": "1.5.0",
       "_model_name": "DescriptionStyleModel",
       "_view_count": null,
       "_view_module": "@jupyter-widgets/base",
       "_view_module_version": "1.2.0",
       "_view_name": "StyleView",
       "description_width": ""
      }
     },
     "fdea76e392f84bb39fd31bd2ccf720e8": {
      "model_module": "@jupyter-widgets/controls",
      "model_module_version": "1.5.0",
      "model_name": "FloatProgressModel",
      "state": {
       "_dom_classes": [],
       "_model_module": "@jupyter-widgets/controls",
       "_model_module_version": "1.5.0",
       "_model_name": "FloatProgressModel",
       "_view_count": null,
       "_view_module": "@jupyter-widgets/controls",
       "_view_module_version": "1.5.0",
       "_view_name": "ProgressView",
       "bar_style": "success",
       "description": "Downloading: 100%",
       "description_tooltip": null,
       "layout": "IPY_MODEL_93f15ef912d246d3983353683a60f5bd",
       "max": 442221694,
       "min": 0,
       "orientation": "horizontal",
       "style": "IPY_MODEL_b98309aa449d417795540a00715a9297",
       "value": 442221694
      }
     }
    },
    "version_major": 2,
    "version_minor": 0
   }
  }
 },
 "nbformat": 4,
 "nbformat_minor": 4
}
